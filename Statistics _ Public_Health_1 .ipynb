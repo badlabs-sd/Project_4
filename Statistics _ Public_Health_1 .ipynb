{
 "cells": [
  {
   "cell_type": "code",
   "execution_count": 1,
   "metadata": {},
   "outputs": [],
   "source": [
    "#library\n",
    "import numpy as np\n",
    "import pandas as pd\n",
    "import matplotlib.pyplot as plt\n",
    "import seaborn as sns\n",
    "import warnings\n",
    "warnings.filterwarnings('ignore')\n",
    "sns.set_theme(style=\"whitegrid\", palette=\"viridis\")"
   ]
  },
  {
   "cell_type": "markdown",
   "metadata": {},
   "source": [
    "# Statistics & Public Health\n",
    "West Nile Virus (WNV) is a viral illness largely spread by mosquitoes. The disease is transmitted to a person when an infected mosquito bites them.\n",
    "The city of Chicago, Illinois has been keeping track of mosquito population and WNV prevalence using a series of traps that they place around the city. \n",
    "They are then able to study the captured specimens and monitor the state of WNV spread in the city.\n",
    "\n",
    "### Data Dictionary\n",
    "- Year (int64)\tYear that the WNV test is performed\t\t\t\n",
    "- Week  (int64)\tWeek that the WNV test is performed\t\t\t\n",
    "- Address (string)\t Block\tAddress of the location of trap.\t\t\n",
    "- Block (int64)\tBlock number of address\t\t\n",
    "- Trap_Id (string) of the trap. Some traps are \"satellite traps\". These are traps that are set up near (usually within 6 blocks) an established trap to enhance surveillance efforts. Satellite traps are post fixed with letters. For example, T220A is a satellite trap to T220.\t\n",
    "- Trap_type (string) Type of trap \t\t\n",
    "- Date (string)\tDate and time that the WNV test is performed. Please note that not all the locations are tested at all times. Also, records exist only when a particular species of mosquitoes is found at a certain trap at a certain time.\t\n",
    "- Mosquito_number (int64) Number of mosquitoes caught in this trap. These test results are organized in such a way that when the number of mosquitoes exceed 50, they are split into another record (another row in the dataset), such that the number of mosquitoes are capped at 50.\t\n",
    "- Mosquito_ID  (string)\tId for Mosquito species\tstring\t\t\n",
    "- WNV  Present  (string) Whether West Nile Virus was present in these mosquitos\t\t\n",
    "- Species (string) Mosquito species\tstring\t\t\n",
    "- Lat (float64)\tLatitude of trap\t\n",
    "- Lon( float64)\tLongitude of trap"
   ]
  },
  {
   "cell_type": "markdown",
   "metadata": {},
   "source": [
    "### Importing data"
   ]
  },
  {
   "cell_type": "code",
   "execution_count": 2,
   "metadata": {},
   "outputs": [
    {
     "data": {
      "text/html": [
       "<div>\n",
       "<style scoped>\n",
       "    .dataframe tbody tr th:only-of-type {\n",
       "        vertical-align: middle;\n",
       "    }\n",
       "\n",
       "    .dataframe tbody tr th {\n",
       "        vertical-align: top;\n",
       "    }\n",
       "\n",
       "    .dataframe thead th {\n",
       "        text-align: right;\n",
       "    }\n",
       "</style>\n",
       "<table border=\"1\" class=\"dataframe\">\n",
       "  <thead>\n",
       "    <tr style=\"text-align: right;\">\n",
       "      <th></th>\n",
       "      <th>Year</th>\n",
       "      <th>Week</th>\n",
       "      <th>Address Block</th>\n",
       "      <th>Block</th>\n",
       "      <th>Trap</th>\n",
       "      <th>Trap type</th>\n",
       "      <th>Date</th>\n",
       "      <th>Mosquito number</th>\n",
       "      <th>Mosquito ID</th>\n",
       "      <th>WNV Present</th>\n",
       "      <th>Species</th>\n",
       "      <th>Lat</th>\n",
       "      <th>Lon</th>\n",
       "    </tr>\n",
       "  </thead>\n",
       "  <tbody>\n",
       "    <tr>\n",
       "      <th>0</th>\n",
       "      <td>2019</td>\n",
       "      <td>39</td>\n",
       "      <td>100XX W OHARE AIRPORT</td>\n",
       "      <td>100</td>\n",
       "      <td>T910</td>\n",
       "      <td>GRAVID</td>\n",
       "      <td>2019-09-26 00:09:00</td>\n",
       "      <td>2</td>\n",
       "      <td>Res</td>\n",
       "      <td>negative</td>\n",
       "      <td>CULEX RESTUANS</td>\n",
       "      <td>NaN</td>\n",
       "      <td>NaN</td>\n",
       "    </tr>\n",
       "    <tr>\n",
       "      <th>1</th>\n",
       "      <td>2019</td>\n",
       "      <td>39</td>\n",
       "      <td>52XX S KOLMAR AVE</td>\n",
       "      <td>52</td>\n",
       "      <td>T114</td>\n",
       "      <td>GRAVID</td>\n",
       "      <td>2019-09-26 00:09:00</td>\n",
       "      <td>1</td>\n",
       "      <td>Res</td>\n",
       "      <td>negative</td>\n",
       "      <td>CULEX RESTUANS</td>\n",
       "      <td>41.798211</td>\n",
       "      <td>-87.736925</td>\n",
       "    </tr>\n",
       "    <tr>\n",
       "      <th>2</th>\n",
       "      <td>2019</td>\n",
       "      <td>39</td>\n",
       "      <td>58XX N WESTERN AVE</td>\n",
       "      <td>58</td>\n",
       "      <td>T028</td>\n",
       "      <td>GRAVID</td>\n",
       "      <td>2019-09-26 00:09:00</td>\n",
       "      <td>2</td>\n",
       "      <td>Res</td>\n",
       "      <td>negative</td>\n",
       "      <td>CULEX RESTUANS</td>\n",
       "      <td>41.987245</td>\n",
       "      <td>-87.689417</td>\n",
       "    </tr>\n",
       "    <tr>\n",
       "      <th>3</th>\n",
       "      <td>2019</td>\n",
       "      <td>39</td>\n",
       "      <td>39XX N SPRINGFIELD AVE</td>\n",
       "      <td>39</td>\n",
       "      <td>T228</td>\n",
       "      <td>GRAVID</td>\n",
       "      <td>2019-09-26 00:09:00</td>\n",
       "      <td>1</td>\n",
       "      <td>Res</td>\n",
       "      <td>negative</td>\n",
       "      <td>CULEX RESTUANS</td>\n",
       "      <td>41.953664</td>\n",
       "      <td>-87.724987</td>\n",
       "    </tr>\n",
       "    <tr>\n",
       "      <th>4</th>\n",
       "      <td>2019</td>\n",
       "      <td>39</td>\n",
       "      <td>131XX S BRANDON AVE</td>\n",
       "      <td>131</td>\n",
       "      <td>T209</td>\n",
       "      <td>GRAVID</td>\n",
       "      <td>2019-09-26 00:09:00</td>\n",
       "      <td>9</td>\n",
       "      <td>Res</td>\n",
       "      <td>negative</td>\n",
       "      <td>CULEX RESTUANS</td>\n",
       "      <td>41.657069</td>\n",
       "      <td>-87.546049</td>\n",
       "    </tr>\n",
       "    <tr>\n",
       "      <th>5</th>\n",
       "      <td>2019</td>\n",
       "      <td>39</td>\n",
       "      <td>21XX N CANNON DR</td>\n",
       "      <td>21</td>\n",
       "      <td>T054C</td>\n",
       "      <td>GRAVID</td>\n",
       "      <td>2019-09-26 00:09:00</td>\n",
       "      <td>2</td>\n",
       "      <td>Res</td>\n",
       "      <td>negative</td>\n",
       "      <td>CULEX RESTUANS</td>\n",
       "      <td>41.921777</td>\n",
       "      <td>-87.632140</td>\n",
       "    </tr>\n",
       "    <tr>\n",
       "      <th>6</th>\n",
       "      <td>2019</td>\n",
       "      <td>39</td>\n",
       "      <td>11XX W ROOSEVELT RD</td>\n",
       "      <td>11</td>\n",
       "      <td>T048</td>\n",
       "      <td>GRAVID</td>\n",
       "      <td>2019-09-26 00:09:00</td>\n",
       "      <td>3</td>\n",
       "      <td>Res</td>\n",
       "      <td>negative</td>\n",
       "      <td>CULEX RESTUANS</td>\n",
       "      <td>41.866915</td>\n",
       "      <td>-87.654919</td>\n",
       "    </tr>\n",
       "    <tr>\n",
       "      <th>7</th>\n",
       "      <td>2019</td>\n",
       "      <td>39</td>\n",
       "      <td>22XX W 51ST ST</td>\n",
       "      <td>22</td>\n",
       "      <td>T061</td>\n",
       "      <td>GRAVID</td>\n",
       "      <td>2019-09-26 00:09:00</td>\n",
       "      <td>2</td>\n",
       "      <td>Res</td>\n",
       "      <td>negative</td>\n",
       "      <td>CULEX RESTUANS</td>\n",
       "      <td>41.801048</td>\n",
       "      <td>-87.680425</td>\n",
       "    </tr>\n",
       "    <tr>\n",
       "      <th>8</th>\n",
       "      <td>2019</td>\n",
       "      <td>39</td>\n",
       "      <td>22XX N CANNON DR</td>\n",
       "      <td>22</td>\n",
       "      <td>T054A</td>\n",
       "      <td>GRAVID</td>\n",
       "      <td>2019-09-26 00:09:00</td>\n",
       "      <td>1</td>\n",
       "      <td>Ter</td>\n",
       "      <td>negative</td>\n",
       "      <td>CULEX TERRITANS</td>\n",
       "      <td>41.922737</td>\n",
       "      <td>-87.632450</td>\n",
       "    </tr>\n",
       "    <tr>\n",
       "      <th>9</th>\n",
       "      <td>2019</td>\n",
       "      <td>39</td>\n",
       "      <td>3XX W 104TH ST</td>\n",
       "      <td>3</td>\n",
       "      <td>T095</td>\n",
       "      <td>GRAVID</td>\n",
       "      <td>2019-09-26 00:09:00</td>\n",
       "      <td>1</td>\n",
       "      <td>Sal</td>\n",
       "      <td>negative</td>\n",
       "      <td>CULEX SALINARIUS</td>\n",
       "      <td>41.705328</td>\n",
       "      <td>-87.632955</td>\n",
       "    </tr>\n",
       "  </tbody>\n",
       "</table>\n",
       "</div>"
      ],
      "text/plain": [
       "   Year  Week           Address Block  Block   Trap Trap type  \\\n",
       "0  2019    39   100XX W OHARE AIRPORT    100   T910    GRAVID   \n",
       "1  2019    39       52XX S KOLMAR AVE     52   T114    GRAVID   \n",
       "2  2019    39      58XX N WESTERN AVE     58   T028    GRAVID   \n",
       "3  2019    39  39XX N SPRINGFIELD AVE     39   T228    GRAVID   \n",
       "4  2019    39     131XX S BRANDON AVE    131   T209    GRAVID   \n",
       "5  2019    39        21XX N CANNON DR     21  T054C    GRAVID   \n",
       "6  2019    39     11XX W ROOSEVELT RD     11   T048    GRAVID   \n",
       "7  2019    39          22XX W 51ST ST     22   T061    GRAVID   \n",
       "8  2019    39        22XX N CANNON DR     22  T054A    GRAVID   \n",
       "9  2019    39          3XX W 104TH ST      3   T095    GRAVID   \n",
       "\n",
       "                  Date  Mosquito number Mosquito ID WNV Present  \\\n",
       "0  2019-09-26 00:09:00                2         Res    negative   \n",
       "1  2019-09-26 00:09:00                1         Res    negative   \n",
       "2  2019-09-26 00:09:00                2         Res    negative   \n",
       "3  2019-09-26 00:09:00                1         Res    negative   \n",
       "4  2019-09-26 00:09:00                9         Res    negative   \n",
       "5  2019-09-26 00:09:00                2         Res    negative   \n",
       "6  2019-09-26 00:09:00                3         Res    negative   \n",
       "7  2019-09-26 00:09:00                2         Res    negative   \n",
       "8  2019-09-26 00:09:00                1         Ter    negative   \n",
       "9  2019-09-26 00:09:00                1         Sal    negative   \n",
       "\n",
       "            Species        Lat        Lon  \n",
       "0    CULEX RESTUANS        NaN        NaN  \n",
       "1    CULEX RESTUANS  41.798211 -87.736925  \n",
       "2    CULEX RESTUANS  41.987245 -87.689417  \n",
       "3    CULEX RESTUANS  41.953664 -87.724987  \n",
       "4    CULEX RESTUANS  41.657069 -87.546049  \n",
       "5    CULEX RESTUANS  41.921777 -87.632140  \n",
       "6    CULEX RESTUANS  41.866915 -87.654919  \n",
       "7    CULEX RESTUANS  41.801048 -87.680425  \n",
       "8   CULEX TERRITANS  41.922737 -87.632450  \n",
       "9  CULEX SALINARIUS  41.705328 -87.632955  "
      ]
     },
     "execution_count": 2,
     "metadata": {},
     "output_type": "execute_result"
    }
   ],
   "source": [
    "df = pd.read_csv(\"mosquito_data.csv\")\n",
    "df.head(10)"
   ]
  },
  {
   "cell_type": "markdown",
   "metadata": {},
   "source": [
    "### Exploring the initial information about the Data Set"
   ]
  },
  {
   "cell_type": "code",
   "execution_count": 3,
   "metadata": {},
   "outputs": [
    {
     "name": "stdout",
     "output_type": "stream",
     "text": [
      "<class 'pandas.core.frame.DataFrame'>\n",
      "RangeIndex: 18495 entries, 0 to 18494\n",
      "Data columns (total 13 columns):\n",
      " #   Column           Non-Null Count  Dtype  \n",
      "---  ------           --------------  -----  \n",
      " 0   Year             18495 non-null  int64  \n",
      " 1   Week             18495 non-null  int64  \n",
      " 2   Address Block    18495 non-null  object \n",
      " 3   Block            18495 non-null  int64  \n",
      " 4   Trap             18495 non-null  object \n",
      " 5   Trap type        18495 non-null  object \n",
      " 6   Date             18495 non-null  object \n",
      " 7   Mosquito number  18495 non-null  int64  \n",
      " 8   Mosquito ID      18495 non-null  object \n",
      " 9   WNV Present      18495 non-null  object \n",
      " 10  Species          18495 non-null  object \n",
      " 11  Lat              15571 non-null  float64\n",
      " 12  Lon              15571 non-null  float64\n",
      "dtypes: float64(2), int64(4), object(7)\n",
      "memory usage: 1.8+ MB\n"
     ]
    }
   ],
   "source": [
    "df.info()"
   ]
  },
  {
   "cell_type": "markdown",
   "metadata": {},
   "source": [
    "**Formatting - Column Name** "
   ]
  },
  {
   "cell_type": "code",
   "execution_count": 4,
   "metadata": {},
   "outputs": [
    {
     "data": {
      "text/plain": [
       "Index(['YEAR', 'WEEK', 'ADDRESS_BLOCK', 'BLOCK', 'TRAP', 'TRAP_TYPE', 'DATE',\n",
       "       'MOSQUITO_NUMBER', 'MOSQUITO_ID', 'WNV_PRESENT', 'SPECIES', 'LAT',\n",
       "       'LON'],\n",
       "      dtype='object')"
      ]
     },
     "execution_count": 4,
     "metadata": {},
     "output_type": "execute_result"
    }
   ],
   "source": [
    "# setting a standard nomenclature for the column names\n",
    "column_names = df.columns\n",
    "column_names = column_names.str.upper()\n",
    "new_column_name =[]\n",
    "\n",
    "for name in column_names:\n",
    "    new_column_name.append(name.replace(\" \",\"_\"))\n",
    "    \n",
    "df.columns =new_column_name    \n",
    "df.columns\n"
   ]
  },
  {
   "cell_type": "markdown",
   "metadata": {},
   "source": [
    "Replacing the spaces in the column name with \"_\" and converting into UPPER CASE to establish a structure which can be used to differentiate column name of the dataset from the variables in the overall project"
   ]
  },
  {
   "cell_type": "markdown",
   "metadata": {},
   "source": [
    "### Exploring the Basic statistic about the DataSet"
   ]
  },
  {
   "cell_type": "code",
   "execution_count": 5,
   "metadata": {},
   "outputs": [
    {
     "data": {
      "text/html": [
       "<div>\n",
       "<style scoped>\n",
       "    .dataframe tbody tr th:only-of-type {\n",
       "        vertical-align: middle;\n",
       "    }\n",
       "\n",
       "    .dataframe tbody tr th {\n",
       "        vertical-align: top;\n",
       "    }\n",
       "\n",
       "    .dataframe thead th {\n",
       "        text-align: right;\n",
       "    }\n",
       "</style>\n",
       "<table border=\"1\" class=\"dataframe\">\n",
       "  <thead>\n",
       "    <tr style=\"text-align: right;\">\n",
       "      <th></th>\n",
       "      <th>count</th>\n",
       "      <th>unique</th>\n",
       "      <th>top</th>\n",
       "      <th>freq</th>\n",
       "      <th>mean</th>\n",
       "      <th>std</th>\n",
       "      <th>min</th>\n",
       "      <th>25%</th>\n",
       "      <th>50%</th>\n",
       "      <th>75%</th>\n",
       "      <th>max</th>\n",
       "    </tr>\n",
       "  </thead>\n",
       "  <tbody>\n",
       "    <tr>\n",
       "      <th>YEAR</th>\n",
       "      <td>18495.0</td>\n",
       "      <td>NaN</td>\n",
       "      <td>NaN</td>\n",
       "      <td>NaN</td>\n",
       "      <td>2012.905812</td>\n",
       "      <td>3.725857</td>\n",
       "      <td>2007.0</td>\n",
       "      <td>2010.0</td>\n",
       "      <td>2013.0</td>\n",
       "      <td>2016.0</td>\n",
       "      <td>2019.0</td>\n",
       "    </tr>\n",
       "    <tr>\n",
       "      <th>WEEK</th>\n",
       "      <td>18495.0</td>\n",
       "      <td>NaN</td>\n",
       "      <td>NaN</td>\n",
       "      <td>NaN</td>\n",
       "      <td>31.004001</td>\n",
       "      <td>4.33202</td>\n",
       "      <td>20.0</td>\n",
       "      <td>28.0</td>\n",
       "      <td>31.0</td>\n",
       "      <td>34.0</td>\n",
       "      <td>40.0</td>\n",
       "    </tr>\n",
       "    <tr>\n",
       "      <th>ADDRESS_BLOCK</th>\n",
       "      <td>18495</td>\n",
       "      <td>154</td>\n",
       "      <td>100XX W OHARE AIRPORT</td>\n",
       "      <td>2039</td>\n",
       "      <td>NaN</td>\n",
       "      <td>NaN</td>\n",
       "      <td>NaN</td>\n",
       "      <td>NaN</td>\n",
       "      <td>NaN</td>\n",
       "      <td>NaN</td>\n",
       "      <td>NaN</td>\n",
       "    </tr>\n",
       "    <tr>\n",
       "      <th>BLOCK</th>\n",
       "      <td>18495.0</td>\n",
       "      <td>NaN</td>\n",
       "      <td>NaN</td>\n",
       "      <td>NaN</td>\n",
       "      <td>54.314788</td>\n",
       "      <td>36.712796</td>\n",
       "      <td>1.0</td>\n",
       "      <td>22.0</td>\n",
       "      <td>51.0</td>\n",
       "      <td>89.0</td>\n",
       "      <td>132.0</td>\n",
       "    </tr>\n",
       "    <tr>\n",
       "      <th>TRAP</th>\n",
       "      <td>18495</td>\n",
       "      <td>190</td>\n",
       "      <td>T002</td>\n",
       "      <td>406</td>\n",
       "      <td>NaN</td>\n",
       "      <td>NaN</td>\n",
       "      <td>NaN</td>\n",
       "      <td>NaN</td>\n",
       "      <td>NaN</td>\n",
       "      <td>NaN</td>\n",
       "      <td>NaN</td>\n",
       "    </tr>\n",
       "    <tr>\n",
       "      <th>TRAP_TYPE</th>\n",
       "      <td>18495</td>\n",
       "      <td>4</td>\n",
       "      <td>GRAVID</td>\n",
       "      <td>17741</td>\n",
       "      <td>NaN</td>\n",
       "      <td>NaN</td>\n",
       "      <td>NaN</td>\n",
       "      <td>NaN</td>\n",
       "      <td>NaN</td>\n",
       "      <td>NaN</td>\n",
       "      <td>NaN</td>\n",
       "    </tr>\n",
       "    <tr>\n",
       "      <th>DATE</th>\n",
       "      <td>18495</td>\n",
       "      <td>298</td>\n",
       "      <td>2016-08-11 00:08:00</td>\n",
       "      <td>244</td>\n",
       "      <td>NaN</td>\n",
       "      <td>NaN</td>\n",
       "      <td>NaN</td>\n",
       "      <td>NaN</td>\n",
       "      <td>NaN</td>\n",
       "      <td>NaN</td>\n",
       "      <td>NaN</td>\n",
       "    </tr>\n",
       "    <tr>\n",
       "      <th>MOSQUITO_NUMBER</th>\n",
       "      <td>18495.0</td>\n",
       "      <td>NaN</td>\n",
       "      <td>NaN</td>\n",
       "      <td>NaN</td>\n",
       "      <td>10.879913</td>\n",
       "      <td>13.475066</td>\n",
       "      <td>1.0</td>\n",
       "      <td>2.0</td>\n",
       "      <td>5.0</td>\n",
       "      <td>14.0</td>\n",
       "      <td>50.0</td>\n",
       "    </tr>\n",
       "    <tr>\n",
       "      <th>MOSQUITO_ID</th>\n",
       "      <td>18495</td>\n",
       "      <td>4</td>\n",
       "      <td>Res</td>\n",
       "      <td>11866</td>\n",
       "      <td>NaN</td>\n",
       "      <td>NaN</td>\n",
       "      <td>NaN</td>\n",
       "      <td>NaN</td>\n",
       "      <td>NaN</td>\n",
       "      <td>NaN</td>\n",
       "      <td>NaN</td>\n",
       "    </tr>\n",
       "    <tr>\n",
       "      <th>WNV_PRESENT</th>\n",
       "      <td>18495</td>\n",
       "      <td>2</td>\n",
       "      <td>negative</td>\n",
       "      <td>14501</td>\n",
       "      <td>NaN</td>\n",
       "      <td>NaN</td>\n",
       "      <td>NaN</td>\n",
       "      <td>NaN</td>\n",
       "      <td>NaN</td>\n",
       "      <td>NaN</td>\n",
       "      <td>NaN</td>\n",
       "    </tr>\n",
       "    <tr>\n",
       "      <th>SPECIES</th>\n",
       "      <td>18495</td>\n",
       "      <td>4</td>\n",
       "      <td>CULEX RESTUANS</td>\n",
       "      <td>11866</td>\n",
       "      <td>NaN</td>\n",
       "      <td>NaN</td>\n",
       "      <td>NaN</td>\n",
       "      <td>NaN</td>\n",
       "      <td>NaN</td>\n",
       "      <td>NaN</td>\n",
       "      <td>NaN</td>\n",
       "    </tr>\n",
       "    <tr>\n",
       "      <th>LAT</th>\n",
       "      <td>15571.0</td>\n",
       "      <td>NaN</td>\n",
       "      <td>NaN</td>\n",
       "      <td>NaN</td>\n",
       "      <td>41.839963</td>\n",
       "      <td>0.111374</td>\n",
       "      <td>41.64472</td>\n",
       "      <td>41.74267</td>\n",
       "      <td>41.845715</td>\n",
       "      <td>41.945961</td>\n",
       "      <td>42.017801</td>\n",
       "    </tr>\n",
       "    <tr>\n",
       "      <th>LON</th>\n",
       "      <td>15571.0</td>\n",
       "      <td>NaN</td>\n",
       "      <td>NaN</td>\n",
       "      <td>NaN</td>\n",
       "      <td>-87.691642</td>\n",
       "      <td>0.076545</td>\n",
       "      <td>-87.854473</td>\n",
       "      <td>-87.747459</td>\n",
       "      <td>-87.691698</td>\n",
       "      <td>-87.637873</td>\n",
       "      <td>-87.531051</td>\n",
       "    </tr>\n",
       "  </tbody>\n",
       "</table>\n",
       "</div>"
      ],
      "text/plain": [
       "                   count unique                    top   freq         mean  \\\n",
       "YEAR             18495.0    NaN                    NaN    NaN  2012.905812   \n",
       "WEEK             18495.0    NaN                    NaN    NaN    31.004001   \n",
       "ADDRESS_BLOCK      18495    154  100XX W OHARE AIRPORT   2039          NaN   \n",
       "BLOCK            18495.0    NaN                    NaN    NaN    54.314788   \n",
       "TRAP               18495    190                   T002    406          NaN   \n",
       "TRAP_TYPE          18495      4                 GRAVID  17741          NaN   \n",
       "DATE               18495    298    2016-08-11 00:08:00    244          NaN   \n",
       "MOSQUITO_NUMBER  18495.0    NaN                    NaN    NaN    10.879913   \n",
       "MOSQUITO_ID        18495      4                    Res  11866          NaN   \n",
       "WNV_PRESENT        18495      2               negative  14501          NaN   \n",
       "SPECIES            18495      4         CULEX RESTUANS  11866          NaN   \n",
       "LAT              15571.0    NaN                    NaN    NaN    41.839963   \n",
       "LON              15571.0    NaN                    NaN    NaN   -87.691642   \n",
       "\n",
       "                       std        min        25%        50%        75%  \\\n",
       "YEAR              3.725857     2007.0     2010.0     2013.0     2016.0   \n",
       "WEEK               4.33202       20.0       28.0       31.0       34.0   \n",
       "ADDRESS_BLOCK          NaN        NaN        NaN        NaN        NaN   \n",
       "BLOCK            36.712796        1.0       22.0       51.0       89.0   \n",
       "TRAP                   NaN        NaN        NaN        NaN        NaN   \n",
       "TRAP_TYPE              NaN        NaN        NaN        NaN        NaN   \n",
       "DATE                   NaN        NaN        NaN        NaN        NaN   \n",
       "MOSQUITO_NUMBER  13.475066        1.0        2.0        5.0       14.0   \n",
       "MOSQUITO_ID            NaN        NaN        NaN        NaN        NaN   \n",
       "WNV_PRESENT            NaN        NaN        NaN        NaN        NaN   \n",
       "SPECIES                NaN        NaN        NaN        NaN        NaN   \n",
       "LAT               0.111374   41.64472   41.74267  41.845715  41.945961   \n",
       "LON               0.076545 -87.854473 -87.747459 -87.691698 -87.637873   \n",
       "\n",
       "                       max  \n",
       "YEAR                2019.0  \n",
       "WEEK                  40.0  \n",
       "ADDRESS_BLOCK          NaN  \n",
       "BLOCK                132.0  \n",
       "TRAP                   NaN  \n",
       "TRAP_TYPE              NaN  \n",
       "DATE                   NaN  \n",
       "MOSQUITO_NUMBER       50.0  \n",
       "MOSQUITO_ID            NaN  \n",
       "WNV_PRESENT            NaN  \n",
       "SPECIES                NaN  \n",
       "LAT              42.017801  \n",
       "LON             -87.531051  "
      ]
     },
     "execution_count": 5,
     "metadata": {},
     "output_type": "execute_result"
    }
   ],
   "source": [
    "# Exploring the  basic statistics of the dataset\n",
    "df.describe(include=\"all\").T"
   ]
  },
  {
   "cell_type": "markdown",
   "metadata": {},
   "source": [
    "## Part 1 - Basic Data Wrangling\n",
    "### 1. What is the shape of the dataframe?"
   ]
  },
  {
   "cell_type": "code",
   "execution_count": 6,
   "metadata": {},
   "outputs": [
    {
     "name": "stdout",
     "output_type": "stream",
     "text": [
      "The dataframe contains 13 Columns and 18495 Rows\n"
     ]
    }
   ],
   "source": [
    "# Exploring the shape of the dataframe\n",
    "df_shape =df.shape\n",
    "print(f\"The dataframe contains {df_shape[1]} Columns and {df_shape[0]} Rows\")"
   ]
  },
  {
   "cell_type": "markdown",
   "metadata": {},
   "source": [
    "### 2. Convert the 'Date' column to have a datetime format."
   ]
  },
  {
   "cell_type": "code",
   "execution_count": 7,
   "metadata": {},
   "outputs": [
    {
     "data": {
      "text/plain": [
       "0   2019-09-26 00:09:00\n",
       "1   2019-09-26 00:09:00\n",
       "2   2019-09-26 00:09:00\n",
       "3   2019-09-26 00:09:00\n",
       "4   2019-09-26 00:09:00\n",
       "Name: DATE, dtype: datetime64[ns]"
      ]
     },
     "execution_count": 7,
     "metadata": {},
     "output_type": "execute_result"
    }
   ],
   "source": [
    "# converting the datatype\n",
    "df[\"DATE\"]= df[\"DATE\"].astype(\"datetime64\")\n",
    "df[\"DATE\"].head()"
   ]
  },
  {
   "cell_type": "markdown",
   "metadata": {},
   "source": [
    "### 3. Pick two numeric and two categorical columns: What data they are storing? How are they distributed?\n",
    "####  3a. Numeric Columns\n",
    "    - MOSQUITO_NUMBER\n",
    "    - WEEK"
   ]
  },
  {
   "cell_type": "code",
   "execution_count": 8,
   "metadata": {
    "scrolled": true
   },
   "outputs": [
    {
     "data": {
      "text/html": [
       "<div>\n",
       "<style scoped>\n",
       "    .dataframe tbody tr th:only-of-type {\n",
       "        vertical-align: middle;\n",
       "    }\n",
       "\n",
       "    .dataframe tbody tr th {\n",
       "        vertical-align: top;\n",
       "    }\n",
       "\n",
       "    .dataframe thead th {\n",
       "        text-align: right;\n",
       "    }\n",
       "</style>\n",
       "<table border=\"1\" class=\"dataframe\">\n",
       "  <thead>\n",
       "    <tr style=\"text-align: right;\">\n",
       "      <th></th>\n",
       "      <th>count</th>\n",
       "      <th>mean</th>\n",
       "      <th>std</th>\n",
       "      <th>min</th>\n",
       "      <th>25%</th>\n",
       "      <th>50%</th>\n",
       "      <th>75%</th>\n",
       "      <th>max</th>\n",
       "    </tr>\n",
       "  </thead>\n",
       "  <tbody>\n",
       "    <tr>\n",
       "      <th>MOSQUITO_NUMBER</th>\n",
       "      <td>18495.0</td>\n",
       "      <td>10.879913</td>\n",
       "      <td>13.475066</td>\n",
       "      <td>1.0</td>\n",
       "      <td>2.0</td>\n",
       "      <td>5.0</td>\n",
       "      <td>14.0</td>\n",
       "      <td>50.0</td>\n",
       "    </tr>\n",
       "    <tr>\n",
       "      <th>WEEK</th>\n",
       "      <td>18495.0</td>\n",
       "      <td>31.004001</td>\n",
       "      <td>4.332020</td>\n",
       "      <td>20.0</td>\n",
       "      <td>28.0</td>\n",
       "      <td>31.0</td>\n",
       "      <td>34.0</td>\n",
       "      <td>40.0</td>\n",
       "    </tr>\n",
       "  </tbody>\n",
       "</table>\n",
       "</div>"
      ],
      "text/plain": [
       "                   count       mean        std   min   25%   50%   75%   max\n",
       "MOSQUITO_NUMBER  18495.0  10.879913  13.475066   1.0   2.0   5.0  14.0  50.0\n",
       "WEEK             18495.0  31.004001   4.332020  20.0  28.0  31.0  34.0  40.0"
      ]
     },
     "execution_count": 8,
     "metadata": {},
     "output_type": "execute_result"
    }
   ],
   "source": [
    "# Exploring the basic statistic \n",
    "df[[\"MOSQUITO_NUMBER\",\"WEEK\"]].describe().T"
   ]
  },
  {
   "cell_type": "code",
   "execution_count": 9,
   "metadata": {},
   "outputs": [
    {
     "data": {
      "image/png": "[encoded data removed]",
      "text/plain": [
       "<Figure size 1440x360 with 2 Axes>"
      ]
     },
     "metadata": {},
     "output_type": "display_data"
    }
   ],
   "source": [
    "# Sub plots to evaluate the distribution of numeric variable MOSQUITO_NUMBER and WEEK\n",
    "plt.subplots(1, 2, figsize=(20, 5))\n",
    "\n",
    "plt.subplot(1, 2, 1)\n",
    "plt.hist(df[\"MOSQUITO_NUMBER\"])\n",
    "plt.title('Frequency Distribution along MOSQUITO_NUMBER')\n",
    "plt.xlabel('MOSQUITO_NUMBER')\n",
    "plt.ylabel('FREQUENCY')\n",
    "\n",
    "plt.subplot(1, 2, 2)\n",
    "plt.hist(df[\"WEEK\"],)\n",
    "plt.title('Frequency Distribution along WEEK')\n",
    "plt.xlabel('WEEK')\n",
    "plt.ylabel('FRQUENCY')\n",
    "\n",
    "plt.show()"
   ]
  },
  {
   "cell_type": "markdown",
   "metadata": {},
   "source": [
    "##### The insights drawn from the graph of the numerical column\n",
    "\n",
    "**MOSQUITO NUMBER**\n",
    "- With the frequency count close to 1000 , 0 - 5 mosquitoes per trap is most common followed by 5-10 mosquitoes per trap with a frequency count above 2000\n",
    "- The distribution is right skewed, however there is certain jump in mosquito numbers around the 50 mark.\n",
    "- Therefore, the data around the 50 mark cannot be considered as an outlier and need futher investigation.\n",
    "\n",
    "**WEEK**\n",
    "- The WNV tests are performed within the 20th-40th week of the year and the frequency of tests perfomed are normally distributed over this period.\n",
    "- The tests perfomed per week gradually increases and reaches at its peek by the 34 -35th week"
   ]
  },
  {
   "cell_type": "markdown",
   "metadata": {},
   "source": [
    "#### 3b. Categorical Columns\n",
    "    - TRAP_TYPE\n",
    "    - SPECIES"
   ]
  },
  {
   "cell_type": "code",
   "execution_count": 10,
   "metadata": {},
   "outputs": [
    {
     "data": {
      "text/plain": [
       "GRAVID      17741\n",
       "CDC           544\n",
       "SENTINEL      209\n",
       "OVI             1\n",
       "Name: TRAP_TYPE, dtype: int64"
      ]
     },
     "execution_count": 10,
     "metadata": {},
     "output_type": "execute_result"
    }
   ],
   "source": [
    "# Exploring the distribution of TRAP_TYPE\n",
    "df[\"TRAP_TYPE\"].value_counts()"
   ]
  },
  {
   "cell_type": "code",
   "execution_count": 11,
   "metadata": {},
   "outputs": [
    {
     "data": {
      "text/plain": [
       "CULEX RESTUANS      11866\n",
       "CULEX PIPIENS        5486\n",
       "CULEX TERRITANS       917\n",
       "CULEX SALINARIUS      226\n",
       "Name: SPECIES, dtype: int64"
      ]
     },
     "execution_count": 11,
     "metadata": {},
     "output_type": "execute_result"
    }
   ],
   "source": [
    "# Exploring the distribution of SPECIES\n",
    "df[\"SPECIES\"].value_counts()"
   ]
  },
  {
   "cell_type": "code",
   "execution_count": 12,
   "metadata": {
    "scrolled": true
   },
   "outputs": [
    {
     "data": {
      "image/png": "[encoded data removed]",
      "text/plain": [
       "<Figure size 1440x360 with 2 Axes>"
      ]
     },
     "metadata": {},
     "output_type": "display_data"
    }
   ],
   "source": [
    "plt.subplots(1, 2, figsize=(20,5 ))\n",
    "#Frequency Distribution along TRAP_TYPE\n",
    "plt.subplot(1, 2, 1)\n",
    "sns.countplot(data = df ,x=\"TRAP_TYPE\")\n",
    "plt.title('Frequency Distribution along TRAP_TYPE')\n",
    "plt.xlabel('TRAP_TYPE')\n",
    "plt.ylabel('COUNT')\n",
    "\n",
    "# Frequency Distribution along SPECIES\n",
    "plt.subplot(1, 2, 2)\n",
    "sns.countplot(data = df ,x=\"SPECIES\")\n",
    "plt.title('Frequency Distribution along SPECIES')\n",
    "plt.xlabel('SPECIES')\n",
    "plt.ylabel('COUNT') \n",
    "plt.show()"
   ]
  },
  {
   "cell_type": "markdown",
   "metadata": {},
   "source": [
    "The insights drawn from the graph of the Categorical column\n",
    "\n",
    "**TRAP TYPE**\n",
    "- The trap type is dvided into four categories: \n",
    "    1. GRAVID\n",
    "    2. CDC\n",
    "    3. SENTINEL\n",
    "    4. OVI\n",
    "- Gravid trap is one of the most popular type of trap as it is used 17741 times in the study compared to the other types\n",
    "- OVI  is the type which is only used once as found in the overall dataset\n",
    "\n",
    "**SPECIES**\n",
    "- There are four types of species which are identified from the data\n",
    "      1. CULEX RESTUANS      \n",
    "      2. CULEX PIPIENS        \n",
    "      3. CULEX TERRITANS       \n",
    "      4. CULEX SALINARIUS     \n",
    "- The CLUEX RESTUANS species of mosquito is the most common in the city followed by CULEX PIPIENS species\n",
    "\n"
   ]
  },
  {
   "cell_type": "markdown",
   "metadata": {},
   "source": [
    "###  4. Are there any columns that contain duplicate information? If so, remove the redundant columns."
   ]
  },
  {
   "cell_type": "code",
   "execution_count": 13,
   "metadata": {},
   "outputs": [
    {
     "data": {
      "text/plain": [
       "False    17837\n",
       "True       658\n",
       "dtype: int64"
      ]
     },
     "execution_count": 13,
     "metadata": {},
     "output_type": "execute_result"
    }
   ],
   "source": [
    "# Exploring the duplicate rows\n",
    "df.duplicated().value_counts()"
   ]
  },
  {
   "cell_type": "code",
   "execution_count": 14,
   "metadata": {},
   "outputs": [
    {
     "data": {
      "text/plain": [
       "False    17837\n",
       "dtype: int64"
      ]
     },
     "execution_count": 14,
     "metadata": {},
     "output_type": "execute_result"
    }
   ],
   "source": [
    "# Droping the 662 duplicate rows from the dataset\n",
    "df.drop_duplicates(inplace=True)\n",
    "\n",
    "# Cross validating the results\n",
    "df.duplicated().value_counts()\n"
   ]
  },
  {
   "cell_type": "code",
   "execution_count": 15,
   "metadata": {
    "scrolled": true
   },
   "outputs": [
    {
     "data": {
      "text/plain": [
       "YEAR               False\n",
       "WEEK               False\n",
       "ADDRESS_BLOCK      False\n",
       "BLOCK              False\n",
       "TRAP               False\n",
       "TRAP_TYPE          False\n",
       "DATE               False\n",
       "MOSQUITO_NUMBER    False\n",
       "MOSQUITO_ID        False\n",
       "WNV_PRESENT        False\n",
       "SPECIES            False\n",
       "LAT                False\n",
       "LON                False\n",
       "dtype: bool"
      ]
     },
     "execution_count": 15,
     "metadata": {},
     "output_type": "execute_result"
    }
   ],
   "source": [
    "# Exploring the duplicate column\n",
    "df.T.duplicated()"
   ]
  },
  {
   "cell_type": "markdown",
   "metadata": {},
   "source": [
    "Based on the above result there is no duplicate columns found .However it was observed that 4 columns, as mentioned below may contains duplicate information:\n",
    "1. \"YEAR\" and \"WEEK\" Columns may contains the information of the \"DATE Column in parts\n",
    "2. \"BLOCK\" Column may contain partial information of the \"ADDRESS_BLOCK\" Column\n",
    "3. \"MOSQUITO_ID\" may be the represenation of 1st three Character of the species in the GENUS_SPECIES nomenclature format of the \"SPECIES\" Column \n",
    "\n",
    "Based on intial observations, validation tests are done before removing the column as duplicate or redundant columns \n"
   ]
  },
  {
   "cell_type": "markdown",
   "metadata": {},
   "source": [
    "#### 4.1.1 Check  to  evaluate the similarity among DATE, WEEK and YEAR Columns\n",
    "Reference URL \n",
    "- https://stackoverflow.com/questions/49050302/pandas-convert-date-to-week-number\n",
    "- https://pandas.pydata.org/docs/reference/api/pandas.Period.week.html"
   ]
  },
  {
   "cell_type": "code",
   "execution_count": 16,
   "metadata": {},
   "outputs": [
    {
     "name": "stdout",
     "output_type": "stream",
     "text": [
      "The data in the YEAR column is almost 100% similar to the year from the DATE Column\n",
      "The week Number in the WEEK column is almost 33.53% different from the week number based on the data of the DATE Column\n"
     ]
    }
   ],
   "source": [
    "# Extracted year and week from \"DATE\" Column and assigned in two columns \"EXTRACTED_WEEK\" and \"EXTRACTED_YEAR\"\n",
    "df['EXTRACTED_WEEK'] = df['DATE'].dt.isocalendar().week\n",
    "df['EXTRACTED_YEAR'] = df['DATE'].dt.year\n",
    "\n",
    "# Exploring the Duplicate rows count with respect to YEAR and DATE column \n",
    "duplicate_year_count =df[df[\"YEAR\"]!=df[\"EXTRACTED_YEAR\"]].shape[0]\n",
    "print(f\"The data in the YEAR column is almost {100-duplicate_year_count}% similar to the year from the DATE Column\")\n",
    "\n",
    "# Exploring the Duplicate rows count with respect to WEEK and DATE column\n",
    "duplicate_week_count=df[df[\"WEEK\"]!=df[\"EXTRACTED_WEEK\"]].shape[0]\n",
    "print(f\"The week Number in the WEEK column is almost {round(duplicate_week_count/df.shape[0]*100,2)}% different from the week number based on the data of the DATE Column\")\n",
    "\n",
    "# Removing the duplicate and working column from the dataset\n",
    "df.drop([\"YEAR\",\"EXTRACTED_YEAR\", \"EXTRACTED_WEEK\"],axis=1,inplace=True)"
   ]
  },
  {
   "cell_type": "markdown",
   "metadata": {},
   "source": [
    "Based on the above result the following inference are drawn,\n",
    "- The \"YEAR\" Column is removed from the dataset as it is 100% same as the year mentioned in the DATE Column.\n",
    "- The \"WEEK\" Column is not removed as 42.16% of the data are different from week number based on the date mentioned in the DATE column."
   ]
  },
  {
   "cell_type": "markdown",
   "metadata": {},
   "source": [
    "#### 4.1.2 Check  to  evaluate the similarity between BLOCK and ADDRESS_BLOCK Columns"
   ]
  },
  {
   "cell_type": "code",
   "execution_count": 17,
   "metadata": {},
   "outputs": [
    {
     "name": "stdout",
     "output_type": "stream",
     "text": [
      "Duplicate_Block_Value_Count_% with repsect to ADDRESS_BLOCk column : 100.0\n"
     ]
    }
   ],
   "source": [
    "# Extracted BLock data from \"ADDRESS_BLOCK\" Column\n",
    "extracted_block_id = df[\"ADDRESS_BLOCK\"].str.split(\"X\", expand=True)\n",
    "extracted_block_id[0]= extracted_block_id[0].astype(\"int64\")\n",
    "\n",
    "# Comparing the Block column with respect to extracted Data\n",
    "duplicate_block_count= df[df[\"BLOCK\"]==extracted_block_id[0]].shape[0]/df.shape[0]*100\n",
    "print(f\"Duplicate_Block_Value_Count_% with repsect to ADDRESS_BLOCk column : {duplicate_block_count}\")\n",
    "\n",
    "# Removing the duplicate and working column from the dataset\n",
    "df.drop([\"BLOCK\"],axis=1,inplace=True)\n"
   ]
  },
  {
   "cell_type": "markdown",
   "metadata": {},
   "source": [
    "Based on the above result:\n",
    "- The block number in the BLOCK column is 100.0% similar to the block number mentioned in the ADDRESS_BLOCK column\n",
    "- Therefore the BLOCK column is removed from the data set\n",
    "\n",
    "#### 4.1.3 Check  to  evaluate the similarity between MOSQUITO_ID and SPECIES Columns"
   ]
  },
  {
   "cell_type": "code",
   "execution_count": 18,
   "metadata": {},
   "outputs": [
    {
     "name": "stdout",
     "output_type": "stream",
     "text": [
      "Duplicate_Mosquito_Id_Count_% with repsect to SPECIES column : 100.0\n"
     ]
    }
   ],
   "source": [
    "# Extracted ID data from \"SPECIES\" Column \n",
    "extracted_species_name = df[\"SPECIES\"].str.split(\" \", expand=True)\n",
    "species_firstthreecharacter= extracted_species_name[1].str[:3]\n",
    "\n",
    "# Comparing the MOSQUITO_ID column with respect to extracted Data\n",
    "duplicate_MOSQUITO_ID_count= df[df[\"MOSQUITO_ID\"].str.upper()==species_firstthreecharacter.str.upper()].shape[0]/df.shape[0]*100\n",
    "print(f\"Duplicate_Mosquito_Id_Count_% with repsect to SPECIES column : {duplicate_block_count}\")\n",
    "\n",
    "# Removing MOSQUITO_ID column\n",
    "df.drop([\"MOSQUITO_ID\"],axis=1,inplace=True)\n"
   ]
  },
  {
   "cell_type": "markdown",
   "metadata": {},
   "source": [
    "Based on the above results:\n",
    "- It is clear that the Mosquito_Id is 100% similar to the 1st three Character of the species in the GENUS_SPECIES nomenclature of the \"SPECIES\" Column\n",
    "- Therefore, the MOSQUITO_ID column is removed from the data set\n",
    "\n",
    "### 5. Are there any null values in the dataframe? If so, deal with them appropriately."
   ]
  },
  {
   "cell_type": "code",
   "execution_count": 19,
   "metadata": {},
   "outputs": [
    {
     "data": {
      "text/plain": [
       "WEEK                0.00000\n",
       "ADDRESS_BLOCK       0.00000\n",
       "TRAP                0.00000\n",
       "TRAP_TYPE           0.00000\n",
       "DATE                0.00000\n",
       "MOSQUITO_NUMBER     0.00000\n",
       "WNV_PRESENT         0.00000\n",
       "SPECIES             0.00000\n",
       "LAT                12.70393\n",
       "LON                12.70393\n",
       "dtype: float64"
      ]
     },
     "execution_count": 19,
     "metadata": {},
     "output_type": "execute_result"
    }
   ],
   "source": [
    "# checking for null value percentage for each column \n",
    "df.isnull().mean()*100"
   ]
  },
  {
   "cell_type": "markdown",
   "metadata": {},
   "source": [
    "**Analyzing Missing Value**\n"
   ]
  },
  {
   "cell_type": "code",
   "execution_count": 20,
   "metadata": {},
   "outputs": [
    {
     "data": {
      "text/html": [
       "<div>\n",
       "<style scoped>\n",
       "    .dataframe tbody tr th:only-of-type {\n",
       "        vertical-align: middle;\n",
       "    }\n",
       "\n",
       "    .dataframe tbody tr th {\n",
       "        vertical-align: top;\n",
       "    }\n",
       "\n",
       "    .dataframe thead th {\n",
       "        text-align: right;\n",
       "    }\n",
       "</style>\n",
       "<table border=\"1\" class=\"dataframe\">\n",
       "  <thead>\n",
       "    <tr style=\"text-align: right;\">\n",
       "      <th>ADDRESS_BLOCK</th>\n",
       "      <th>100XX W OHARE</th>\n",
       "      <th>100XX W OHARE AIRPORT</th>\n",
       "      <th>115XX S AVENUE L</th>\n",
       "      <th>30XX S HOYNE</th>\n",
       "      <th>43XX N ASHLAND</th>\n",
       "      <th>4XX W 127TH</th>\n",
       "      <th>65XX N OAK PARK AVE</th>\n",
       "      <th>79XX S CHICAGO</th>\n",
       "      <th>81XX S ASHLAND</th>\n",
       "      <th>98XX S AVENUE G</th>\n",
       "    </tr>\n",
       "  </thead>\n",
       "  <tbody>\n",
       "    <tr>\n",
       "      <th>TRAP</th>\n",
       "      <td>178</td>\n",
       "      <td>1499</td>\n",
       "      <td>32</td>\n",
       "      <td>12</td>\n",
       "      <td>10</td>\n",
       "      <td>264</td>\n",
       "      <td>17</td>\n",
       "      <td>127</td>\n",
       "      <td>116</td>\n",
       "      <td>11</td>\n",
       "    </tr>\n",
       "    <tr>\n",
       "      <th>LAT</th>\n",
       "      <td>0</td>\n",
       "      <td>0</td>\n",
       "      <td>0</td>\n",
       "      <td>0</td>\n",
       "      <td>0</td>\n",
       "      <td>0</td>\n",
       "      <td>0</td>\n",
       "      <td>0</td>\n",
       "      <td>0</td>\n",
       "      <td>0</td>\n",
       "    </tr>\n",
       "    <tr>\n",
       "      <th>LON</th>\n",
       "      <td>0</td>\n",
       "      <td>0</td>\n",
       "      <td>0</td>\n",
       "      <td>0</td>\n",
       "      <td>0</td>\n",
       "      <td>0</td>\n",
       "      <td>0</td>\n",
       "      <td>0</td>\n",
       "      <td>0</td>\n",
       "      <td>0</td>\n",
       "    </tr>\n",
       "  </tbody>\n",
       "</table>\n",
       "</div>"
      ],
      "text/plain": [
       "ADDRESS_BLOCK  100XX W OHARE  100XX W OHARE AIRPORT  115XX S AVENUE L  \\\n",
       "TRAP                     178                   1499                32   \n",
       "LAT                        0                      0                 0   \n",
       "LON                        0                      0                 0   \n",
       "\n",
       "ADDRESS_BLOCK  30XX S HOYNE  43XX N ASHLAND  4XX W 127TH  65XX N OAK PARK AVE  \\\n",
       "TRAP                     12              10          264                   17   \n",
       "LAT                       0               0            0                    0   \n",
       "LON                       0               0            0                    0   \n",
       "\n",
       "ADDRESS_BLOCK  79XX S CHICAGO  81XX S ASHLAND  98XX S AVENUE G  \n",
       "TRAP                      127             116               11  \n",
       "LAT                         0               0                0  \n",
       "LON                         0               0                0  "
      ]
     },
     "execution_count": 20,
     "metadata": {},
     "output_type": "execute_result"
    }
   ],
   "source": [
    "# Evaluting the missing value with respect to Address block columns\n",
    "df_missing_value_address = df[df[\"LAT\"].isnull()==True][[\"ADDRESS_BLOCK\",\"TRAP\",\"LAT\",\"LON\"]]\n",
    "grouped_address_data =df_missing_value_address.groupby(\"ADDRESS_BLOCK\").count()\n",
    "grouped_address_data.T"
   ]
  },
  {
   "cell_type": "code",
   "execution_count": 21,
   "metadata": {},
   "outputs": [
    {
     "name": "stdout",
     "output_type": "stream",
     "text": [
      "<class 'pandas.core.frame.DataFrame'>\n",
      "Int64Index: 17837 entries, 0 to 18493\n",
      "Data columns (total 10 columns):\n",
      " #   Column           Non-Null Count  Dtype         \n",
      "---  ------           --------------  -----         \n",
      " 0   WEEK             17837 non-null  int64         \n",
      " 1   ADDRESS_BLOCK    17837 non-null  object        \n",
      " 2   TRAP             17837 non-null  object        \n",
      " 3   TRAP_TYPE        17837 non-null  object        \n",
      " 4   DATE             17837 non-null  datetime64[ns]\n",
      " 5   MOSQUITO_NUMBER  17837 non-null  int64         \n",
      " 6   WNV_PRESENT      17837 non-null  object        \n",
      " 7   SPECIES          17837 non-null  object        \n",
      " 8   LAT              17837 non-null  object        \n",
      " 9   LON              17837 non-null  object        \n",
      "dtypes: datetime64[ns](1), int64(2), object(7)\n",
      "memory usage: 2.0+ MB\n"
     ]
    }
   ],
   "source": [
    "# Replacing the missing value it a lable \"UNKNOWN\"\n",
    "df.fillna(\"UNKOWN\",inplace=True)\n",
    "df.info()"
   ]
  },
  {
   "cell_type": "markdown",
   "metadata": {},
   "source": [
    "Based on the above analysis, the following inferences are drawn:\n",
    "- There are two columns \"LAT\" and \"LON\" with a null value of 15% with respect to the over all data set.\n",
    "- These 15% represent 10 address blocks and 2924 traps which rule out the possibilty of removing the missing value rows\n",
    "- Therefore, the missing values being a categorical variable are replaced with a new lable as \"UNKNOWN\" "
   ]
  },
  {
   "cell_type": "markdown",
   "metadata": {},
   "source": [
    "## Part 2 - Basic EDA\n",
    "\n",
    "### 1.Using an appropriate visual, or visuals, explore the relationship between mosquito number and date."
   ]
  },
  {
   "cell_type": "code",
   "execution_count": 22,
   "metadata": {},
   "outputs": [],
   "source": [
    "# Creating a matrix with respect to number  mosquito traped  with respect to year and month\n",
    "date_mosquito_no = df.groupby([df[\"DATE\"].dt.year,df['DATE'].dt.month]).agg({\"MOSQUITO_NUMBER\":[\"sum\"]}).unstack()"
   ]
  },
  {
   "cell_type": "code",
   "execution_count": 23,
   "metadata": {},
   "outputs": [
    {
     "data": {
      "text/html": [
       "<div>\n",
       "<style scoped>\n",
       "    .dataframe tbody tr th:only-of-type {\n",
       "        vertical-align: middle;\n",
       "    }\n",
       "\n",
       "    .dataframe tbody tr th {\n",
       "        vertical-align: top;\n",
       "    }\n",
       "\n",
       "    .dataframe thead th {\n",
       "        text-align: right;\n",
       "    }\n",
       "</style>\n",
       "<table border=\"1\" class=\"dataframe\">\n",
       "  <thead>\n",
       "    <tr style=\"text-align: right;\">\n",
       "      <th></th>\n",
       "      <th>MAY</th>\n",
       "      <th>JUNE</th>\n",
       "      <th>JULY</th>\n",
       "      <th>AUGUST</th>\n",
       "      <th>SEPTEMBER</th>\n",
       "      <th>OCTOBER</th>\n",
       "    </tr>\n",
       "    <tr>\n",
       "      <th>DATE</th>\n",
       "      <th></th>\n",
       "      <th></th>\n",
       "      <th></th>\n",
       "      <th></th>\n",
       "      <th></th>\n",
       "      <th></th>\n",
       "    </tr>\n",
       "  </thead>\n",
       "  <tbody>\n",
       "    <tr>\n",
       "      <th>2007</th>\n",
       "      <td>30.0</td>\n",
       "      <td>307.0</td>\n",
       "      <td>1376.0</td>\n",
       "      <td>18204.0</td>\n",
       "      <td>3315.0</td>\n",
       "      <td>924.0</td>\n",
       "    </tr>\n",
       "    <tr>\n",
       "      <th>2008</th>\n",
       "      <td>NaN</td>\n",
       "      <td>461.0</td>\n",
       "      <td>1426.0</td>\n",
       "      <td>1412.0</td>\n",
       "      <td>583.0</td>\n",
       "      <td>NaN</td>\n",
       "    </tr>\n",
       "    <tr>\n",
       "      <th>2009</th>\n",
       "      <td>86.0</td>\n",
       "      <td>1992.0</td>\n",
       "      <td>2245.0</td>\n",
       "      <td>619.0</td>\n",
       "      <td>440.0</td>\n",
       "      <td>80.0</td>\n",
       "    </tr>\n",
       "    <tr>\n",
       "      <th>2010</th>\n",
       "      <td>NaN</td>\n",
       "      <td>1383.0</td>\n",
       "      <td>3634.0</td>\n",
       "      <td>1507.0</td>\n",
       "      <td>807.0</td>\n",
       "      <td>32.0</td>\n",
       "    </tr>\n",
       "    <tr>\n",
       "      <th>2011</th>\n",
       "      <td>NaN</td>\n",
       "      <td>2132.0</td>\n",
       "      <td>3104.0</td>\n",
       "      <td>937.0</td>\n",
       "      <td>1083.0</td>\n",
       "      <td>NaN</td>\n",
       "    </tr>\n",
       "    <tr>\n",
       "      <th>2012</th>\n",
       "      <td>NaN</td>\n",
       "      <td>1075.0</td>\n",
       "      <td>5818.0</td>\n",
       "      <td>3033.0</td>\n",
       "      <td>777.0</td>\n",
       "      <td>NaN</td>\n",
       "    </tr>\n",
       "    <tr>\n",
       "      <th>2013</th>\n",
       "      <td>NaN</td>\n",
       "      <td>2372.0</td>\n",
       "      <td>7312.0</td>\n",
       "      <td>7548.0</td>\n",
       "      <td>5623.0</td>\n",
       "      <td>NaN</td>\n",
       "    </tr>\n",
       "    <tr>\n",
       "      <th>2014</th>\n",
       "      <td>NaN</td>\n",
       "      <td>4028.0</td>\n",
       "      <td>8280.0</td>\n",
       "      <td>13170.0</td>\n",
       "      <td>4115.0</td>\n",
       "      <td>174.0</td>\n",
       "    </tr>\n",
       "    <tr>\n",
       "      <th>2015</th>\n",
       "      <td>NaN</td>\n",
       "      <td>2015.0</td>\n",
       "      <td>4758.0</td>\n",
       "      <td>3029.0</td>\n",
       "      <td>530.0</td>\n",
       "      <td>NaN</td>\n",
       "    </tr>\n",
       "    <tr>\n",
       "      <th>2016</th>\n",
       "      <td>NaN</td>\n",
       "      <td>2202.0</td>\n",
       "      <td>7748.0</td>\n",
       "      <td>14871.0</td>\n",
       "      <td>7633.0</td>\n",
       "      <td>NaN</td>\n",
       "    </tr>\n",
       "    <tr>\n",
       "      <th>2017</th>\n",
       "      <td>NaN</td>\n",
       "      <td>1194.0</td>\n",
       "      <td>2753.0</td>\n",
       "      <td>3867.0</td>\n",
       "      <td>1290.0</td>\n",
       "      <td>NaN</td>\n",
       "    </tr>\n",
       "    <tr>\n",
       "      <th>2018</th>\n",
       "      <td>NaN</td>\n",
       "      <td>4010.0</td>\n",
       "      <td>3894.0</td>\n",
       "      <td>4943.0</td>\n",
       "      <td>517.0</td>\n",
       "      <td>NaN</td>\n",
       "    </tr>\n",
       "    <tr>\n",
       "      <th>2019</th>\n",
       "      <td>NaN</td>\n",
       "      <td>4589.0</td>\n",
       "      <td>1990.0</td>\n",
       "      <td>2461.0</td>\n",
       "      <td>816.0</td>\n",
       "      <td>NaN</td>\n",
       "    </tr>\n",
       "  </tbody>\n",
       "</table>\n",
       "</div>"
      ],
      "text/plain": [
       "       MAY    JUNE    JULY   AUGUST  SEPTEMBER  OCTOBER\n",
       "DATE                                                   \n",
       "2007  30.0   307.0  1376.0  18204.0     3315.0    924.0\n",
       "2008   NaN   461.0  1426.0   1412.0      583.0      NaN\n",
       "2009  86.0  1992.0  2245.0    619.0      440.0     80.0\n",
       "2010   NaN  1383.0  3634.0   1507.0      807.0     32.0\n",
       "2011   NaN  2132.0  3104.0    937.0     1083.0      NaN\n",
       "2012   NaN  1075.0  5818.0   3033.0      777.0      NaN\n",
       "2013   NaN  2372.0  7312.0   7548.0     5623.0      NaN\n",
       "2014   NaN  4028.0  8280.0  13170.0     4115.0    174.0\n",
       "2015   NaN  2015.0  4758.0   3029.0      530.0      NaN\n",
       "2016   NaN  2202.0  7748.0  14871.0     7633.0      NaN\n",
       "2017   NaN  1194.0  2753.0   3867.0     1290.0      NaN\n",
       "2018   NaN  4010.0  3894.0   4943.0      517.0      NaN\n",
       "2019   NaN  4589.0  1990.0   2461.0      816.0      NaN"
      ]
     },
     "execution_count": 23,
     "metadata": {},
     "output_type": "execute_result"
    }
   ],
   "source": [
    "# Changing the name of the columns\n",
    "date_mosquito_no.columns =[\"MAY\",\"JUNE\",\"JULY\",\"AUGUST\",\"SEPTEMBER\",\"OCTOBER\"]\n",
    "date_mosquito_no"
   ]
  },
  {
   "cell_type": "code",
   "execution_count": 24,
   "metadata": {},
   "outputs": [
    {
     "data": {
      "image/png": "[encoded data removed]",
      "text/plain": [
       "<Figure size 1440x1080 with 2 Axes>"
      ]
     },
     "metadata": {},
     "output_type": "display_data"
    }
   ],
   "source": [
    "# Heat map to explain the number of Mosquito with respect to Year-Month\n",
    "plt.figure(figsize=(20,15))\n",
    "sns.heatmap(date_mosquito_no ,cmap=\"BuGn\", cbar_kws={\"orientation\": \"horizontal\"})\n",
    "plt.ylabel('YEAR')\n",
    "plt.xlabel('MONTH')\n",
    "plt.title(\"Relation between  Numbers of Mosquito traped with respect to Year-Month\")\n",
    "plt.show()"
   ]
  },
  {
   "cell_type": "code",
   "execution_count": 25,
   "metadata": {},
   "outputs": [
    {
     "data": {
      "image/png": "[encoded data removed]",
      "text/plain": [
       "<Figure size 1440x360 with 1 Axes>"
      ]
     },
     "metadata": {},
     "output_type": "display_data"
    },
    {
     "data": {
      "image/png": "[encoded data removed]",
      "text/plain": [
       "<Figure size 1440x360 with 1 Axes>"
      ]
     },
     "metadata": {},
     "output_type": "display_data"
    }
   ],
   "source": [
    "plt.figure(figsize=(20,5))\n",
    "\n",
    "# Plot to explain the total number of mosquito traped  each year from 2007-2019 \n",
    "plt.plot(date_mosquito_no.sum(axis=1))\n",
    "plt.xlabel(\" YEAR \")\n",
    "plt.ylabel(\"TOTAL MOSQUITO TRAPED \")\n",
    "plt.title(\"Year wise Distribution of Total Mosquito Count\")\n",
    "\n",
    "# Plot to explain the total number of mosquito traped with respect to months \n",
    "plt.show()\n",
    "plt.figure(figsize=(20,5))\n",
    "plt.plot(date_mosquito_no.sum())\n",
    "plt.xlabel(\"MONTH\")\n",
    "plt.ylabel(\"TOTAL MOSQUITO TRAPED \")\n",
    "plt.title(\"Month wise Distribution of Total Mosquito Count \")\n",
    "\n",
    "plt.show()"
   ]
  },
  {
   "cell_type": "markdown",
   "metadata": {},
   "source": [
    "The insight drawn from the above plots are as follows\n",
    "- 2014 and 2016 are the years where a maximum number of mosquitoes are recorded.\n",
    "- While analyzing the monthly distrubution, August is the time, where a maximum number of mosquitoes are recorded which makes the month most prone to be infected by WNV. "
   ]
  },
  {
   "cell_type": "markdown",
   "metadata": {},
   "source": [
    "## Part 3 - Advanced EDA\n",
    "\n",
    "### 1. Using an appropriate visual, explore the relationship between mosquito species and WNV prevalence.\n",
    "\n"
   ]
  },
  {
   "cell_type": "code",
   "execution_count": 26,
   "metadata": {},
   "outputs": [
    {
     "data": {
      "text/html": [
       "<div>\n",
       "<style scoped>\n",
       "    .dataframe tbody tr th:only-of-type {\n",
       "        vertical-align: middle;\n",
       "    }\n",
       "\n",
       "    .dataframe tbody tr th {\n",
       "        vertical-align: top;\n",
       "    }\n",
       "\n",
       "    .dataframe thead tr th {\n",
       "        text-align: left;\n",
       "    }\n",
       "\n",
       "    .dataframe thead tr:last-of-type th {\n",
       "        text-align: right;\n",
       "    }\n",
       "</style>\n",
       "<table border=\"1\" class=\"dataframe\">\n",
       "  <thead>\n",
       "    <tr>\n",
       "      <th></th>\n",
       "      <th></th>\n",
       "      <th>WNV_PRESENT</th>\n",
       "    </tr>\n",
       "    <tr>\n",
       "      <th></th>\n",
       "      <th></th>\n",
       "      <th>count</th>\n",
       "    </tr>\n",
       "    <tr>\n",
       "      <th>SPECIES</th>\n",
       "      <th>WNV_PRESENT</th>\n",
       "      <th></th>\n",
       "    </tr>\n",
       "  </thead>\n",
       "  <tbody>\n",
       "    <tr>\n",
       "      <th rowspan=\"2\" valign=\"top\">CULEX PIPIENS</th>\n",
       "      <th>negative</th>\n",
       "      <td>4074</td>\n",
       "    </tr>\n",
       "    <tr>\n",
       "      <th>positive</th>\n",
       "      <td>1237</td>\n",
       "    </tr>\n",
       "    <tr>\n",
       "      <th rowspan=\"2\" valign=\"top\">CULEX RESTUANS</th>\n",
       "      <th>negative</th>\n",
       "      <td>9309</td>\n",
       "    </tr>\n",
       "    <tr>\n",
       "      <th>positive</th>\n",
       "      <td>2078</td>\n",
       "    </tr>\n",
       "    <tr>\n",
       "      <th rowspan=\"2\" valign=\"top\">CULEX SALINARIUS</th>\n",
       "      <th>negative</th>\n",
       "      <td>215</td>\n",
       "    </tr>\n",
       "    <tr>\n",
       "      <th>positive</th>\n",
       "      <td>7</td>\n",
       "    </tr>\n",
       "    <tr>\n",
       "      <th rowspan=\"2\" valign=\"top\">CULEX TERRITANS</th>\n",
       "      <th>negative</th>\n",
       "      <td>903</td>\n",
       "    </tr>\n",
       "    <tr>\n",
       "      <th>positive</th>\n",
       "      <td>14</td>\n",
       "    </tr>\n",
       "  </tbody>\n",
       "</table>\n",
       "</div>"
      ],
      "text/plain": [
       "                             WNV_PRESENT\n",
       "                                   count\n",
       "SPECIES          WNV_PRESENT            \n",
       "CULEX PIPIENS    negative           4074\n",
       "                 positive           1237\n",
       "CULEX RESTUANS   negative           9309\n",
       "                 positive           2078\n",
       "CULEX SALINARIUS negative            215\n",
       "                 positive              7\n",
       "CULEX TERRITANS  negative            903\n",
       "                 positive             14"
      ]
     },
     "execution_count": 26,
     "metadata": {},
     "output_type": "execute_result"
    }
   ],
   "source": [
    "# Exploring the WNV_PRESENT count based on the species  category \n",
    "df.groupby([\"SPECIES\",\"WNV_PRESENT\",]).agg({\"WNV_PRESENT\":[\"count\"]})"
   ]
  },
  {
   "cell_type": "code",
   "execution_count": 27,
   "metadata": {},
   "outputs": [
    {
     "data": {
      "image/png": "[encoded data removed]",
      "text/plain": [
       "<Figure size 1440x360 with 1 Axes>"
      ]
     },
     "metadata": {},
     "output_type": "display_data"
    }
   ],
   "source": [
    "# Barplot to show the relation between SPECIES and WNV prevelance \n",
    "plt.figure( figsize=(20,5))\n",
    "sns.countplot( x=df[\"SPECIES\"], hue=df[\"WNV_PRESENT\"])\n",
    "plt.title(\" WNV prevelance distribution with respect to Species\")\n",
    "plt.show()"
   ]
  },
  {
   "cell_type": "markdown",
   "metadata": {},
   "source": [
    "Based on the above table and the graph the following inferences are drawn:\n",
    "- The positivity count i.e the WNV prevalance is maximum for CULEX RESTUANS mosquitoes with a count of 2557 out of 11866. However CULEX PIPIENS mosquitoes are most susceptible to the WNV as close to 1412 out of 5486 ie. 25% of the mosquito are infected\n",
    "- CULEX SALINARIUS and CULEX TERRITANS are the two species where the infection rate is less than 5%\n"
   ]
  },
  {
   "cell_type": "markdown",
   "metadata": {},
   "source": [
    "### 2. Using an appropriate visual, explore the relationship between the number of mosquitos caught and trap type. \n"
   ]
  },
  {
   "cell_type": "code",
   "execution_count": 28,
   "metadata": {},
   "outputs": [
    {
     "data": {
      "text/html": [
       "<div>\n",
       "<style scoped>\n",
       "    .dataframe tbody tr th:only-of-type {\n",
       "        vertical-align: middle;\n",
       "    }\n",
       "\n",
       "    .dataframe tbody tr th {\n",
       "        vertical-align: top;\n",
       "    }\n",
       "\n",
       "    .dataframe thead tr th {\n",
       "        text-align: left;\n",
       "    }\n",
       "\n",
       "    .dataframe thead tr:last-of-type th {\n",
       "        text-align: right;\n",
       "    }\n",
       "</style>\n",
       "<table border=\"1\" class=\"dataframe\">\n",
       "  <thead>\n",
       "    <tr>\n",
       "      <th></th>\n",
       "      <th>MOSQUITO_NUMBER</th>\n",
       "    </tr>\n",
       "    <tr>\n",
       "      <th></th>\n",
       "      <th>sum</th>\n",
       "    </tr>\n",
       "    <tr>\n",
       "      <th>TRAP_TYPE</th>\n",
       "      <th></th>\n",
       "    </tr>\n",
       "  </thead>\n",
       "  <tbody>\n",
       "    <tr>\n",
       "      <th>CDC</th>\n",
       "      <td>9514</td>\n",
       "    </tr>\n",
       "    <tr>\n",
       "      <th>GRAVID</th>\n",
       "      <td>171905</td>\n",
       "    </tr>\n",
       "    <tr>\n",
       "      <th>OVI</th>\n",
       "      <td>1</td>\n",
       "    </tr>\n",
       "    <tr>\n",
       "      <th>SENTINEL</th>\n",
       "      <td>5134</td>\n",
       "    </tr>\n",
       "  </tbody>\n",
       "</table>\n",
       "</div>"
      ],
      "text/plain": [
       "          MOSQUITO_NUMBER\n",
       "                      sum\n",
       "TRAP_TYPE                \n",
       "CDC                  9514\n",
       "GRAVID             171905\n",
       "OVI                     1\n",
       "SENTINEL             5134"
      ]
     },
     "execution_count": 28,
     "metadata": {},
     "output_type": "execute_result"
    }
   ],
   "source": [
    "# Exploring the number of mosquito caught based on the trap type \n",
    "df.groupby([\"TRAP_TYPE\"]).agg({\"MOSQUITO_NUMBER\":[\"sum\"]})"
   ]
  },
  {
   "cell_type": "code",
   "execution_count": 29,
   "metadata": {},
   "outputs": [
    {
     "data": {
      "image/png": "[encoded data removed]",
      "text/plain": [
       "<Figure size 1440x504 with 1 Axes>"
      ]
     },
     "metadata": {},
     "output_type": "display_data"
    }
   ],
   "source": [
    "# Box plot to explore the relationship between Trap_Type and Number of Mosquito caught\n",
    "plt.figure(figsize=(20,7))\n",
    "sns.boxplot(data=df, y=\"MOSQUITO_NUMBER\", x=\"TRAP_TYPE\")\n",
    "plt.title(\"Relation Between Trap_Type and Number of Mosquito caught\")\n",
    "plt.show()"
   ]
  },
  {
   "cell_type": "markdown",
   "metadata": {},
   "source": [
    "In terms of the relationship between the number of mosquitoes caught and trap type the following inference are drawn:\n",
    "- GRAVID is the most effecient trap type follwed by SENTINEL and CDC to trap mosquito.\n",
    "- However, SENTINEL and CDC are the two types of traps which manages to capture the entire range of mosquitoes compared to the GRAVID Trap where the higher percentile is limited to 15\n",
    "- Regarding OVI trap it will be unfair to evalute the efficiency as the sample size is limited to one. "
   ]
  },
  {
   "cell_type": "markdown",
   "metadata": {},
   "source": [
    "### 3. Using an appropriate visual, come up with an additional insight of your choice."
   ]
  },
  {
   "cell_type": "code",
   "execution_count": 30,
   "metadata": {},
   "outputs": [
    {
     "data": {
      "text/html": [
       "<div>\n",
       "<style scoped>\n",
       "    .dataframe tbody tr th:only-of-type {\n",
       "        vertical-align: middle;\n",
       "    }\n",
       "\n",
       "    .dataframe tbody tr th {\n",
       "        vertical-align: top;\n",
       "    }\n",
       "\n",
       "    .dataframe thead th {\n",
       "        text-align: right;\n",
       "    }\n",
       "</style>\n",
       "<table border=\"1\" class=\"dataframe\">\n",
       "  <thead>\n",
       "    <tr style=\"text-align: right;\">\n",
       "      <th></th>\n",
       "      <th>WEEK</th>\n",
       "      <th>SPECIES</th>\n",
       "      <th>WNV_PRESENT</th>\n",
       "      <th>MOSQUITO_COUNT</th>\n",
       "    </tr>\n",
       "  </thead>\n",
       "  <tbody>\n",
       "    <tr>\n",
       "      <th>0</th>\n",
       "      <td>22</td>\n",
       "      <td>CULEX PIPIENS</td>\n",
       "      <td>negative</td>\n",
       "      <td>8</td>\n",
       "    </tr>\n",
       "    <tr>\n",
       "      <th>1</th>\n",
       "      <td>22</td>\n",
       "      <td>CULEX RESTUANS</td>\n",
       "      <td>negative</td>\n",
       "      <td>153</td>\n",
       "    </tr>\n",
       "    <tr>\n",
       "      <th>2</th>\n",
       "      <td>23</td>\n",
       "      <td>CULEX PIPIENS</td>\n",
       "      <td>negative</td>\n",
       "      <td>59</td>\n",
       "    </tr>\n",
       "    <tr>\n",
       "      <th>3</th>\n",
       "      <td>23</td>\n",
       "      <td>CULEX RESTUANS</td>\n",
       "      <td>negative</td>\n",
       "      <td>3104</td>\n",
       "    </tr>\n",
       "    <tr>\n",
       "      <th>4</th>\n",
       "      <td>23</td>\n",
       "      <td>CULEX RESTUANS</td>\n",
       "      <td>positive</td>\n",
       "      <td>24</td>\n",
       "    </tr>\n",
       "    <tr>\n",
       "      <th>...</th>\n",
       "      <td>...</td>\n",
       "      <td>...</td>\n",
       "      <td>...</td>\n",
       "      <td>...</td>\n",
       "    </tr>\n",
       "    <tr>\n",
       "      <th>105</th>\n",
       "      <td>40</td>\n",
       "      <td>CULEX RESTUANS</td>\n",
       "      <td>positive</td>\n",
       "      <td>7</td>\n",
       "    </tr>\n",
       "    <tr>\n",
       "      <th>106</th>\n",
       "      <td>40</td>\n",
       "      <td>CULEX SALINARIUS</td>\n",
       "      <td>negative</td>\n",
       "      <td>1</td>\n",
       "    </tr>\n",
       "    <tr>\n",
       "      <th>107</th>\n",
       "      <td>40</td>\n",
       "      <td>CULEX TERRITANS</td>\n",
       "      <td>negative</td>\n",
       "      <td>24</td>\n",
       "    </tr>\n",
       "    <tr>\n",
       "      <th>108</th>\n",
       "      <td>41</td>\n",
       "      <td>CULEX PIPIENS</td>\n",
       "      <td>negative</td>\n",
       "      <td>197</td>\n",
       "    </tr>\n",
       "    <tr>\n",
       "      <th>109</th>\n",
       "      <td>41</td>\n",
       "      <td>CULEX TERRITANS</td>\n",
       "      <td>negative</td>\n",
       "      <td>3</td>\n",
       "    </tr>\n",
       "  </tbody>\n",
       "</table>\n",
       "<p>110 rows × 4 columns</p>\n",
       "</div>"
      ],
      "text/plain": [
       "     WEEK           SPECIES WNV_PRESENT  MOSQUITO_COUNT\n",
       "0      22     CULEX PIPIENS    negative               8\n",
       "1      22    CULEX RESTUANS    negative             153\n",
       "2      23     CULEX PIPIENS    negative              59\n",
       "3      23    CULEX RESTUANS    negative            3104\n",
       "4      23    CULEX RESTUANS    positive              24\n",
       "..    ...               ...         ...             ...\n",
       "105    40    CULEX RESTUANS    positive               7\n",
       "106    40  CULEX SALINARIUS    negative               1\n",
       "107    40   CULEX TERRITANS    negative              24\n",
       "108    41     CULEX PIPIENS    negative             197\n",
       "109    41   CULEX TERRITANS    negative               3\n",
       "\n",
       "[110 rows x 4 columns]"
      ]
     },
     "execution_count": 30,
     "metadata": {},
     "output_type": "execute_result"
    }
   ],
   "source": [
    "# creating a dataframe to undestand the realtion between the WEEK, species and WNV_prevelance\n",
    "df[\"WEEK\"]=df[\"DATE\"].dt.isocalendar().week\n",
    "week_species_WNN = df.groupby([\"WEEK\",\"SPECIES\",\"WNV_PRESENT\"]).agg({\"MOSQUITO_NUMBER\":[\"sum\"]})\n",
    "week_species_WNN.columns=[\"MOSQUITO_COUNT\"]\n",
    "week_species_WNN.reset_index(inplace=True)\n",
    "week_species_WNN\n"
   ]
  },
  {
   "cell_type": "code",
   "execution_count": 31,
   "metadata": {},
   "outputs": [
    {
     "data": {
      "image/png": "[encoded data removed]",
      "text/plain": [
       "<Figure size 1440x720 with 1 Axes>"
      ]
     },
     "metadata": {},
     "output_type": "display_data"
    }
   ],
   "source": [
    "# line plot  to understand the distribution of species across time with respect to its WNA status\n",
    "plt.figure(figsize=(20,10))\n",
    "sns.lineplot(data=week_species_WNN, \n",
    "             x=\"WEEK\", \n",
    "             y=\"MOSQUITO_COUNT\",\n",
    "             ci=0,\n",
    "             hue=\"SPECIES\", \n",
    "             style =\"WNV_PRESENT\",)\n",
    "plt.title(\"Distribution of species across time with respect to its WNA prevelance status\")\n",
    "plt.show()"
   ]
  },
  {
   "cell_type": "markdown",
   "metadata": {},
   "source": [
    "The aim of the above visualization is to undestand the relation between species and their WNV_prevelance with respect to the number of mosquitoes and time of the year. The insights drawn are as follows:\n",
    "- The CULEX RESTUANS mosquities which are not infected with WNV are found more in the 20th-30th weeks and then the count gradually goes down. But the same species with WNV virus dominate between 28th-33th weeks with the count crossing above 6000 mark\n",
    "- For CULEX PIPIENS mosquitoes which are infected with WNV touches the 7000 mark around 33th-34th week whereas the same species which are not infected with WNV crosses the 4000 mark for a short period of 7 days around 33rd week but are found throughout the time primarly between 25th-40th week.\n",
    "- The other two species are seen across all the weeks, but the overall numbers are very low and CLUEX SALINARIUS which are infected with WNV are recorded between the weeks 29-35 with a very low count (close to Zero).\n",
    "- Lastly, based on the above observations, it can be inferred that the maximum possibilty for the disease to spread by the mosquitoes are within the 27th-37th weeks as the count is above 2000 for both the species who are predominant carriers of the WNV. "
   ]
  },
  {
   "cell_type": "code",
   "execution_count": null,
   "metadata": {},
   "outputs": [],
   "source": []
  }
 ],
 "metadata": {
  "celltoolbar": "Raw Cell Format",
  "interpreter": {
   "hash": "51ec4bb2c56d2596c629f513f8a5fa7b744f43011497d609194f0ff383d520db"
  },
  "kernelspec": {
   "display_name": "Python 3 (ipykernel)",
   "language": "python",
   "name": "python3"
  },
  "language_info": {
   "codemirror_mode": {
    "name": "ipython",
    "version": 3
   },
   "file_extension": ".py",
   "mimetype": "text/x-python",
   "name": "python",
   "nbconvert_exporter": "python",
   "pygments_lexer": "ipython3",
   "version": "3.9.5"
  }
 },
 "nbformat": 4,
 "nbformat_minor": 2
}
