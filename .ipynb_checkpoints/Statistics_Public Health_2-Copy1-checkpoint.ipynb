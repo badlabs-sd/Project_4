{
 "cells": [
  {
   "cell_type": "markdown",
   "metadata": {},
   "source": [
    "# Statistics & Public Health\n",
    "\n",
    "__Sourish Dasgupta__ <br>\n",
    "__Jun 20, 2022__\n",
    "\n",
    "West Nile Virus (WNV) is a viral illness largely spread by mosquitoes. The disease is transmitted to a person when an infected mosquito bites them.\n",
    "The city of Chicago, Illinois has been keeping track of mosquito populations and WNV prevalence using a series of traps that they place around the city. \n",
    "They are then able to study the captured specimens and monitor the state of WNV spread in the city. <br><br>\n",
    "\n",
    "__Data Dictionary__\n",
    "- Year (int64)\tYear that the WNV test is performed\t\t\t\n",
    "- Week  (int64)\tWeek that the WNV test is performed\t\t\t\n",
    "- Address (string)\t Block\tAddress of the location of trap.\t\t\n",
    "- Block (int64)\tBlock number of address\t\t\n",
    "- Trap_Id (string) of the trap. Some traps are \"satellite traps\". These are traps that are set up near (usually within 6 blocks) an established trap to enhance surveillance efforts. Satellite traps are post fixed with letters. For example, T220A is a satellite trap to T220.\t\n",
    "- Trap_type (string) Type of trap \t\t\n",
    "- Date (string)\tDate and time that the WNV test is performed \tPlease note that not all the locations are tested at all times. Also, records exist only when a particular species of mosquitoes is found at a certain trap at a certain time.\t\n",
    "- Mosquito_number (int64) Number of mosquitoes caught in this trap\t These test results are organized in such a way that when the number of mosquitoes exceed 50, they are split into another record (another row in the dataset), such that the number of mosquitoes are capped at 50.\t\n",
    "- Mosquito_ID  (string)\tId for Mosquito species\tstring\t\t\n",
    "- WNV  Present  (string) \tWhether West Nile Virus was present in these mosquitos\t\t\n",
    "- Species (string) Mosquito species\tstring\t\t\n",
    "- Lat (float64)\tLatitude of trap\t\n",
    "- Lon( float64)\tLongitude of trap"
   ]
  },
  {
   "cell_type": "markdown",
   "metadata": {},
   "source": [
    "__Table of Contents__\n",
    "1. [Loading library](#1.2) <br>\n",
    "2. [Loading data & checking high-level details](#1.3) <br>\n",
    "3. [Data Cleaning](#1.4)<br>\n",
    "4. Basic Analysis<br>\n",
    "    1.Convert the WNV Present column into a binary column <br>\n",
    "    2.Create dummy variables from the Trap type column.<br>\n",
    "    3.What is the average number of mosquitoes for each month?What trends do you notice?<br><br>\n",
    "5. Statistical Analysis <br>\n",
    "    1.Is there a statistically significant difference between the different mosquito species when looking at the occurrence of West Nile Virus?<br>\n",
    "    2.Which columns are positively correlated with the number of mosquitoes caught?Which columns are negatively correlated?Are these correlations statistically significant?<br><br>\n",
    "    \n",
    "6. Advanced Statistical Analysis<br>\n",
    "    1.Run a linear regression to determine how the independent variables affect the number of mosquitoes caught?<br>\n",
    "    2.Run a logistic regression to determine how the independent variables affect West Nile Virus presence.<br><br>\n",
    "\n",
    "7. Verifying assumptions associated with linear regression models<br>\n",
    "    - [Linearity](#Linearity) <br>\n",
    "    - [Independence](#Independence)\n",
    "    - [Normality](#Normality)\n",
    "    - [Homoscedasticity](#Homoscedasticity)\n"
   ]
  },
  {
   "cell_type": "markdown",
   "metadata": {},
   "source": [
    "## Loading Library"
   ]
  },
  {
   "cell_type": "code",
   "execution_count": 1,
   "metadata": {
    "ExecuteTime": {
     "end_time": "2022-06-20T00:18:44.854200Z",
     "start_time": "2022-06-20T00:18:41.912632Z"
    }
   },
   "outputs": [],
   "source": [
    "# import relevant packages\n",
    "import pandas as pd\n",
    "import numpy as np\n",
    "import matplotlib.pyplot as plt\n",
    "import seaborn as sns\n",
    "import statsmodels.api as sm\n",
    "from scipy import stats\n",
    "from scipy.stats import norm\n",
    "%matplotlib inline"
   ]
  },
  {
   "cell_type": "markdown",
   "metadata": {
    "heading_collapsed": true
   },
   "source": [
    "## Loading data & exploring high-level details"
   ]
  },
  {
   "cell_type": "code",
   "execution_count": 2,
   "metadata": {
    "ExecuteTime": {
     "end_time": "2022-06-20T00:18:44.901346Z",
     "start_time": "2022-06-20T00:18:44.856255Z"
    },
    "hidden": true
   },
   "outputs": [],
   "source": [
    "# Load the data\n",
    "mosquito_df = pd.read_csv('mosquito_data_part_2.csv')"
   ]
  },
  {
   "cell_type": "code",
   "execution_count": 3,
   "metadata": {
    "ExecuteTime": {
     "end_time": "2022-06-20T00:18:44.923696Z",
     "start_time": "2022-06-20T00:18:44.903432Z"
    },
    "hidden": true
   },
   "outputs": [
    {
     "data": {
      "text/html": [
       "<div>\n",
       "<style scoped>\n",
       "    .dataframe tbody tr th:only-of-type {\n",
       "        vertical-align: middle;\n",
       "    }\n",
       "\n",
       "    .dataframe tbody tr th {\n",
       "        vertical-align: top;\n",
       "    }\n",
       "\n",
       "    .dataframe thead th {\n",
       "        text-align: right;\n",
       "    }\n",
       "</style>\n",
       "<table border=\"1\" class=\"dataframe\">\n",
       "  <thead>\n",
       "    <tr style=\"text-align: right;\">\n",
       "      <th></th>\n",
       "      <th>Year</th>\n",
       "      <th>Week</th>\n",
       "      <th>Address Block</th>\n",
       "      <th>Trap</th>\n",
       "      <th>Trap type</th>\n",
       "      <th>Date</th>\n",
       "      <th>Mosquito number</th>\n",
       "      <th>WNV Present</th>\n",
       "      <th>Species</th>\n",
       "      <th>Lat</th>\n",
       "      <th>Lon</th>\n",
       "      <th>Month</th>\n",
       "    </tr>\n",
       "  </thead>\n",
       "  <tbody>\n",
       "    <tr>\n",
       "      <th>1507</th>\n",
       "      <td>2018</td>\n",
       "      <td>31</td>\n",
       "      <td>5XX S CENTRAL AVE</td>\n",
       "      <td>T031</td>\n",
       "      <td>GRAVID</td>\n",
       "      <td>2018-08-02 00:08:00</td>\n",
       "      <td>2</td>\n",
       "      <td>negative</td>\n",
       "      <td>CULEX TERRITANS</td>\n",
       "      <td>41.872873</td>\n",
       "      <td>-87.764737</td>\n",
       "      <td>8</td>\n",
       "    </tr>\n",
       "    <tr>\n",
       "      <th>2340</th>\n",
       "      <td>2017</td>\n",
       "      <td>35</td>\n",
       "      <td>58XX N RIDGE AVE</td>\n",
       "      <td>T231</td>\n",
       "      <td>GRAVID</td>\n",
       "      <td>2017-08-31 00:08:00</td>\n",
       "      <td>2</td>\n",
       "      <td>negative</td>\n",
       "      <td>CULEX RESTUANS</td>\n",
       "      <td>41.987881</td>\n",
       "      <td>-87.666785</td>\n",
       "      <td>8</td>\n",
       "    </tr>\n",
       "    <tr>\n",
       "      <th>3772</th>\n",
       "      <td>2016</td>\n",
       "      <td>30</td>\n",
       "      <td>100XX W OHARE AIRPORT</td>\n",
       "      <td>T905</td>\n",
       "      <td>GRAVID</td>\n",
       "      <td>2016-07-27 00:07:00</td>\n",
       "      <td>25</td>\n",
       "      <td>negative</td>\n",
       "      <td>CULEX RESTUANS</td>\n",
       "      <td>41.977738</td>\n",
       "      <td>-87.880969</td>\n",
       "      <td>7</td>\n",
       "    </tr>\n",
       "    <tr>\n",
       "      <th>7692</th>\n",
       "      <td>2013</td>\n",
       "      <td>29</td>\n",
       "      <td>39XX S ASHLAND AVE</td>\n",
       "      <td>T074</td>\n",
       "      <td>GRAVID</td>\n",
       "      <td>2013-07-19 00:07:00</td>\n",
       "      <td>22</td>\n",
       "      <td>negative</td>\n",
       "      <td>CULEX RESTUANS</td>\n",
       "      <td>41.820859</td>\n",
       "      <td>-87.665108</td>\n",
       "      <td>7</td>\n",
       "    </tr>\n",
       "    <tr>\n",
       "      <th>13844</th>\n",
       "      <td>2007</td>\n",
       "      <td>38</td>\n",
       "      <td>67XX S KEDZIE AVE</td>\n",
       "      <td>T066</td>\n",
       "      <td>GRAVID</td>\n",
       "      <td>2007-09-24 00:09:00</td>\n",
       "      <td>11</td>\n",
       "      <td>negative</td>\n",
       "      <td>CULEX PIPIENS</td>\n",
       "      <td>41.771199</td>\n",
       "      <td>-87.703107</td>\n",
       "      <td>9</td>\n",
       "    </tr>\n",
       "  </tbody>\n",
       "</table>\n",
       "</div>"
      ],
      "text/plain": [
       "       Year  Week          Address Block  Trap Trap type                 Date  \\\n",
       "1507   2018    31      5XX S CENTRAL AVE  T031    GRAVID  2018-08-02 00:08:00   \n",
       "2340   2017    35       58XX N RIDGE AVE  T231    GRAVID  2017-08-31 00:08:00   \n",
       "3772   2016    30  100XX W OHARE AIRPORT  T905    GRAVID  2016-07-27 00:07:00   \n",
       "7692   2013    29     39XX S ASHLAND AVE  T074    GRAVID  2013-07-19 00:07:00   \n",
       "13844  2007    38      67XX S KEDZIE AVE  T066    GRAVID  2007-09-24 00:09:00   \n",
       "\n",
       "       Mosquito number WNV Present          Species        Lat        Lon  \\\n",
       "1507                 2    negative  CULEX TERRITANS  41.872873 -87.764737   \n",
       "2340                 2    negative   CULEX RESTUANS  41.987881 -87.666785   \n",
       "3772                25    negative   CULEX RESTUANS  41.977738 -87.880969   \n",
       "7692                22    negative   CULEX RESTUANS  41.820859 -87.665108   \n",
       "13844               11    negative    CULEX PIPIENS  41.771199 -87.703107   \n",
       "\n",
       "       Month  \n",
       "1507       8  \n",
       "2340       8  \n",
       "3772       7  \n",
       "7692       7  \n",
       "13844      9  "
      ]
     },
     "execution_count": 3,
     "metadata": {},
     "output_type": "execute_result"
    }
   ],
   "source": [
    "# Take a look at our dataframe\n",
    "mosquito_df.sample(5)"
   ]
  },
  {
   "cell_type": "code",
   "execution_count": 4,
   "metadata": {
    "ExecuteTime": {
     "end_time": "2022-06-20T00:18:44.941021Z",
     "start_time": "2022-06-20T00:18:44.926822Z"
    },
    "hidden": true
   },
   "outputs": [
    {
     "name": "stdout",
     "output_type": "stream",
     "text": [
      "<class 'pandas.core.frame.DataFrame'>\n",
      "RangeIndex: 18495 entries, 0 to 18494\n",
      "Data columns (total 12 columns):\n",
      " #   Column           Non-Null Count  Dtype  \n",
      "---  ------           --------------  -----  \n",
      " 0   Year             18495 non-null  int64  \n",
      " 1   Week             18495 non-null  int64  \n",
      " 2   Address Block    18495 non-null  object \n",
      " 3   Trap             18495 non-null  object \n",
      " 4   Trap type        18495 non-null  object \n",
      " 5   Date             18495 non-null  object \n",
      " 6   Mosquito number  18495 non-null  int64  \n",
      " 7   WNV Present      18495 non-null  object \n",
      " 8   Species          18495 non-null  object \n",
      " 9   Lat              18495 non-null  float64\n",
      " 10  Lon              18495 non-null  float64\n",
      " 11  Month            18495 non-null  int64  \n",
      "dtypes: float64(2), int64(4), object(6)\n",
      "memory usage: 1.7+ MB\n"
     ]
    }
   ],
   "source": [
    "# Basic information about the dataset\n",
    "mosquito_df.info()"
   ]
  },
  {
   "cell_type": "markdown",
   "metadata": {
    "heading_collapsed": true
   },
   "source": [
    "## Data Cleaning "
   ]
  },
  {
   "cell_type": "markdown",
   "metadata": {
    "heading_collapsed": true,
    "hidden": true
   },
   "source": [
    "### Structuring the Column Name \n",
    "Replacing the blanks spaces between words  with \"_\" and changing to lower case to retain uniformity in the column name"
   ]
  },
  {
   "cell_type": "markdown",
   "metadata": {
    "hidden": true
   },
   "source": [
    "_column_rename function to standardized nomenclature for the column names_"
   ]
  },
  {
   "cell_type": "code",
   "execution_count": 5,
   "metadata": {
    "ExecuteTime": {
     "end_time": "2022-06-20T00:18:44.948355Z",
     "start_time": "2022-06-20T00:18:44.943501Z"
    },
    "hidden": true
   },
   "outputs": [],
   "source": [
    "def column_rename(names):\n",
    "    \n",
    "    '''\n",
    "    Replacing the space within the column name with \"_\" and changing the name into lower case.\n",
    "    \n",
    "    Parameters\n",
    "    ----------\n",
    "    data: A list as input\n",
    "    \n",
    "    Returns\n",
    "    -------\n",
    "    ret: A list output, the treated name list of the dataframe\n",
    "    \n",
    "    Examples\n",
    "    --------\n",
    "    >>>> data= [\"col 1\",\"col 2\"]\n",
    "    >>>> column_rename(data)\n",
    "    [\"col_1\",\"col_2\"]\n",
    "    '''\n",
    "    \n",
    "    \n",
    "    names = names.str.lower()\n",
    "    treated_name =[]\n",
    "    for name in names:\n",
    "        treated_name.append(name.replace(\" \",\"_\"))\n",
    "    return treated_name\n",
    "    "
   ]
  },
  {
   "cell_type": "code",
   "execution_count": 6,
   "metadata": {
    "ExecuteTime": {
     "end_time": "2022-06-20T00:18:44.967288Z",
     "start_time": "2022-06-20T00:18:44.951142Z"
    },
    "hidden": true
   },
   "outputs": [
    {
     "name": "stdout",
     "output_type": "stream",
     "text": [
      "<class 'pandas.core.frame.DataFrame'>\n",
      "RangeIndex: 18495 entries, 0 to 18494\n",
      "Data columns (total 12 columns):\n",
      " #   Column           Non-Null Count  Dtype  \n",
      "---  ------           --------------  -----  \n",
      " 0   year             18495 non-null  int64  \n",
      " 1   week             18495 non-null  int64  \n",
      " 2   address_block    18495 non-null  object \n",
      " 3   trap             18495 non-null  object \n",
      " 4   trap_type        18495 non-null  object \n",
      " 5   date             18495 non-null  object \n",
      " 6   mosquito_number  18495 non-null  int64  \n",
      " 7   wnv_present      18495 non-null  object \n",
      " 8   species          18495 non-null  object \n",
      " 9   lat              18495 non-null  float64\n",
      " 10  lon              18495 non-null  float64\n",
      " 11  month            18495 non-null  int64  \n",
      "dtypes: float64(2), int64(4), object(6)\n",
      "memory usage: 1.7+ MB\n"
     ]
    }
   ],
   "source": [
    "# setting a standard nomenclature for the column names\n",
    "mosquito_df.columns = column_rename(mosquito_df.columns)\n",
    "mosquito_df.info()"
   ]
  },
  {
   "cell_type": "markdown",
   "metadata": {
    "ExecuteTime": {
     "end_time": "2022-06-17T02:03:28.077962Z",
     "start_time": "2022-06-17T02:03:28.074486Z"
    },
    "hidden": true
   },
   "source": [
    "### Handling the Date data type"
   ]
  },
  {
   "cell_type": "code",
   "execution_count": 7,
   "metadata": {
    "ExecuteTime": {
     "end_time": "2022-06-20T00:18:44.989586Z",
     "start_time": "2022-06-20T00:18:44.969302Z"
    },
    "hidden": true
   },
   "outputs": [
    {
     "name": "stdout",
     "output_type": "stream",
     "text": [
      "<class 'pandas.core.frame.DataFrame'>\n",
      "RangeIndex: 18495 entries, 0 to 18494\n",
      "Data columns (total 12 columns):\n",
      " #   Column           Non-Null Count  Dtype         \n",
      "---  ------           --------------  -----         \n",
      " 0   year             18495 non-null  int64         \n",
      " 1   week             18495 non-null  int64         \n",
      " 2   address_block    18495 non-null  object        \n",
      " 3   trap             18495 non-null  object        \n",
      " 4   trap_type        18495 non-null  object        \n",
      " 5   date             18495 non-null  datetime64[ns]\n",
      " 6   mosquito_number  18495 non-null  int64         \n",
      " 7   wnv_present      18495 non-null  object        \n",
      " 8   species          18495 non-null  object        \n",
      " 9   lat              18495 non-null  float64       \n",
      " 10  lon              18495 non-null  float64       \n",
      " 11  month            18495 non-null  int64         \n",
      "dtypes: datetime64[ns](1), float64(2), int64(4), object(5)\n",
      "memory usage: 1.7+ MB\n"
     ]
    }
   ],
   "source": [
    "# converting the datatype\n",
    "mosquito_df[\"date\"]= mosquito_df[\"date\"].astype(\"datetime64\")\n",
    "mosquito_df.info()"
   ]
  },
  {
   "cell_type": "markdown",
   "metadata": {
    "hidden": true
   },
   "source": [
    "For the `date` column the data type is changed from object to datatime"
   ]
  },
  {
   "cell_type": "markdown",
   "metadata": {
    "hidden": true
   },
   "source": [
    "### Removing Duplicate Columns and Rows\n",
    "#### Handling Duplicate Rows"
   ]
  },
  {
   "cell_type": "code",
   "execution_count": 8,
   "metadata": {
    "ExecuteTime": {
     "end_time": "2022-06-20T00:18:45.033562Z",
     "start_time": "2022-06-20T00:18:44.994528Z"
    },
    "hidden": true
   },
   "outputs": [
    {
     "data": {
      "text/html": [
       "<div>\n",
       "<style scoped>\n",
       "    .dataframe tbody tr th:only-of-type {\n",
       "        vertical-align: middle;\n",
       "    }\n",
       "\n",
       "    .dataframe tbody tr th {\n",
       "        vertical-align: top;\n",
       "    }\n",
       "\n",
       "    .dataframe thead th {\n",
       "        text-align: right;\n",
       "    }\n",
       "</style>\n",
       "<table border=\"1\" class=\"dataframe\">\n",
       "  <thead>\n",
       "    <tr style=\"text-align: right;\">\n",
       "      <th></th>\n",
       "      <th>year</th>\n",
       "      <th>week</th>\n",
       "      <th>address_block</th>\n",
       "      <th>trap</th>\n",
       "      <th>trap_type</th>\n",
       "      <th>date</th>\n",
       "      <th>mosquito_number</th>\n",
       "      <th>wnv_present</th>\n",
       "      <th>species</th>\n",
       "      <th>lat</th>\n",
       "      <th>lon</th>\n",
       "      <th>month</th>\n",
       "    </tr>\n",
       "  </thead>\n",
       "  <tbody>\n",
       "    <tr>\n",
       "      <th>187</th>\n",
       "      <td>2019</td>\n",
       "      <td>35</td>\n",
       "      <td>100XX W OHARE AIRPORT</td>\n",
       "      <td>T913</td>\n",
       "      <td>GRAVID</td>\n",
       "      <td>2019-08-29 00:08:00</td>\n",
       "      <td>3</td>\n",
       "      <td>positive</td>\n",
       "      <td>CULEX RESTUANS</td>\n",
       "      <td>41.977738</td>\n",
       "      <td>-87.880969</td>\n",
       "      <td>8</td>\n",
       "    </tr>\n",
       "    <tr>\n",
       "      <th>273</th>\n",
       "      <td>2019</td>\n",
       "      <td>34</td>\n",
       "      <td>100XX W OHARE AIRPORT</td>\n",
       "      <td>T901</td>\n",
       "      <td>GRAVID</td>\n",
       "      <td>2019-08-22 00:08:00</td>\n",
       "      <td>16</td>\n",
       "      <td>positive</td>\n",
       "      <td>CULEX RESTUANS</td>\n",
       "      <td>41.977738</td>\n",
       "      <td>-87.880969</td>\n",
       "      <td>8</td>\n",
       "    </tr>\n",
       "    <tr>\n",
       "      <th>310</th>\n",
       "      <td>2019</td>\n",
       "      <td>33</td>\n",
       "      <td>100XX W OHARE</td>\n",
       "      <td>T903</td>\n",
       "      <td>GRAVID</td>\n",
       "      <td>2019-08-15 00:08:00</td>\n",
       "      <td>3</td>\n",
       "      <td>positive</td>\n",
       "      <td>CULEX RESTUANS</td>\n",
       "      <td>41.977738</td>\n",
       "      <td>-87.880969</td>\n",
       "      <td>8</td>\n",
       "    </tr>\n",
       "    <tr>\n",
       "      <th>341</th>\n",
       "      <td>2019</td>\n",
       "      <td>33</td>\n",
       "      <td>100XX W OHARE AIRPORT</td>\n",
       "      <td>T913</td>\n",
       "      <td>GRAVID</td>\n",
       "      <td>2019-08-15 00:08:00</td>\n",
       "      <td>15</td>\n",
       "      <td>positive</td>\n",
       "      <td>CULEX RESTUANS</td>\n",
       "      <td>41.977738</td>\n",
       "      <td>-87.880969</td>\n",
       "      <td>8</td>\n",
       "    </tr>\n",
       "    <tr>\n",
       "      <th>398</th>\n",
       "      <td>2019</td>\n",
       "      <td>32</td>\n",
       "      <td>100XX W OHARE AIRPORT</td>\n",
       "      <td>T913</td>\n",
       "      <td>GRAVID</td>\n",
       "      <td>2019-08-08 00:08:00</td>\n",
       "      <td>8</td>\n",
       "      <td>positive</td>\n",
       "      <td>CULEX RESTUANS</td>\n",
       "      <td>41.977738</td>\n",
       "      <td>-87.880969</td>\n",
       "      <td>8</td>\n",
       "    </tr>\n",
       "    <tr>\n",
       "      <th>...</th>\n",
       "      <td>...</td>\n",
       "      <td>...</td>\n",
       "      <td>...</td>\n",
       "      <td>...</td>\n",
       "      <td>...</td>\n",
       "      <td>...</td>\n",
       "      <td>...</td>\n",
       "      <td>...</td>\n",
       "      <td>...</td>\n",
       "      <td>...</td>\n",
       "      <td>...</td>\n",
       "      <td>...</td>\n",
       "    </tr>\n",
       "    <tr>\n",
       "      <th>18476</th>\n",
       "      <td>2013</td>\n",
       "      <td>29</td>\n",
       "      <td>100XX W OHARE AIRPORT</td>\n",
       "      <td>T912</td>\n",
       "      <td>GRAVID</td>\n",
       "      <td>2013-07-19 00:07:00</td>\n",
       "      <td>46</td>\n",
       "      <td>positive</td>\n",
       "      <td>CULEX RESTUANS</td>\n",
       "      <td>41.977738</td>\n",
       "      <td>-87.880969</td>\n",
       "      <td>7</td>\n",
       "    </tr>\n",
       "    <tr>\n",
       "      <th>18477</th>\n",
       "      <td>2013</td>\n",
       "      <td>35</td>\n",
       "      <td>100XX W OHARE AIRPORT</td>\n",
       "      <td>T906</td>\n",
       "      <td>GRAVID</td>\n",
       "      <td>2013-08-29 00:08:00</td>\n",
       "      <td>50</td>\n",
       "      <td>positive</td>\n",
       "      <td>CULEX PIPIENS</td>\n",
       "      <td>41.977738</td>\n",
       "      <td>-87.880969</td>\n",
       "      <td>8</td>\n",
       "    </tr>\n",
       "    <tr>\n",
       "      <th>18486</th>\n",
       "      <td>2016</td>\n",
       "      <td>29</td>\n",
       "      <td>100XX W OHARE AIRPORT</td>\n",
       "      <td>T911</td>\n",
       "      <td>GRAVID</td>\n",
       "      <td>2016-07-21 00:07:00</td>\n",
       "      <td>47</td>\n",
       "      <td>positive</td>\n",
       "      <td>CULEX RESTUANS</td>\n",
       "      <td>41.977738</td>\n",
       "      <td>-87.880969</td>\n",
       "      <td>7</td>\n",
       "    </tr>\n",
       "    <tr>\n",
       "      <th>18488</th>\n",
       "      <td>2017</td>\n",
       "      <td>30</td>\n",
       "      <td>100XX W OHARE AIRPORT</td>\n",
       "      <td>T900</td>\n",
       "      <td>GRAVID</td>\n",
       "      <td>2017-07-27 00:07:00</td>\n",
       "      <td>17</td>\n",
       "      <td>positive</td>\n",
       "      <td>CULEX RESTUANS</td>\n",
       "      <td>41.977738</td>\n",
       "      <td>-87.880969</td>\n",
       "      <td>7</td>\n",
       "    </tr>\n",
       "    <tr>\n",
       "      <th>18494</th>\n",
       "      <td>2015</td>\n",
       "      <td>33</td>\n",
       "      <td>100XX W OHARE AIRPORT</td>\n",
       "      <td>T902</td>\n",
       "      <td>GRAVID</td>\n",
       "      <td>2015-08-20 00:08:00</td>\n",
       "      <td>6</td>\n",
       "      <td>positive</td>\n",
       "      <td>CULEX RESTUANS</td>\n",
       "      <td>41.977738</td>\n",
       "      <td>-87.880969</td>\n",
       "      <td>8</td>\n",
       "    </tr>\n",
       "  </tbody>\n",
       "</table>\n",
       "<p>862 rows × 12 columns</p>\n",
       "</div>"
      ],
      "text/plain": [
       "       year  week          address_block  trap trap_type                date  \\\n",
       "187    2019    35  100XX W OHARE AIRPORT  T913    GRAVID 2019-08-29 00:08:00   \n",
       "273    2019    34  100XX W OHARE AIRPORT  T901    GRAVID 2019-08-22 00:08:00   \n",
       "310    2019    33          100XX W OHARE  T903    GRAVID 2019-08-15 00:08:00   \n",
       "341    2019    33  100XX W OHARE AIRPORT  T913    GRAVID 2019-08-15 00:08:00   \n",
       "398    2019    32  100XX W OHARE AIRPORT  T913    GRAVID 2019-08-08 00:08:00   \n",
       "...     ...   ...                    ...   ...       ...                 ...   \n",
       "18476  2013    29  100XX W OHARE AIRPORT  T912    GRAVID 2013-07-19 00:07:00   \n",
       "18477  2013    35  100XX W OHARE AIRPORT  T906    GRAVID 2013-08-29 00:08:00   \n",
       "18486  2016    29  100XX W OHARE AIRPORT  T911    GRAVID 2016-07-21 00:07:00   \n",
       "18488  2017    30  100XX W OHARE AIRPORT  T900    GRAVID 2017-07-27 00:07:00   \n",
       "18494  2015    33  100XX W OHARE AIRPORT  T902    GRAVID 2015-08-20 00:08:00   \n",
       "\n",
       "       mosquito_number wnv_present         species        lat        lon  \\\n",
       "187                  3    positive  CULEX RESTUANS  41.977738 -87.880969   \n",
       "273                 16    positive  CULEX RESTUANS  41.977738 -87.880969   \n",
       "310                  3    positive  CULEX RESTUANS  41.977738 -87.880969   \n",
       "341                 15    positive  CULEX RESTUANS  41.977738 -87.880969   \n",
       "398                  8    positive  CULEX RESTUANS  41.977738 -87.880969   \n",
       "...                ...         ...             ...        ...        ...   \n",
       "18476               46    positive  CULEX RESTUANS  41.977738 -87.880969   \n",
       "18477               50    positive   CULEX PIPIENS  41.977738 -87.880969   \n",
       "18486               47    positive  CULEX RESTUANS  41.977738 -87.880969   \n",
       "18488               17    positive  CULEX RESTUANS  41.977738 -87.880969   \n",
       "18494                6    positive  CULEX RESTUANS  41.977738 -87.880969   \n",
       "\n",
       "       month  \n",
       "187        8  \n",
       "273        8  \n",
       "310        8  \n",
       "341        8  \n",
       "398        8  \n",
       "...      ...  \n",
       "18476      7  \n",
       "18477      8  \n",
       "18486      7  \n",
       "18488      7  \n",
       "18494      8  \n",
       "\n",
       "[862 rows x 12 columns]"
      ]
     },
     "execution_count": 8,
     "metadata": {},
     "output_type": "execute_result"
    }
   ],
   "source": [
    "# Exploring the duplicate rows\n",
    "duplicate_index = mosquito_df.duplicated(keep=False)\n",
    "mosquito_df.loc[duplicate_index, :]"
   ]
  },
  {
   "cell_type": "code",
   "execution_count": 9,
   "metadata": {
    "ExecuteTime": {
     "end_time": "2022-06-20T00:18:45.051935Z",
     "start_time": "2022-06-20T00:18:45.036756Z"
    },
    "hidden": true
   },
   "outputs": [
    {
     "name": "stdout",
     "output_type": "stream",
     "text": [
      "Total number of rows found :18495\n",
      "Total duplicate rows found :862\n"
     ]
    }
   ],
   "source": [
    "# Exploring the duplicate rows %\n",
    "duplicated_row_count = mosquito_df.duplicated(keep=False).sum()\n",
    "print(f\"Total number of rows found :{mosquito_df.shape[0]}\")\n",
    "print(f\"Total duplicate rows found :{duplicated_row_count}\")"
   ]
  },
  {
   "cell_type": "code",
   "execution_count": 10,
   "metadata": {
    "ExecuteTime": {
     "end_time": "2022-06-20T00:18:45.082477Z",
     "start_time": "2022-06-20T00:18:45.053770Z"
    },
    "hidden": true
   },
   "outputs": [
    {
     "name": "stdout",
     "output_type": "stream",
     "text": [
      "Total number of rows found :17837\n",
      "Total duplicate rows found :0\n"
     ]
    }
   ],
   "source": [
    "# Droping the 662 duplicate rows from the dataset\n",
    "mosquito_df.drop_duplicates(inplace=True)\n",
    "duplicated_row_count =mosquito_df.duplicated().sum()\n",
    "\n",
    "# Cross validating the results\n",
    "print(f\"Total number of rows found :{mosquito_df.shape[0]}\")\n",
    "print(f\"Total duplicate rows found :{duplicated_row_count}\")"
   ]
  },
  {
   "cell_type": "markdown",
   "metadata": {
    "hidden": true
   },
   "source": [
    "From the initial exploration, out of 18495 rows , 862 rows are found to be duplicate and therefore removed from the dataset. After removing the  duplicate rows the  remaining dataset consists of 17837 rows and 12 columns. "
   ]
  },
  {
   "cell_type": "markdown",
   "metadata": {
    "hidden": true
   },
   "source": [
    "#### Exploring the Duplicate and the redundant Columns\n",
    "To handle the duplicate columns the strategies adopted are as follows\n",
    "- checking the columns to find identical columns based on existing values\n",
    "- checking the columns to find identical columns based on the inert relationship . For example `year` column with  `date` column."
   ]
  },
  {
   "cell_type": "code",
   "execution_count": 11,
   "metadata": {
    "ExecuteTime": {
     "end_time": "2022-06-20T00:18:48.357244Z",
     "start_time": "2022-06-20T00:18:45.084271Z"
    },
    "code_folding": [],
    "hidden": true
   },
   "outputs": [
    {
     "name": "stdout",
     "output_type": "stream",
     "text": [
      "Total duplicate columns found :0\n"
     ]
    }
   ],
   "source": [
    "#Transpose the Column and check for duplicate column\n",
    "mosquito_df_transpose = mosquito_df.T\n",
    "print(f\"Total duplicate columns found :{mosquito_df_transpose.duplicated().sum()}\")"
   ]
  },
  {
   "cell_type": "markdown",
   "metadata": {
    "hidden": true
   },
   "source": [
    "There was no duplicate column found based on their existing values. Now based on the second strategy, `week`,`year` and `month` are explored with respect to the `date` column to find the level of similarities."
   ]
  },
  {
   "cell_type": "code",
   "execution_count": 12,
   "metadata": {
    "ExecuteTime": {
     "end_time": "2022-06-20T00:18:48.383248Z",
     "start_time": "2022-06-20T00:18:48.358856Z"
    },
    "hidden": true
   },
   "outputs": [
    {
     "name": "stdout",
     "output_type": "stream",
     "text": [
      "The 'date' and the 'year' columns are 100.0% similar\n",
      "The 'date' and the 'month' columns are 100.0% similar\n",
      "The 'date' and the 'week' columns are 66.47% similar\n"
     ]
    }
   ],
   "source": [
    "# Date vs Year\n",
    "date_year = ((mosquito_df[mosquito_df['year']== mosquito_df['date'].dt.isocalendar().year].shape[0])/mosquito_df.shape[0])*100\n",
    "print(f\"The 'date' and the 'year' columns are {date_year}% similar\")\n",
    "\n",
    "# Date vs MONTH\n",
    "date_month = ((mosquito_df[mosquito_df['month']== mosquito_df['date'].dt.month].shape[0])/mosquito_df.shape[0])*100\n",
    "print(f\"The 'date' and the 'month' columns are {date_month}% similar\")\n",
    "\n",
    "# Date vs WEEK\n",
    "date_week = ((mosquito_df[mosquito_df['week']== mosquito_df['date'].dt.isocalendar().week].shape[0])/mosquito_df.shape[0])*100\n",
    "print(f\"The 'date' and the 'week' columns are {round(date_week,2)}% similar\")\n",
    "\n"
   ]
  },
  {
   "cell_type": "markdown",
   "metadata": {
    "hidden": true
   },
   "source": [
    "Analyzing the non identical values of the `week` column with respect to the `date` column"
   ]
  },
  {
   "cell_type": "code",
   "execution_count": 13,
   "metadata": {
    "ExecuteTime": {
     "end_time": "2022-06-20T00:18:48.397587Z",
     "start_time": "2022-06-20T00:18:48.384587Z"
    },
    "hidden": true
   },
   "outputs": [
    {
     "data": {
      "text/plain": [
       "1    88.277592\n",
       "2     8.996656\n",
       "3     1.722408\n",
       "4     0.652174\n",
       "5     0.351171\n",
       "Name: difference, dtype: float64"
      ]
     },
     "execution_count": 13,
     "metadata": {},
     "output_type": "execute_result"
    }
   ],
   "source": [
    "non_indentical_date_week= mosquito_df[mosquito_df['week']!= mosquito_df['date'].dt.isocalendar().week].reset_index()\n",
    "non_indentical_date_week[\"week_as_per_year\"]= non_indentical_date_week[\"date\"].dt.isocalendar().week\n",
    "non_indentical_date_week[\"difference\"] =non_indentical_date_week[\"week_as_per_year\"]-non_indentical_date_week[\"week\"]\n",
    "non_indentical_date_week[\"difference\"].value_counts(normalize =True)*100"
   ]
  },
  {
   "cell_type": "markdown",
   "metadata": {
    "ExecuteTime": {
     "end_time": "2022-06-17T03:57:52.806890Z",
     "start_time": "2022-06-17T03:57:52.796615Z"
    },
    "hidden": true
   },
   "source": [
    "As per the above results, within 33.53% of the values in `week` column which are not similar to week number generated from the `date` column, 88.25% of value has a difference of \"one\" and 8.99% has the difference of \"two\" and the remaining percentage for the difference of \"three\", \"four\" and \"five\" is  very low.<br>\n",
    "Now it can be concluded that the disparity in the `week`column with respect to the week number generated from the `date`column is the result of the incorrect data entry. Therefore the values of the `week` column is replaced with the week number generated from the `date` column."
   ]
  },
  {
   "cell_type": "code",
   "execution_count": 14,
   "metadata": {
    "ExecuteTime": {
     "end_time": "2022-06-20T00:18:48.409067Z",
     "start_time": "2022-06-20T00:18:48.399114Z"
    },
    "hidden": true
   },
   "outputs": [
    {
     "name": "stdout",
     "output_type": "stream",
     "text": [
      "The 'date' and the 'week' columns are 100.0% similar\n"
     ]
    }
   ],
   "source": [
    "mosquito_df[\"week\"] = mosquito_df['date'].dt.isocalendar().week\n",
    "date_week = ((mosquito_df[mosquito_df['week']== mosquito_df['date'].dt.isocalendar().week].shape[0])/mosquito_df.shape[0])*100\n",
    "print(f\"The 'date' and the 'week' columns are {round(date_week,2)}% similar\")"
   ]
  },
  {
   "cell_type": "code",
   "execution_count": 15,
   "metadata": {
    "ExecuteTime": {
     "end_time": "2022-06-20T00:18:48.422036Z",
     "start_time": "2022-06-20T00:18:48.410478Z"
    },
    "hidden": true
   },
   "outputs": [
    {
     "name": "stdout",
     "output_type": "stream",
     "text": [
      "<class 'pandas.core.frame.DataFrame'>\n",
      "Int64Index: 17837 entries, 0 to 18493\n",
      "Data columns (total 11 columns):\n",
      " #   Column           Non-Null Count  Dtype  \n",
      "---  ------           --------------  -----  \n",
      " 0   year             17837 non-null  int64  \n",
      " 1   week             17837 non-null  UInt32 \n",
      " 2   address_block    17837 non-null  object \n",
      " 3   trap             17837 non-null  object \n",
      " 4   trap_type        17837 non-null  object \n",
      " 5   mosquito_number  17837 non-null  int64  \n",
      " 6   wnv_present      17837 non-null  object \n",
      " 7   species          17837 non-null  object \n",
      " 8   lat              17837 non-null  float64\n",
      " 9   lon              17837 non-null  float64\n",
      " 10  month            17837 non-null  int64  \n",
      "dtypes: UInt32(1), float64(2), int64(3), object(5)\n",
      "memory usage: 2.2+ MB\n"
     ]
    }
   ],
   "source": [
    "# Droping the Date Column \n",
    "mosquito_df.drop([\"date\"],axis=1,inplace=True)\n",
    "mosquito_df.info()"
   ]
  },
  {
   "cell_type": "markdown",
   "metadata": {
    "hidden": true
   },
   "source": [
    "Finally based on the above result, it can  be  concluded that the '`date` column is represent by the `year`,`month` and `week` column separately . Therefore the `date` column is dropped from the dataset "
   ]
  },
  {
   "cell_type": "markdown",
   "metadata": {},
   "source": [
    "## Basic Analysis"
   ]
  },
  {
   "cell_type": "markdown",
   "metadata": {
    "heading_collapsed": true
   },
   "source": [
    "### Convert the WNV Present column into a binary column "
   ]
  },
  {
   "cell_type": "markdown",
   "metadata": {
    "hidden": true
   },
   "source": [
    "Exploring the categories in `wnv_present`column"
   ]
  },
  {
   "cell_type": "code",
   "execution_count": 16,
   "metadata": {
    "ExecuteTime": {
     "end_time": "2022-06-20T00:18:48.427779Z",
     "start_time": "2022-06-20T00:18:48.423497Z"
    },
    "hidden": true
   },
   "outputs": [
    {
     "data": {
      "text/plain": [
       "array(['negative', 'positive'], dtype=object)"
      ]
     },
     "execution_count": 16,
     "metadata": {},
     "output_type": "execute_result"
    }
   ],
   "source": [
    "mosquito_df[\"wnv_present\"].unique()"
   ]
  },
  {
   "cell_type": "markdown",
   "metadata": {
    "hidden": true
   },
   "source": [
    "Replacing the \"negative\" and \"positive\" value  in the `wnv_present` with 0 and 1 respectively "
   ]
  },
  {
   "cell_type": "code",
   "execution_count": 17,
   "metadata": {
    "ExecuteTime": {
     "end_time": "2022-06-20T00:18:48.435013Z",
     "start_time": "2022-06-20T00:18:48.429185Z"
    },
    "hidden": true
   },
   "outputs": [
    {
     "data": {
      "text/plain": [
       "array([0, 1])"
      ]
     },
     "execution_count": 17,
     "metadata": {},
     "output_type": "execute_result"
    }
   ],
   "source": [
    "# replacing the WNV present column with dummy variable\n",
    "mosquito_df['wnv_present'] = mosquito_df['wnv_present'].map({\"negative\": 0,\"positive\": 1})\n",
    "mosquito_df[\"wnv_present\"].unique()"
   ]
  },
  {
   "cell_type": "markdown",
   "metadata": {
    "heading_collapsed": true
   },
   "source": [
    "### Create dummy variables from the Trap type column."
   ]
  },
  {
   "cell_type": "markdown",
   "metadata": {
    "hidden": true
   },
   "source": [
    "Exploring the categories in `trap_type`column"
   ]
  },
  {
   "cell_type": "code",
   "execution_count": 18,
   "metadata": {
    "ExecuteTime": {
     "end_time": "2022-06-20T00:18:48.442322Z",
     "start_time": "2022-06-20T00:18:48.436445Z"
    },
    "hidden": true
   },
   "outputs": [
    {
     "data": {
      "text/plain": [
       "GRAVID      95.856927\n",
       "CDC          2.965745\n",
       "SENTINEL     1.171722\n",
       "OVI          0.005606\n",
       "Name: trap_type, dtype: float64"
      ]
     },
     "execution_count": 18,
     "metadata": {},
     "output_type": "execute_result"
    }
   ],
   "source": [
    "trap_category = mosquito_df[\"trap_type\"].value_counts(normalize=True)*100\n",
    "trap_category"
   ]
  },
  {
   "cell_type": "code",
   "execution_count": 19,
   "metadata": {
    "ExecuteTime": {
     "end_time": "2022-06-20T00:18:48.560195Z",
     "start_time": "2022-06-20T00:18:48.443734Z"
    },
    "hidden": true
   },
   "outputs": [
    {
     "data": {
      "image/png": "[encoded data removed]",
      "text/plain": [
       "<Figure size 720x360 with 1 Axes>"
      ]
     },
     "metadata": {
      "needs_background": "light"
     },
     "output_type": "display_data"
    }
   ],
   "source": [
    "plt.figure(figsize=(10,5))\n",
    "plt.barh(trap_category.index,trap_category.values,)\n",
    "plt.ylabel(\"Categories\")\n",
    "plt.xlim(0,100)\n",
    "plt.xlabel(\"Total count in (%)\")\n",
    "plt.title(\"Distribution of Trap count per Categories in % \")\n",
    "plt.show()"
   ]
  },
  {
   "cell_type": "markdown",
   "metadata": {
    "hidden": true
   },
   "source": [
    "As the \"SENTINEL\",\"CDC\" and \"OVI\" trap_type count are significantly low compare to the \"GRAVLE\" trap_type which alone represent 95.86 % of the entire data set , two possible strategies can be adopted\n",
    "- Strategy_1: Converting the `trap_type` column into dummy variable and droping the \"OVI\" as it represent below 1% of the overall dataset\n",
    "- Strategy_2: Converting the `trap_type` column into binary column by mapping \"GRAVEL\" type as <b>1</b> and  grouping \"SENTINEL\",\"CDC\" and \"OVI\" under a single label as \"others\" and mapped as <b>0</b> \n",
    "\n",
    "**Strategy_1**\n",
    "Converting into dummy variables"
   ]
  },
  {
   "cell_type": "code",
   "execution_count": 20,
   "metadata": {
    "ExecuteTime": {
     "end_time": "2022-06-20T00:18:48.567838Z",
     "start_time": "2022-06-20T00:18:48.561979Z"
    },
    "hidden": true
   },
   "outputs": [
    {
     "data": {
      "text/plain": [
       "(17837, 3)"
      ]
     },
     "execution_count": 20,
     "metadata": {},
     "output_type": "execute_result"
    }
   ],
   "source": [
    "# Creating dummy variables \n",
    "dummy_trap_type = pd.get_dummies(mosquito_df[\"trap_type\"])\n",
    "dummy_trap_type= dummy_trap_type.drop([\"OVI\"],axis=1)\n",
    "dummy_trap_type.shape"
   ]
  },
  {
   "cell_type": "markdown",
   "metadata": {
    "hidden": true
   },
   "source": [
    "Merging the dummy variable in the `mosquito_df` dataframe and dropping the `trap_type` column "
   ]
  },
  {
   "cell_type": "code",
   "execution_count": 21,
   "metadata": {
    "ExecuteTime": {
     "end_time": "2022-06-20T00:18:48.574757Z",
     "start_time": "2022-06-20T00:18:48.569313Z"
    },
    "hidden": true
   },
   "outputs": [],
   "source": [
    "# Adding the Dummy Variable to exisiting mosquito_df dataframe\n",
    "df = [mosquito_df,dummy_trap_type]\n",
    "mosquito_df_strategy_1=pd.concat(df,axis=1)\n",
    "\n",
    "# renaming the column name as the column naming standard of the dateframe\n",
    "mosquito_df_strategy_1.columns = column_rename(mosquito_df_strategy_1.columns)"
   ]
  },
  {
   "cell_type": "code",
   "execution_count": 22,
   "metadata": {
    "ExecuteTime": {
     "end_time": "2022-06-20T00:18:48.587125Z",
     "start_time": "2022-06-20T00:18:48.576021Z"
    },
    "hidden": true
   },
   "outputs": [
    {
     "name": "stdout",
     "output_type": "stream",
     "text": [
      "<class 'pandas.core.frame.DataFrame'>\n",
      "Int64Index: 17837 entries, 0 to 18493\n",
      "Data columns (total 13 columns):\n",
      " #   Column           Non-Null Count  Dtype  \n",
      "---  ------           --------------  -----  \n",
      " 0   year             17837 non-null  int64  \n",
      " 1   week             17837 non-null  UInt32 \n",
      " 2   address_block    17837 non-null  object \n",
      " 3   trap             17837 non-null  object \n",
      " 4   mosquito_number  17837 non-null  int64  \n",
      " 5   wnv_present      17837 non-null  int64  \n",
      " 6   species          17837 non-null  object \n",
      " 7   lat              17837 non-null  float64\n",
      " 8   lon              17837 non-null  float64\n",
      " 9   month            17837 non-null  int64  \n",
      " 10  cdc              17837 non-null  uint8  \n",
      " 11  gravid           17837 non-null  uint8  \n",
      " 12  sentinel         17837 non-null  uint8  \n",
      "dtypes: UInt32(1), float64(2), int64(4), object(3), uint8(3)\n",
      "memory usage: 2.1+ MB\n"
     ]
    }
   ],
   "source": [
    "# droping the wnv_present column\n",
    "mosquito_df_strategy_1 = mosquito_df_strategy_1.drop([\"trap_type\"],axis=1)\n",
    "mosquito_df_strategy_1.info()"
   ]
  },
  {
   "cell_type": "markdown",
   "metadata": {
    "ExecuteTime": {
     "end_time": "2022-06-18T16:39:28.390192Z",
     "start_time": "2022-06-18T16:39:28.375800Z"
    },
    "hidden": true
   },
   "source": [
    "**Strategy_2**\n",
    "Converting into `trap_type`column into binary variables"
   ]
  },
  {
   "cell_type": "code",
   "execution_count": 23,
   "metadata": {
    "ExecuteTime": {
     "end_time": "2022-06-20T00:18:48.604896Z",
     "start_time": "2022-06-20T00:18:48.592888Z"
    },
    "hidden": true
   },
   "outputs": [
    {
     "name": "stdout",
     "output_type": "stream",
     "text": [
      "<class 'pandas.core.frame.DataFrame'>\n",
      "Int64Index: 17837 entries, 0 to 18493\n",
      "Data columns (total 11 columns):\n",
      " #   Column           Non-Null Count  Dtype  \n",
      "---  ------           --------------  -----  \n",
      " 0   year             17837 non-null  int64  \n",
      " 1   week             17837 non-null  UInt32 \n",
      " 2   address_block    17837 non-null  object \n",
      " 3   trap             17837 non-null  object \n",
      " 4   trap_type        17837 non-null  int64  \n",
      " 5   mosquito_number  17837 non-null  int64  \n",
      " 6   wnv_present      17837 non-null  int64  \n",
      " 7   species          17837 non-null  object \n",
      " 8   lat              17837 non-null  float64\n",
      " 9   lon              17837 non-null  float64\n",
      " 10  month            17837 non-null  int64  \n",
      "dtypes: UInt32(1), float64(2), int64(5), object(3)\n",
      "memory usage: 2.2+ MB\n"
     ]
    }
   ],
   "source": [
    "mosquito_df_strategy_2 = mosquito_df.copy()\n",
    "mosquito_df_strategy_2[\"trap_type\"] = mosquito_df_strategy_2['trap_type'].map({\"GRAVID\": 1,\"CDC\": 0,\"SENTINEL\":0,\"OVI\":0})\n",
    "mosquito_df_strategy_2.info()"
   ]
  },
  {
   "cell_type": "markdown",
   "metadata": {
    "hidden": true
   },
   "source": [
    "**Conclusion -** Based on the above two strategies , <b>Strategy_2</b> is adopted as the `GRAVID` trap type is the most used trap category for the research with 95.6% count among all the four categories. This also reduce the chances of adding insignificant features to the data set for future modeling. "
   ]
  },
  {
   "cell_type": "markdown",
   "metadata": {
    "heading_collapsed": true
   },
   "source": [
    "### What is the average number of mosquitoes for each month? What trends do you notice?"
   ]
  },
  {
   "cell_type": "code",
   "execution_count": 24,
   "metadata": {
    "ExecuteTime": {
     "end_time": "2022-06-20T00:18:48.619879Z",
     "start_time": "2022-06-20T00:18:48.608867Z"
    },
    "hidden": true
   },
   "outputs": [
    {
     "data": {
      "text/html": [
       "<div>\n",
       "<style scoped>\n",
       "    .dataframe tbody tr th:only-of-type {\n",
       "        vertical-align: middle;\n",
       "    }\n",
       "\n",
       "    .dataframe tbody tr th {\n",
       "        vertical-align: top;\n",
       "    }\n",
       "\n",
       "    .dataframe thead th {\n",
       "        text-align: right;\n",
       "    }\n",
       "</style>\n",
       "<table border=\"1\" class=\"dataframe\">\n",
       "  <thead>\n",
       "    <tr style=\"text-align: right;\">\n",
       "      <th></th>\n",
       "      <th>total_mosquitoes_per_month</th>\n",
       "      <th>days_per_month</th>\n",
       "      <th>average_per_month</th>\n",
       "    </tr>\n",
       "  </thead>\n",
       "  <tbody>\n",
       "    <tr>\n",
       "      <th>MAY</th>\n",
       "      <td>116</td>\n",
       "      <td>31</td>\n",
       "      <td>3.74</td>\n",
       "    </tr>\n",
       "    <tr>\n",
       "      <th>JUNE</th>\n",
       "      <td>27760</td>\n",
       "      <td>30</td>\n",
       "      <td>925.33</td>\n",
       "    </tr>\n",
       "    <tr>\n",
       "      <th>JULY</th>\n",
       "      <td>54338</td>\n",
       "      <td>31</td>\n",
       "      <td>1752.84</td>\n",
       "    </tr>\n",
       "    <tr>\n",
       "      <th>AUGUST</th>\n",
       "      <td>75601</td>\n",
       "      <td>31</td>\n",
       "      <td>2438.74</td>\n",
       "    </tr>\n",
       "    <tr>\n",
       "      <th>SEPTEMBER</th>\n",
       "      <td>27529</td>\n",
       "      <td>30</td>\n",
       "      <td>917.63</td>\n",
       "    </tr>\n",
       "    <tr>\n",
       "      <th>OCTOBER</th>\n",
       "      <td>1210</td>\n",
       "      <td>31</td>\n",
       "      <td>39.03</td>\n",
       "    </tr>\n",
       "  </tbody>\n",
       "</table>\n",
       "</div>"
      ],
      "text/plain": [
       "           total_mosquitoes_per_month  days_per_month  average_per_month\n",
       "MAY                               116              31               3.74\n",
       "JUNE                            27760              30             925.33\n",
       "JULY                            54338              31            1752.84\n",
       "AUGUST                          75601              31            2438.74\n",
       "SEPTEMBER                       27529              30             917.63\n",
       "OCTOBER                          1210              31              39.03"
      ]
     },
     "execution_count": 24,
     "metadata": {},
     "output_type": "execute_result"
    }
   ],
   "source": [
    "# counting the total mosquitoes per month \n",
    "mosquito_month_df = mosquito_df.groupby([\"month\"]).agg({\"mosquito_number\":[\"sum\"]})\n",
    "mosquito_month_df.columns=[\"total_mosquitoes_per_month\"]\n",
    "mosquito_month_df.index = [\"MAY\",\"JUNE\",\"JULY\",\"AUGUST\",\"SEPTEMBER\",\"OCTOBER\"]\n",
    "mosquito_month_df[\"days_per_month\"] = [31,30,31,31,30,31]\n",
    "\n",
    "\n",
    "# average mosquito per month \n",
    "average = mosquito_month_df[\"total_mosquitoes_per_month\"]/mosquito_month_df[\"days_per_month\"]\n",
    "\n",
    "#appeding to the average data into dataframe\n",
    "mosquito_month_df[\"average_per_month\"] = average.round(2)\n",
    "\n",
    "mosquito_month_df"
   ]
  },
  {
   "cell_type": "code",
   "execution_count": 25,
   "metadata": {
    "ExecuteTime": {
     "end_time": "2022-06-20T00:18:48.737803Z",
     "start_time": "2022-06-20T00:18:48.621495Z"
    },
    "hidden": true
   },
   "outputs": [
    {
     "data": {
      "image/png": "[encoded data removed]",
      "text/plain": [
       "<Figure size 1440x360 with 1 Axes>"
      ]
     },
     "metadata": {
      "needs_background": "light"
     },
     "output_type": "display_data"
    }
   ],
   "source": [
    "plt.figure(figsize=(20,5))\n",
    "plt.plot(mosquito_month_df.index,mosquito_month_df[\"average_per_month\"],c=\"red\",marker=\"*\")\n",
    "# plt.bar(mosquito_month_df.index,mosquito_month_df[\"average_per_month\"])\n",
    "plt.ylabel(\"mean mosquito number \")\n",
    "plt.title(\"Average Mosquitoes Per Month\")\n",
    "plt.grid()\n",
    "plt.show()"
   ]
  },
  {
   "cell_type": "markdown",
   "metadata": {
    "hidden": true
   },
   "source": [
    "**Conclusion -** Based on the above graph, it can be inferred that the average number of mosquitoes per month increase at the constant level from the month of May to August and then gradually decrease to  the same level from where it started, in the next two months.<br>\n",
    "\n",
    "This trend line clear indicates that the average number of mosquitoes per month has a strong relation with the season as it reaches its max level (close to the 2500 mark) in the peek summer and the slowly reduced to zero towards the winter.  \n"
   ]
  },
  {
   "cell_type": "markdown",
   "metadata": {},
   "source": [
    "## Statistical Analysis"
   ]
  },
  {
   "cell_type": "markdown",
   "metadata": {},
   "source": [
    "### Is there a statistically significant difference between the different mosquito species when looking at the occurrence of West Nile Virus?\n",
    "\n"
   ]
  },
  {
   "cell_type": "markdown",
   "metadata": {},
   "source": [
    "Creating a table of mosquito species based on the occurrence of West Nile Virus"
   ]
  },
  {
   "cell_type": "code",
   "execution_count": 26,
   "metadata": {
    "ExecuteTime": {
     "end_time": "2022-06-20T00:18:48.751389Z",
     "start_time": "2022-06-20T00:18:48.739566Z"
    }
   },
   "outputs": [
    {
     "data": {
      "text/html": [
       "<div>\n",
       "<style scoped>\n",
       "    .dataframe tbody tr th:only-of-type {\n",
       "        vertical-align: middle;\n",
       "    }\n",
       "\n",
       "    .dataframe tbody tr th {\n",
       "        vertical-align: top;\n",
       "    }\n",
       "\n",
       "    .dataframe thead th {\n",
       "        text-align: right;\n",
       "    }\n",
       "</style>\n",
       "<table border=\"1\" class=\"dataframe\">\n",
       "  <thead>\n",
       "    <tr style=\"text-align: right;\">\n",
       "      <th>wnv_present</th>\n",
       "      <th>Negative</th>\n",
       "      <th>Postive</th>\n",
       "    </tr>\n",
       "  </thead>\n",
       "  <tbody>\n",
       "    <tr>\n",
       "      <th>CULEX PIPIENS</th>\n",
       "      <td>4074</td>\n",
       "      <td>1237</td>\n",
       "    </tr>\n",
       "    <tr>\n",
       "      <th>CULEX RESTUANS</th>\n",
       "      <td>9309</td>\n",
       "      <td>2078</td>\n",
       "    </tr>\n",
       "    <tr>\n",
       "      <th>CULEX SALINARIUS</th>\n",
       "      <td>215</td>\n",
       "      <td>7</td>\n",
       "    </tr>\n",
       "    <tr>\n",
       "      <th>CULEX TERRITANS</th>\n",
       "      <td>903</td>\n",
       "      <td>14</td>\n",
       "    </tr>\n",
       "  </tbody>\n",
       "</table>\n",
       "</div>"
      ],
      "text/plain": [
       "wnv_present       Negative  Postive\n",
       "CULEX PIPIENS         4074     1237\n",
       "CULEX RESTUANS        9309     2078\n",
       "CULEX SALINARIUS       215        7\n",
       "CULEX TERRITANS        903       14"
      ]
     },
     "execution_count": 26,
     "metadata": {},
     "output_type": "execute_result"
    }
   ],
   "source": [
    "species_wnv = mosquito_df.groupby([\"wnv_present\",\"species\",]).agg({\"wnv_present\":\"count\"})\n",
    "species_wnv = species_wnv.unstack()\n",
    "species_wnv.columns = [\"CULEX PIPIENS\",\"CULEX RESTUANS\",\"CULEX SALINARIUS\",\"CULEX TERRITANS\"]\n",
    "species_wnv.rename(index ={1:\"Postive\",0:\"Negative\"},inplace=True)\n",
    "species_wnv_df = species_wnv.T\n",
    "species_wnv_df"
   ]
  },
  {
   "cell_type": "code",
   "execution_count": 27,
   "metadata": {
    "ExecuteTime": {
     "end_time": "2022-06-20T00:18:48.898552Z",
     "start_time": "2022-06-20T00:18:48.753353Z"
    }
   },
   "outputs": [
    {
     "data": {
      "image/png": "[encoded data removed]",
      "text/plain": [
       "<Figure size 1440x360 with 1 Axes>"
      ]
     },
     "metadata": {
      "needs_background": "light"
     },
     "output_type": "display_data"
    }
   ],
   "source": [
    "plt.figure(figsize=(20,5))\n",
    "plt.bar(species_wnv_df.index,species_wnv_df[\"Negative\"],label=\"Negative\")\n",
    "plt.bar(species_wnv_df.index,species_wnv_df[\"Postive\"],label=\"Postive\")\n",
    "plt.ylabel(\"Count\")\n",
    "plt.title(\"Distribution of Species with repsect to WNV occurrence\")\n",
    "plt.legend()\n",
    "plt.show()"
   ]
  },
  {
   "cell_type": "markdown",
   "metadata": {},
   "source": [
    "Based on the above table and visualization, it is visible that the different mosquito species holds certain relations with respect to the occurrence of West Nile Virus, which leads to the Chi Squared test of of Independence across multiple categorical variables to validate statistically. "
   ]
  },
  {
   "cell_type": "markdown",
   "metadata": {},
   "source": [
    " $H_0$: $\\text{Species and WNV occurrence are independent.}$<br>  $H_1$: $\\text{Species and WNV occurrence are not independent.} $ "
   ]
  },
  {
   "cell_type": "code",
   "execution_count": 28,
   "metadata": {
    "ExecuteTime": {
     "end_time": "2022-06-20T00:18:48.903726Z",
     "start_time": "2022-06-20T00:18:48.900217Z"
    }
   },
   "outputs": [
    {
     "name": "stdout",
     "output_type": "stream",
     "text": [
      "The p_value is 0.0\n"
     ]
    }
   ],
   "source": [
    "p_values = stats.chi2_contingency(species_wnv_df)[1]\n",
    "print(f\"The p_value is {p_values.round(3)}\")"
   ]
  },
  {
   "cell_type": "markdown",
   "metadata": {},
   "source": [
    "**Conclusion -** With a p-value of `0.0`, we can reject the null hypothesis that the mosquito species and the occurrence of West Nile Virus are independent. With the help of above table, the visualization and the p-value which is less than `0.05`,it clearly indicates that there is some relationship between mosquito species and the occurrence of West Nile Virus."
   ]
  },
  {
   "cell_type": "markdown",
   "metadata": {},
   "source": [
    "### Which columns are positively correlated with the number of mosquitoes caught?Which columns are negatively correlated?Are these correlations statistically significant?"
   ]
  },
  {
   "cell_type": "markdown",
   "metadata": {
    "ExecuteTime": {
     "end_time": "2022-06-19T02:44:22.828869Z",
     "start_time": "2022-06-19T02:44:22.779279Z"
    }
   },
   "source": [
    "#### Handling categorical variables\n",
    "Identifying the categorical variables (stored as `object` type in pandas) to convert to numerical representations such that it can applied for statistical modeling."
   ]
  },
  {
   "cell_type": "code",
   "execution_count": 29,
   "metadata": {
    "ExecuteTime": {
     "end_time": "2022-06-20T00:18:48.910358Z",
     "start_time": "2022-06-20T00:18:48.905387Z"
    }
   },
   "outputs": [
    {
     "data": {
      "text/plain": [
       "Index(['address_block', 'trap', 'species'], dtype='object')"
      ]
     },
     "execution_count": 29,
     "metadata": {},
     "output_type": "execute_result"
    }
   ],
   "source": [
    "mosquito_df_strategy_2.select_dtypes(include='object').columns"
   ]
  },
  {
   "cell_type": "markdown",
   "metadata": {},
   "source": [
    "##### trap"
   ]
  },
  {
   "cell_type": "code",
   "execution_count": 30,
   "metadata": {
    "ExecuteTime": {
     "end_time": "2022-06-20T00:18:48.915557Z",
     "start_time": "2022-06-20T00:18:48.911731Z"
    }
   },
   "outputs": [
    {
     "name": "stdout",
     "output_type": "stream",
     "text": [
      "The  total number of unique trap ids  are 190\n"
     ]
    }
   ],
   "source": [
    "uniquie_trap_id = mosquito_df[\"trap\"].nunique()\n",
    "print(f\"The  total number of unique trap ids  are {uniquie_trap_id}\")"
   ]
  },
  {
   "cell_type": "code",
   "execution_count": 31,
   "metadata": {
    "ExecuteTime": {
     "end_time": "2022-06-20T00:18:48.923867Z",
     "start_time": "2022-06-20T00:18:48.917180Z"
    }
   },
   "outputs": [
    {
     "data": {
      "text/plain": [
       "trap\n",
       "T917     44.00\n",
       "T114B    37.78\n",
       "T138B    35.85\n",
       "T103     26.50\n",
       "T240B    26.12\n",
       "Name: mosquito_number, dtype: float64"
      ]
     },
     "execution_count": 31,
     "metadata": {},
     "output_type": "execute_result"
    }
   ],
   "source": [
    "trap_efficiency= mosquito_df.groupby([\"trap\"])[\"mosquito_number\"].mean().sort_values(ascending=False)\n",
    "trap_efficiency.head(5).round(2)"
   ]
  },
  {
   "cell_type": "code",
   "execution_count": 32,
   "metadata": {
    "ExecuteTime": {
     "end_time": "2022-06-20T00:18:51.663367Z",
     "start_time": "2022-06-20T00:18:48.925382Z"
    }
   },
   "outputs": [
    {
     "data": {
      "image/png": "[encoded data removed]",
      "text/plain": [
       "<Figure size 1440x360 with 1 Axes>"
      ]
     },
     "metadata": {
      "needs_background": "light"
     },
     "output_type": "display_data"
    }
   ],
   "source": [
    "plt.figure(figsize=(20,5))\n",
    "plt.bar(trap_efficiency.index,trap_efficiency.values)\n",
    "plt.xlabel(\"Trap_Id\")\n",
    "plt.ylabel(\"Average Mosquitoes Trapped \")\n",
    "plt.title(\"Distribution of Trap Id efficiency with respect to the Average Number of mosquitoes Trapped \")\n",
    "plt.grid(axis=\"y\")\n",
    "plt.show()"
   ]
  },
  {
   "cell_type": "markdown",
   "metadata": {},
   "source": [
    "There are 190 unique trap id which were placed across the city. Based on the above distribution graph ,the trap id are categories into 4 groups as mentioned below, based upon its efficiency i.e average number of mosquitoes trapped per id.\n",
    "- 1 : 30 and above \n",
    "- 2 : 20 - 30\n",
    "- 3 : 10 - 20\n",
    "- 4 : below 10"
   ]
  },
  {
   "cell_type": "code",
   "execution_count": 33,
   "metadata": {
    "ExecuteTime": {
     "end_time": "2022-06-20T00:18:51.675912Z",
     "start_time": "2022-06-20T00:18:51.664990Z"
    }
   },
   "outputs": [
    {
     "data": {
      "text/html": [
       "<div>\n",
       "<style scoped>\n",
       "    .dataframe tbody tr th:only-of-type {\n",
       "        vertical-align: middle;\n",
       "    }\n",
       "\n",
       "    .dataframe tbody tr th {\n",
       "        vertical-align: top;\n",
       "    }\n",
       "\n",
       "    .dataframe thead th {\n",
       "        text-align: right;\n",
       "    }\n",
       "</style>\n",
       "<table border=\"1\" class=\"dataframe\">\n",
       "  <thead>\n",
       "    <tr style=\"text-align: right;\">\n",
       "      <th></th>\n",
       "      <th>Avg_mosquito_trapped</th>\n",
       "      <th>trap_id_eff</th>\n",
       "    </tr>\n",
       "    <tr>\n",
       "      <th>trap</th>\n",
       "      <th></th>\n",
       "      <th></th>\n",
       "    </tr>\n",
       "  </thead>\n",
       "  <tbody>\n",
       "    <tr>\n",
       "      <th>T917</th>\n",
       "      <td>44.000000</td>\n",
       "      <td>1</td>\n",
       "    </tr>\n",
       "    <tr>\n",
       "      <th>T114B</th>\n",
       "      <td>37.777778</td>\n",
       "      <td>1</td>\n",
       "    </tr>\n",
       "    <tr>\n",
       "      <th>T138B</th>\n",
       "      <td>35.846154</td>\n",
       "      <td>1</td>\n",
       "    </tr>\n",
       "    <tr>\n",
       "      <th>T103</th>\n",
       "      <td>26.500000</td>\n",
       "      <td>2</td>\n",
       "    </tr>\n",
       "    <tr>\n",
       "      <th>T240B</th>\n",
       "      <td>26.121212</td>\n",
       "      <td>2</td>\n",
       "    </tr>\n",
       "  </tbody>\n",
       "</table>\n",
       "</div>"
      ],
      "text/plain": [
       "       Avg_mosquito_trapped trap_id_eff\n",
       "trap                                   \n",
       "T917              44.000000           1\n",
       "T114B             37.777778           1\n",
       "T138B             35.846154           1\n",
       "T103              26.500000           2\n",
       "T240B             26.121212           2"
      ]
     },
     "execution_count": 33,
     "metadata": {},
     "output_type": "execute_result"
    }
   ],
   "source": [
    "# Creating a dataframe\n",
    "trap_efficency_df =trap_efficiency.to_frame()\n",
    "trap_efficency_df.columns = [\"Avg_mosquito_trapped\"]\n",
    "trap_efficency_df.head()\n",
    "\n",
    "# Map the trap  id into group\n",
    "# https://pandas.pydata.org/docs/reference/api/pandas.cut.html\n",
    "\n",
    "bins = [0,10,20,30,50]\n",
    "labels =[4,3,2,1]\n",
    "trap_efficency_df[\"trap_id_eff\"] =pd.cut(trap_efficency_df[\"Avg_mosquito_trapped\"], bins,labels=labels)\n",
    "trap_efficency_df.head()\n"
   ]
  },
  {
   "cell_type": "code",
   "execution_count": 34,
   "metadata": {
    "ExecuteTime": {
     "end_time": "2022-06-20T00:18:51.693001Z",
     "start_time": "2022-06-20T00:18:51.677901Z"
    }
   },
   "outputs": [
    {
     "data": {
      "text/html": [
       "<div>\n",
       "<style scoped>\n",
       "    .dataframe tbody tr th:only-of-type {\n",
       "        vertical-align: middle;\n",
       "    }\n",
       "\n",
       "    .dataframe tbody tr th {\n",
       "        vertical-align: top;\n",
       "    }\n",
       "\n",
       "    .dataframe thead th {\n",
       "        text-align: right;\n",
       "    }\n",
       "</style>\n",
       "<table border=\"1\" class=\"dataframe\">\n",
       "  <thead>\n",
       "    <tr style=\"text-align: right;\">\n",
       "      <th></th>\n",
       "      <th>year</th>\n",
       "      <th>week</th>\n",
       "      <th>address_block</th>\n",
       "      <th>trap_efficiency</th>\n",
       "      <th>trap_type</th>\n",
       "      <th>mosquito_number</th>\n",
       "      <th>wnv_present</th>\n",
       "      <th>species</th>\n",
       "      <th>lat</th>\n",
       "      <th>lon</th>\n",
       "      <th>month</th>\n",
       "    </tr>\n",
       "  </thead>\n",
       "  <tbody>\n",
       "    <tr>\n",
       "      <th>0</th>\n",
       "      <td>2019</td>\n",
       "      <td>39</td>\n",
       "      <td>100XX W OHARE AIRPORT</td>\n",
       "      <td>3</td>\n",
       "      <td>1</td>\n",
       "      <td>2</td>\n",
       "      <td>0</td>\n",
       "      <td>CULEX RESTUANS</td>\n",
       "      <td>41.977738</td>\n",
       "      <td>-87.880969</td>\n",
       "      <td>9</td>\n",
       "    </tr>\n",
       "    <tr>\n",
       "      <th>1</th>\n",
       "      <td>2019</td>\n",
       "      <td>39</td>\n",
       "      <td>52XX S KOLMAR AVE</td>\n",
       "      <td>3</td>\n",
       "      <td>1</td>\n",
       "      <td>1</td>\n",
       "      <td>0</td>\n",
       "      <td>CULEX RESTUANS</td>\n",
       "      <td>41.798211</td>\n",
       "      <td>-87.736925</td>\n",
       "      <td>9</td>\n",
       "    </tr>\n",
       "    <tr>\n",
       "      <th>2</th>\n",
       "      <td>2019</td>\n",
       "      <td>39</td>\n",
       "      <td>58XX N WESTERN AVE</td>\n",
       "      <td>3</td>\n",
       "      <td>1</td>\n",
       "      <td>2</td>\n",
       "      <td>0</td>\n",
       "      <td>CULEX RESTUANS</td>\n",
       "      <td>41.987245</td>\n",
       "      <td>-87.689417</td>\n",
       "      <td>9</td>\n",
       "    </tr>\n",
       "    <tr>\n",
       "      <th>3</th>\n",
       "      <td>2019</td>\n",
       "      <td>39</td>\n",
       "      <td>39XX N SPRINGFIELD AVE</td>\n",
       "      <td>3</td>\n",
       "      <td>1</td>\n",
       "      <td>1</td>\n",
       "      <td>0</td>\n",
       "      <td>CULEX RESTUANS</td>\n",
       "      <td>41.953664</td>\n",
       "      <td>-87.724987</td>\n",
       "      <td>9</td>\n",
       "    </tr>\n",
       "    <tr>\n",
       "      <th>4</th>\n",
       "      <td>2019</td>\n",
       "      <td>39</td>\n",
       "      <td>131XX S BRANDON AVE</td>\n",
       "      <td>4</td>\n",
       "      <td>1</td>\n",
       "      <td>9</td>\n",
       "      <td>0</td>\n",
       "      <td>CULEX RESTUANS</td>\n",
       "      <td>41.657069</td>\n",
       "      <td>-87.546049</td>\n",
       "      <td>9</td>\n",
       "    </tr>\n",
       "  </tbody>\n",
       "</table>\n",
       "</div>"
      ],
      "text/plain": [
       "   year  week           address_block  trap_efficiency  trap_type  \\\n",
       "0  2019    39   100XX W OHARE AIRPORT                3          1   \n",
       "1  2019    39       52XX S KOLMAR AVE                3          1   \n",
       "2  2019    39      58XX N WESTERN AVE                3          1   \n",
       "3  2019    39  39XX N SPRINGFIELD AVE                3          1   \n",
       "4  2019    39     131XX S BRANDON AVE                4          1   \n",
       "\n",
       "   mosquito_number  wnv_present         species        lat        lon  month  \n",
       "0                2            0  CULEX RESTUANS  41.977738 -87.880969      9  \n",
       "1                1            0  CULEX RESTUANS  41.798211 -87.736925      9  \n",
       "2                2            0  CULEX RESTUANS  41.987245 -87.689417      9  \n",
       "3                1            0  CULEX RESTUANS  41.953664 -87.724987      9  \n",
       "4                9            0  CULEX RESTUANS  41.657069 -87.546049      9  "
      ]
     },
     "execution_count": 34,
     "metadata": {},
     "output_type": "execute_result"
    }
   ],
   "source": [
    "#https://www.geeksforgeeks.org/python-pandas-dataframe-to_dict/\n",
    "mosquito_df_strategy_2[\"trap\"]=mosquito_df_strategy_2[\"trap\"].map(trap_efficency_df.to_dict()[\"trap_id_eff\"])\n",
    "mosquito_df_strategy_2.rename({\"trap\":\"trap_efficiency\"},axis=1,inplace =True)\n",
    "mosquito_df_strategy_2.head()"
   ]
  },
  {
   "cell_type": "markdown",
   "metadata": {},
   "source": [
    "__Conclusion -__ After making the rating chart for the trap id based on the efficiency of trapping the mosquitoes, the `trap` column is replaced with a new column `trap_efficiency` which contains the rating values of each trap id .<br>\n",
    "\n",
    "And as the hierarchy of the data hold meaning,the `trap_efficiency` column  was treated as Ordinal column for future modeling. "
   ]
  },
  {
   "cell_type": "markdown",
   "metadata": {},
   "source": [
    "##### address_block\n",
    "Exploring the unique address in the`address_block` column. The strategy adopted was similar to the `trap` column to convert it to a categorical variable. Furthermore both the results were then compared to understand the level of similarity."
   ]
  },
  {
   "cell_type": "code",
   "execution_count": 35,
   "metadata": {
    "ExecuteTime": {
     "end_time": "2022-06-20T00:18:51.698811Z",
     "start_time": "2022-06-20T00:18:51.694655Z"
    }
   },
   "outputs": [
    {
     "name": "stdout",
     "output_type": "stream",
     "text": [
      "The total number of unique address are 154\n"
     ]
    }
   ],
   "source": [
    "uniquie_address = mosquito_df[\"address_block\"].nunique()\n",
    "print(f\"The total number of unique address are {uniquie_address}\")"
   ]
  },
  {
   "cell_type": "code",
   "execution_count": 36,
   "metadata": {
    "ExecuteTime": {
     "end_time": "2022-06-20T00:18:51.711067Z",
     "start_time": "2022-06-20T00:18:51.701075Z"
    }
   },
   "outputs": [
    {
     "data": {
      "text/plain": [
       "address_block\n",
       "100XX W OHARE AIRPORT    21\n",
       "100XX W OHARE             3\n",
       "22XX N CANNON DR          3\n",
       "5XX S CENTRAL AVE         2\n",
       "1XX N CENTRAL PARK DR     2\n",
       "                         ..\n",
       "52XX S NORDICA AVE        1\n",
       "51XX W 63RD PL            1\n",
       "51XX N MONT CLARE AVE     1\n",
       "50XX S UNION AVE          1\n",
       "3XX W 18TH ST             1\n",
       "Name: trap, Length: 154, dtype: int64"
      ]
     },
     "execution_count": 36,
     "metadata": {},
     "output_type": "execute_result"
    }
   ],
   "source": [
    "mosquito_df.groupby([\"address_block\"])[\"trap\"].nunique().sort_values(ascending=False)"
   ]
  },
  {
   "cell_type": "code",
   "execution_count": 37,
   "metadata": {
    "ExecuteTime": {
     "end_time": "2022-06-20T00:18:51.720831Z",
     "start_time": "2022-06-20T00:18:51.712775Z"
    }
   },
   "outputs": [
    {
     "data": {
      "text/plain": [
       "address_block\n",
       "115XX S AVENUE L            26.50\n",
       "41XX N OAK PARK AVE         22.80\n",
       "101XX S STONY ISLAND AVE    22.00\n",
       "70XX N MOSELLE AVE          20.30\n",
       "64XX W STRONG ST            18.64\n",
       "Name: mosquito_number, dtype: float64"
      ]
     },
     "execution_count": 37,
     "metadata": {},
     "output_type": "execute_result"
    }
   ],
   "source": [
    "address_block_mosquito_avg_count= mosquito_df.groupby([\"address_block\"])[\"mosquito_number\"].mean().sort_values(ascending=False)\n",
    "address_block_mosquito_avg_count.head(5).round(2)"
   ]
  },
  {
   "cell_type": "code",
   "execution_count": 38,
   "metadata": {
    "ExecuteTime": {
     "end_time": "2022-06-20T00:18:56.116550Z",
     "start_time": "2022-06-20T00:18:51.722409Z"
    }
   },
   "outputs": [
    {
     "data": {
      "image/png": "[encoded data removed]",
      "text/plain": [
       "<Figure size 1440x360 with 1 Axes>"
      ]
     },
     "metadata": {
      "needs_background": "light"
     },
     "output_type": "display_data"
    }
   ],
   "source": [
    "plt.figure(figsize=(20,5))\n",
    "plt.bar(address_block_mosquito_avg_count.index,address_block_mosquito_avg_count.values)\n",
    "plt.xlabel(\"Address_block\")\n",
    "plt.ylabel(\"Average Mosquitoes Trapped \")\n",
    "plt.title(\"Distribution of Address block efficiency with respect to the Average Number of mosquitoes Trapped \")\n",
    "plt.grid(axis=\"y\")\n",
    "plt.show()"
   ]
  },
  {
   "cell_type": "code",
   "execution_count": 39,
   "metadata": {
    "ExecuteTime": {
     "end_time": "2022-06-20T00:18:56.128243Z",
     "start_time": "2022-06-20T00:18:56.118455Z"
    }
   },
   "outputs": [
    {
     "data": {
      "text/html": [
       "<div>\n",
       "<style scoped>\n",
       "    .dataframe tbody tr th:only-of-type {\n",
       "        vertical-align: middle;\n",
       "    }\n",
       "\n",
       "    .dataframe tbody tr th {\n",
       "        vertical-align: top;\n",
       "    }\n",
       "\n",
       "    .dataframe thead th {\n",
       "        text-align: right;\n",
       "    }\n",
       "</style>\n",
       "<table border=\"1\" class=\"dataframe\">\n",
       "  <thead>\n",
       "    <tr style=\"text-align: right;\">\n",
       "      <th></th>\n",
       "      <th>Avg_mosquito_trapped</th>\n",
       "      <th>add_block_eff</th>\n",
       "    </tr>\n",
       "    <tr>\n",
       "      <th>address_block</th>\n",
       "      <th></th>\n",
       "      <th></th>\n",
       "    </tr>\n",
       "  </thead>\n",
       "  <tbody>\n",
       "    <tr>\n",
       "      <th>115XX S AVENUE L</th>\n",
       "      <td>26.500000</td>\n",
       "      <td>2</td>\n",
       "    </tr>\n",
       "    <tr>\n",
       "      <th>41XX N OAK PARK AVE</th>\n",
       "      <td>22.803922</td>\n",
       "      <td>2</td>\n",
       "    </tr>\n",
       "    <tr>\n",
       "      <th>101XX S STONY ISLAND AVE</th>\n",
       "      <td>21.997290</td>\n",
       "      <td>2</td>\n",
       "    </tr>\n",
       "    <tr>\n",
       "      <th>70XX N MOSELLE AVE</th>\n",
       "      <td>20.300613</td>\n",
       "      <td>2</td>\n",
       "    </tr>\n",
       "    <tr>\n",
       "      <th>64XX W STRONG ST</th>\n",
       "      <td>18.642857</td>\n",
       "      <td>3</td>\n",
       "    </tr>\n",
       "  </tbody>\n",
       "</table>\n",
       "</div>"
      ],
      "text/plain": [
       "                          Avg_mosquito_trapped add_block_eff\n",
       "address_block                                               \n",
       "115XX S AVENUE L                     26.500000             2\n",
       "41XX N OAK PARK AVE                  22.803922             2\n",
       "101XX S STONY ISLAND AVE             21.997290             2\n",
       "70XX N MOSELLE AVE                   20.300613             2\n",
       "64XX W STRONG ST                     18.642857             3"
      ]
     },
     "execution_count": 39,
     "metadata": {},
     "output_type": "execute_result"
    }
   ],
   "source": [
    "# Creating a dataframe\n",
    "address_block_mosquito_avg_count_df =address_block_mosquito_avg_count.to_frame()\n",
    "address_block_mosquito_avg_count_df.columns = [\"Avg_mosquito_trapped\"]\n",
    "address_block_mosquito_avg_count_df.head()\n",
    "\n",
    "# Map the trap id into group\n",
    "# https://pandas.pydata.org/docs/reference/api/pandas.cut.html\n",
    "\n",
    "bins = [0,10,20,30,50]\n",
    "labels =[4,3,2,1]\n",
    "address_block_mosquito_avg_count_df[\"add_block_eff\"] =pd.cut(address_block_mosquito_avg_count_df[\"Avg_mosquito_trapped\"],\n",
    "                                                             bins = bins,\n",
    "                                                             labels=labels)\n",
    "address_block_mosquito_avg_count_df.head()\n"
   ]
  },
  {
   "cell_type": "code",
   "execution_count": 40,
   "metadata": {
    "ExecuteTime": {
     "end_time": "2022-06-20T00:18:56.143615Z",
     "start_time": "2022-06-20T00:18:56.130086Z"
    }
   },
   "outputs": [
    {
     "data": {
      "text/html": [
       "<div>\n",
       "<style scoped>\n",
       "    .dataframe tbody tr th:only-of-type {\n",
       "        vertical-align: middle;\n",
       "    }\n",
       "\n",
       "    .dataframe tbody tr th {\n",
       "        vertical-align: top;\n",
       "    }\n",
       "\n",
       "    .dataframe thead th {\n",
       "        text-align: right;\n",
       "    }\n",
       "</style>\n",
       "<table border=\"1\" class=\"dataframe\">\n",
       "  <thead>\n",
       "    <tr style=\"text-align: right;\">\n",
       "      <th></th>\n",
       "      <th>year</th>\n",
       "      <th>week</th>\n",
       "      <th>add_block_efficiency</th>\n",
       "      <th>trap_efficiency</th>\n",
       "      <th>trap_type</th>\n",
       "      <th>mosquito_number</th>\n",
       "      <th>wnv_present</th>\n",
       "      <th>species</th>\n",
       "      <th>lat</th>\n",
       "      <th>lon</th>\n",
       "      <th>month</th>\n",
       "    </tr>\n",
       "  </thead>\n",
       "  <tbody>\n",
       "    <tr>\n",
       "      <th>0</th>\n",
       "      <td>2019</td>\n",
       "      <td>39</td>\n",
       "      <td>3</td>\n",
       "      <td>3</td>\n",
       "      <td>1</td>\n",
       "      <td>2</td>\n",
       "      <td>0</td>\n",
       "      <td>CULEX RESTUANS</td>\n",
       "      <td>41.977738</td>\n",
       "      <td>-87.880969</td>\n",
       "      <td>9</td>\n",
       "    </tr>\n",
       "    <tr>\n",
       "      <th>1</th>\n",
       "      <td>2019</td>\n",
       "      <td>39</td>\n",
       "      <td>3</td>\n",
       "      <td>3</td>\n",
       "      <td>1</td>\n",
       "      <td>1</td>\n",
       "      <td>0</td>\n",
       "      <td>CULEX RESTUANS</td>\n",
       "      <td>41.798211</td>\n",
       "      <td>-87.736925</td>\n",
       "      <td>9</td>\n",
       "    </tr>\n",
       "    <tr>\n",
       "      <th>2</th>\n",
       "      <td>2019</td>\n",
       "      <td>39</td>\n",
       "      <td>3</td>\n",
       "      <td>3</td>\n",
       "      <td>1</td>\n",
       "      <td>2</td>\n",
       "      <td>0</td>\n",
       "      <td>CULEX RESTUANS</td>\n",
       "      <td>41.987245</td>\n",
       "      <td>-87.689417</td>\n",
       "      <td>9</td>\n",
       "    </tr>\n",
       "    <tr>\n",
       "      <th>3</th>\n",
       "      <td>2019</td>\n",
       "      <td>39</td>\n",
       "      <td>3</td>\n",
       "      <td>3</td>\n",
       "      <td>1</td>\n",
       "      <td>1</td>\n",
       "      <td>0</td>\n",
       "      <td>CULEX RESTUANS</td>\n",
       "      <td>41.953664</td>\n",
       "      <td>-87.724987</td>\n",
       "      <td>9</td>\n",
       "    </tr>\n",
       "    <tr>\n",
       "      <th>4</th>\n",
       "      <td>2019</td>\n",
       "      <td>39</td>\n",
       "      <td>4</td>\n",
       "      <td>4</td>\n",
       "      <td>1</td>\n",
       "      <td>9</td>\n",
       "      <td>0</td>\n",
       "      <td>CULEX RESTUANS</td>\n",
       "      <td>41.657069</td>\n",
       "      <td>-87.546049</td>\n",
       "      <td>9</td>\n",
       "    </tr>\n",
       "  </tbody>\n",
       "</table>\n",
       "</div>"
      ],
      "text/plain": [
       "   year  week  add_block_efficiency  trap_efficiency  trap_type  \\\n",
       "0  2019    39                     3                3          1   \n",
       "1  2019    39                     3                3          1   \n",
       "2  2019    39                     3                3          1   \n",
       "3  2019    39                     3                3          1   \n",
       "4  2019    39                     4                4          1   \n",
       "\n",
       "   mosquito_number  wnv_present         species        lat        lon  month  \n",
       "0                2            0  CULEX RESTUANS  41.977738 -87.880969      9  \n",
       "1                1            0  CULEX RESTUANS  41.798211 -87.736925      9  \n",
       "2                2            0  CULEX RESTUANS  41.987245 -87.689417      9  \n",
       "3                1            0  CULEX RESTUANS  41.953664 -87.724987      9  \n",
       "4                9            0  CULEX RESTUANS  41.657069 -87.546049      9  "
      ]
     },
     "execution_count": 40,
     "metadata": {},
     "output_type": "execute_result"
    }
   ],
   "source": [
    "mosquito_df_strategy_2[\"address_block\"]= mosquito_df_strategy_2[\"address_block\"].map(address_block_mosquito_avg_count_df.to_dict()[\"add_block_eff\"])\n",
    "mosquito_df_strategy_2.rename({\"address_block\":\"add_block_efficiency\"},axis=1,inplace =True)\n",
    "mosquito_df_strategy_2.head()"
   ]
  },
  {
   "cell_type": "code",
   "execution_count": 41,
   "metadata": {
    "ExecuteTime": {
     "end_time": "2022-06-20T00:18:57.346141Z",
     "start_time": "2022-06-20T00:18:56.145460Z"
    }
   },
   "outputs": [
    {
     "data": {
      "image/png": "[encoded data removed]",
      "text/plain": [
       "<Figure size 1440x360 with 2 Axes>"
      ]
     },
     "metadata": {
      "needs_background": "light"
     },
     "output_type": "display_data"
    }
   ],
   "source": [
    "plt.figure(figsize=(20,5))\n",
    "plt.subplot(1,2,1)\n",
    "sns.scatterplot(data=mosquito_df_strategy_2,x =\"lat\",y =\"lon\", hue=\"add_block_efficiency\")\n",
    "plt.title (\" Address block efficiency based on geographical location\")\n",
    "\n",
    "plt.subplot(1,2,2)\n",
    "sns.scatterplot(data=mosquito_df_strategy_2,x =\"lat\",y =\"lon\", hue=\"trap_efficiency\")\n",
    "plt.title (\" Trap efficiency based on geographical location\")\n",
    "\n",
    "plt.show()"
   ]
  },
  {
   "cell_type": "markdown",
   "metadata": {
    "ExecuteTime": {
     "end_time": "2022-06-19T12:16:26.925121Z",
     "start_time": "2022-06-19T12:16:26.919886Z"
    }
   },
   "source": [
    "Exploring the  correlation between two columns"
   ]
  },
  {
   "cell_type": "code",
   "execution_count": 42,
   "metadata": {
    "ExecuteTime": {
     "end_time": "2022-06-20T00:18:57.353440Z",
     "start_time": "2022-06-20T00:18:57.347672Z"
    }
   },
   "outputs": [
    {
     "name": "stdout",
     "output_type": "stream",
     "text": [
      "correlation-coefficient between trap_efficency and address block is 0.92\n"
     ]
    }
   ],
   "source": [
    "corr = np.corrcoef(mosquito_df_strategy_2[\"add_block_efficiency\"],mosquito_df_strategy_2[\"trap_efficiency\"])[0]\n",
    "print(f\"correlation-coefficient between trap_efficency and address block is {round(corr[1],2)}\")"
   ]
  },
  {
   "cell_type": "code",
   "execution_count": 43,
   "metadata": {
    "ExecuteTime": {
     "end_time": "2022-06-20T00:18:57.369581Z",
     "start_time": "2022-06-20T00:18:57.355514Z"
    }
   },
   "outputs": [
    {
     "name": "stdout",
     "output_type": "stream",
     "text": [
      "<class 'pandas.core.frame.DataFrame'>\n",
      "Int64Index: 17837 entries, 0 to 18493\n",
      "Data columns (total 10 columns):\n",
      " #   Column           Non-Null Count  Dtype  \n",
      "---  ------           --------------  -----  \n",
      " 0   year             17837 non-null  int64  \n",
      " 1   week             17837 non-null  UInt32 \n",
      " 2   trap_efficiency  17837 non-null  int64  \n",
      " 3   trap_type        17837 non-null  int64  \n",
      " 4   mosquito_number  17837 non-null  int64  \n",
      " 5   wnv_present      17837 non-null  int64  \n",
      " 6   species          17837 non-null  object \n",
      " 7   lat              17837 non-null  float64\n",
      " 8   lon              17837 non-null  float64\n",
      " 9   month            17837 non-null  int64  \n",
      "dtypes: UInt32(1), float64(2), int64(6), object(1)\n",
      "memory usage: 2.1+ MB\n"
     ]
    }
   ],
   "source": [
    "mosquito_df_strategy_2.drop([\"add_block_efficiency\"],axis=1, inplace=True)\n",
    "mosquito_df_strategy_2.info()"
   ]
  },
  {
   "cell_type": "markdown",
   "metadata": {},
   "source": [
    "__Conclusion -__ Based on the all the above results , following observation are drawn\n",
    "- Identified that only 16 address block out of 154 were represented by more than one trap id , rest all 138 address blocks were represent by one trap id \n",
    "- The visual representation were almost identical as seen in the scatter plot.\n",
    "- High correlation with a coefficient of 0.92\n",
    "\n",
    "Therefore based on these observation the address block dropped from the  dataset"
   ]
  },
  {
   "cell_type": "markdown",
   "metadata": {
    "ExecuteTime": {
     "end_time": "2022-06-19T04:48:37.069749Z",
     "start_time": "2022-06-19T04:48:37.059241Z"
    },
    "heading_collapsed": true
   },
   "source": [
    "##### species\n",
    "Exploring the categories in `species` column"
   ]
  },
  {
   "cell_type": "code",
   "execution_count": 44,
   "metadata": {
    "ExecuteTime": {
     "end_time": "2022-06-20T00:18:57.381644Z",
     "start_time": "2022-06-20T00:18:57.374375Z"
    },
    "hidden": true
   },
   "outputs": [
    {
     "data": {
      "text/plain": [
       "CULEX RESTUANS      63.839211\n",
       "CULEX PIPIENS       29.775186\n",
       "CULEX TERRITANS      5.140999\n",
       "CULEX SALINARIUS     1.244604\n",
       "Name: species, dtype: float64"
      ]
     },
     "execution_count": 44,
     "metadata": {},
     "output_type": "execute_result"
    }
   ],
   "source": [
    "species_count = mosquito_df[\"species\"].value_counts(normalize=True)*100\n",
    "species_count"
   ]
  },
  {
   "cell_type": "code",
   "execution_count": 45,
   "metadata": {
    "ExecuteTime": {
     "end_time": "2022-06-20T00:18:57.515785Z",
     "start_time": "2022-06-20T00:18:57.383338Z"
    },
    "hidden": true
   },
   "outputs": [
    {
     "data": {
      "image/png": "[encoded data removed]",
      "text/plain": [
       "<Figure size 1440x360 with 1 Axes>"
      ]
     },
     "metadata": {
      "needs_background": "light"
     },
     "output_type": "display_data"
    }
   ],
   "source": [
    "plt.figure(figsize=(20,5))\n",
    "plt.bar(species_count.index,species_count.values)\n",
    "plt.xlabel(\"species\")\n",
    "plt.ylabel(\"species_count(%) \")\n",
    "plt.title(\"Distribution of the species categories\")\n",
    "plt.show()"
   ]
  },
  {
   "cell_type": "code",
   "execution_count": 46,
   "metadata": {
    "ExecuteTime": {
     "end_time": "2022-06-20T00:18:57.528736Z",
     "start_time": "2022-06-20T00:18:57.517658Z"
    },
    "hidden": true
   },
   "outputs": [
    {
     "data": {
      "text/html": [
       "<div>\n",
       "<style scoped>\n",
       "    .dataframe tbody tr th:only-of-type {\n",
       "        vertical-align: middle;\n",
       "    }\n",
       "\n",
       "    .dataframe tbody tr th {\n",
       "        vertical-align: top;\n",
       "    }\n",
       "\n",
       "    .dataframe thead th {\n",
       "        text-align: right;\n",
       "    }\n",
       "</style>\n",
       "<table border=\"1\" class=\"dataframe\">\n",
       "  <thead>\n",
       "    <tr style=\"text-align: right;\">\n",
       "      <th></th>\n",
       "      <th>culex_pipiens</th>\n",
       "      <th>culex_restuans</th>\n",
       "      <th>culex_territans</th>\n",
       "    </tr>\n",
       "  </thead>\n",
       "  <tbody>\n",
       "    <tr>\n",
       "      <th>0</th>\n",
       "      <td>0</td>\n",
       "      <td>1</td>\n",
       "      <td>0</td>\n",
       "    </tr>\n",
       "    <tr>\n",
       "      <th>1</th>\n",
       "      <td>0</td>\n",
       "      <td>1</td>\n",
       "      <td>0</td>\n",
       "    </tr>\n",
       "    <tr>\n",
       "      <th>2</th>\n",
       "      <td>0</td>\n",
       "      <td>1</td>\n",
       "      <td>0</td>\n",
       "    </tr>\n",
       "    <tr>\n",
       "      <th>3</th>\n",
       "      <td>0</td>\n",
       "      <td>1</td>\n",
       "      <td>0</td>\n",
       "    </tr>\n",
       "    <tr>\n",
       "      <th>4</th>\n",
       "      <td>0</td>\n",
       "      <td>1</td>\n",
       "      <td>0</td>\n",
       "    </tr>\n",
       "  </tbody>\n",
       "</table>\n",
       "</div>"
      ],
      "text/plain": [
       "   culex_pipiens  culex_restuans  culex_territans\n",
       "0              0               1                0\n",
       "1              0               1                0\n",
       "2              0               1                0\n",
       "3              0               1                0\n",
       "4              0               1                0"
      ]
     },
     "execution_count": 46,
     "metadata": {},
     "output_type": "execute_result"
    }
   ],
   "source": [
    "species = pd.get_dummies(mosquito_df[\"species\"])\n",
    "species.drop([\"CULEX SALINARIUS\"],axis=1,inplace =True)\n",
    "\n",
    "# renaming the column name as the column naming standard of the dateframe\n",
    "species.columns = column_rename(species.columns)\n",
    "species.head()"
   ]
  },
  {
   "cell_type": "markdown",
   "metadata": {
    "ExecuteTime": {
     "end_time": "2022-06-19T03:20:10.483022Z",
     "start_time": "2022-06-19T03:20:10.473501Z"
    },
    "hidden": true
   },
   "source": [
    "__Conclusion -__`CULEX SALINARIUS` is the least popular species found among all the four categories.Therefore it is dropped from the dummy variable before merging to the main date set <br>\n",
    "The `species` column was also dropped after combining the dummy variables with the main dataset."
   ]
  },
  {
   "cell_type": "code",
   "execution_count": 47,
   "metadata": {
    "ExecuteTime": {
     "end_time": "2022-06-20T00:18:57.545878Z",
     "start_time": "2022-06-20T00:18:57.530576Z"
    },
    "hidden": true
   },
   "outputs": [
    {
     "data": {
      "text/html": [
       "<div>\n",
       "<style scoped>\n",
       "    .dataframe tbody tr th:only-of-type {\n",
       "        vertical-align: middle;\n",
       "    }\n",
       "\n",
       "    .dataframe tbody tr th {\n",
       "        vertical-align: top;\n",
       "    }\n",
       "\n",
       "    .dataframe thead th {\n",
       "        text-align: right;\n",
       "    }\n",
       "</style>\n",
       "<table border=\"1\" class=\"dataframe\">\n",
       "  <thead>\n",
       "    <tr style=\"text-align: right;\">\n",
       "      <th></th>\n",
       "      <th>year</th>\n",
       "      <th>week</th>\n",
       "      <th>trap_efficiency</th>\n",
       "      <th>trap_type</th>\n",
       "      <th>mosquito_number</th>\n",
       "      <th>wnv_present</th>\n",
       "      <th>lat</th>\n",
       "      <th>lon</th>\n",
       "      <th>month</th>\n",
       "      <th>culex_pipiens</th>\n",
       "      <th>culex_restuans</th>\n",
       "      <th>culex_territans</th>\n",
       "    </tr>\n",
       "  </thead>\n",
       "  <tbody>\n",
       "    <tr>\n",
       "      <th>0</th>\n",
       "      <td>2019</td>\n",
       "      <td>39</td>\n",
       "      <td>3</td>\n",
       "      <td>1</td>\n",
       "      <td>2</td>\n",
       "      <td>0</td>\n",
       "      <td>41.977738</td>\n",
       "      <td>-87.880969</td>\n",
       "      <td>9</td>\n",
       "      <td>0</td>\n",
       "      <td>1</td>\n",
       "      <td>0</td>\n",
       "    </tr>\n",
       "    <tr>\n",
       "      <th>1</th>\n",
       "      <td>2019</td>\n",
       "      <td>39</td>\n",
       "      <td>3</td>\n",
       "      <td>1</td>\n",
       "      <td>1</td>\n",
       "      <td>0</td>\n",
       "      <td>41.798211</td>\n",
       "      <td>-87.736925</td>\n",
       "      <td>9</td>\n",
       "      <td>0</td>\n",
       "      <td>1</td>\n",
       "      <td>0</td>\n",
       "    </tr>\n",
       "    <tr>\n",
       "      <th>2</th>\n",
       "      <td>2019</td>\n",
       "      <td>39</td>\n",
       "      <td>3</td>\n",
       "      <td>1</td>\n",
       "      <td>2</td>\n",
       "      <td>0</td>\n",
       "      <td>41.987245</td>\n",
       "      <td>-87.689417</td>\n",
       "      <td>9</td>\n",
       "      <td>0</td>\n",
       "      <td>1</td>\n",
       "      <td>0</td>\n",
       "    </tr>\n",
       "    <tr>\n",
       "      <th>3</th>\n",
       "      <td>2019</td>\n",
       "      <td>39</td>\n",
       "      <td>3</td>\n",
       "      <td>1</td>\n",
       "      <td>1</td>\n",
       "      <td>0</td>\n",
       "      <td>41.953664</td>\n",
       "      <td>-87.724987</td>\n",
       "      <td>9</td>\n",
       "      <td>0</td>\n",
       "      <td>1</td>\n",
       "      <td>0</td>\n",
       "    </tr>\n",
       "    <tr>\n",
       "      <th>4</th>\n",
       "      <td>2019</td>\n",
       "      <td>39</td>\n",
       "      <td>4</td>\n",
       "      <td>1</td>\n",
       "      <td>9</td>\n",
       "      <td>0</td>\n",
       "      <td>41.657069</td>\n",
       "      <td>-87.546049</td>\n",
       "      <td>9</td>\n",
       "      <td>0</td>\n",
       "      <td>1</td>\n",
       "      <td>0</td>\n",
       "    </tr>\n",
       "  </tbody>\n",
       "</table>\n",
       "</div>"
      ],
      "text/plain": [
       "   year  week  trap_efficiency  trap_type  mosquito_number  wnv_present  \\\n",
       "0  2019    39                3          1                2            0   \n",
       "1  2019    39                3          1                1            0   \n",
       "2  2019    39                3          1                2            0   \n",
       "3  2019    39                3          1                1            0   \n",
       "4  2019    39                4          1                9            0   \n",
       "\n",
       "         lat        lon  month  culex_pipiens  culex_restuans  culex_territans  \n",
       "0  41.977738 -87.880969      9              0               1                0  \n",
       "1  41.798211 -87.736925      9              0               1                0  \n",
       "2  41.987245 -87.689417      9              0               1                0  \n",
       "3  41.953664 -87.724987      9              0               1                0  \n",
       "4  41.657069 -87.546049      9              0               1                0  "
      ]
     },
     "execution_count": 47,
     "metadata": {},
     "output_type": "execute_result"
    }
   ],
   "source": [
    "df = [mosquito_df_strategy_2,species]\n",
    "mosquito_df_treated = pd.concat(df,axis=1)\n",
    "mosquito_df_treated.drop([\"species\"],axis=1,inplace=True)\n",
    "mosquito_df_treated.head(5)"
   ]
  },
  {
   "cell_type": "code",
   "execution_count": 48,
   "metadata": {
    "ExecuteTime": {
     "end_time": "2022-06-20T00:18:57.556817Z",
     "start_time": "2022-06-20T00:18:57.547828Z"
    },
    "hidden": true
   },
   "outputs": [
    {
     "name": "stdout",
     "output_type": "stream",
     "text": [
      "<class 'pandas.core.frame.DataFrame'>\n",
      "Int64Index: 17837 entries, 0 to 18493\n",
      "Data columns (total 12 columns):\n",
      " #   Column           Non-Null Count  Dtype  \n",
      "---  ------           --------------  -----  \n",
      " 0   year             17837 non-null  int64  \n",
      " 1   week             17837 non-null  UInt32 \n",
      " 2   trap_efficiency  17837 non-null  int64  \n",
      " 3   trap_type        17837 non-null  int64  \n",
      " 4   mosquito_number  17837 non-null  int64  \n",
      " 5   wnv_present      17837 non-null  int64  \n",
      " 6   lat              17837 non-null  float64\n",
      " 7   lon              17837 non-null  float64\n",
      " 8   month            17837 non-null  int64  \n",
      " 9   culex_pipiens    17837 non-null  uint8  \n",
      " 10  culex_restuans   17837 non-null  uint8  \n",
      " 11  culex_territans  17837 non-null  uint8  \n",
      "dtypes: UInt32(1), float64(2), int64(6), uint8(3)\n",
      "memory usage: 2.0 MB\n"
     ]
    }
   ],
   "source": [
    "mosquito_df_treated.info()"
   ]
  },
  {
   "cell_type": "markdown",
   "metadata": {},
   "source": [
    "#### Exploring the correlation between the `mosquito_number` and all the other columns"
   ]
  },
  {
   "cell_type": "code",
   "execution_count": 49,
   "metadata": {
    "ExecuteTime": {
     "end_time": "2022-06-20T00:18:57.574575Z",
     "start_time": "2022-06-20T00:18:57.558580Z"
    }
   },
   "outputs": [
    {
     "data": {
      "text/html": [
       "<div>\n",
       "<style scoped>\n",
       "    .dataframe tbody tr th:only-of-type {\n",
       "        vertical-align: middle;\n",
       "    }\n",
       "\n",
       "    .dataframe tbody tr th {\n",
       "        vertical-align: top;\n",
       "    }\n",
       "\n",
       "    .dataframe thead th {\n",
       "        text-align: right;\n",
       "    }\n",
       "</style>\n",
       "<table border=\"1\" class=\"dataframe\">\n",
       "  <thead>\n",
       "    <tr style=\"text-align: right;\">\n",
       "      <th></th>\n",
       "      <th>year</th>\n",
       "      <th>week</th>\n",
       "      <th>trap_efficiency</th>\n",
       "      <th>trap_type</th>\n",
       "      <th>wnv_present</th>\n",
       "      <th>lat</th>\n",
       "      <th>lon</th>\n",
       "      <th>month</th>\n",
       "      <th>culex_pipiens</th>\n",
       "      <th>culex_restuans</th>\n",
       "      <th>culex_territans</th>\n",
       "    </tr>\n",
       "  </thead>\n",
       "  <tbody>\n",
       "    <tr>\n",
       "      <th>mosquito_number</th>\n",
       "      <td>0.11907</td>\n",
       "      <td>-0.049873</td>\n",
       "      <td>-0.343923</td>\n",
       "      <td>-0.147676</td>\n",
       "      <td>0.389764</td>\n",
       "      <td>0.075713</td>\n",
       "      <td>-0.116071</td>\n",
       "      <td>-0.040942</td>\n",
       "      <td>0.019626</td>\n",
       "      <td>0.066797</td>\n",
       "      <td>-0.149844</td>\n",
       "    </tr>\n",
       "  </tbody>\n",
       "</table>\n",
       "</div>"
      ],
      "text/plain": [
       "                    year      week  trap_efficiency  trap_type  wnv_present  \\\n",
       "mosquito_number  0.11907 -0.049873        -0.343923  -0.147676     0.389764   \n",
       "\n",
       "                      lat       lon     month  culex_pipiens  culex_restuans  \\\n",
       "mosquito_number  0.075713 -0.116071 -0.040942       0.019626        0.066797   \n",
       "\n",
       "                 culex_territans  \n",
       "mosquito_number        -0.149844  "
      ]
     },
     "execution_count": 49,
     "metadata": {},
     "output_type": "execute_result"
    }
   ],
   "source": [
    "# Correlation between independent variables with respect to mosquito_number\n",
    "X_corr = mosquito_df_treated.corr()\n",
    "corr = X_corr.loc[X_corr['mosquito_number']!=1,[\"mosquito_number\"]]\n",
    "corr.T"
   ]
  },
  {
   "cell_type": "code",
   "execution_count": 50,
   "metadata": {
    "ExecuteTime": {
     "end_time": "2022-06-20T00:18:57.731779Z",
     "start_time": "2022-06-20T00:18:57.576256Z"
    }
   },
   "outputs": [
    {
     "data": {
      "image/png": "[encoded data removed]",
      "text/plain": [
       "<Figure size 1440x360 with 1 Axes>"
      ]
     },
     "metadata": {
      "needs_background": "light"
     },
     "output_type": "display_data"
    }
   ],
   "source": [
    "colors = []\n",
    "for coeff in corr['mosquito_number']:\n",
    "    if (coeff > 0):\n",
    "        colors.append(\"blue\")\n",
    "    else:\n",
    "        colors.append(\"red\")\n",
    "\n",
    "plt.figure(figsize=(20,5))\n",
    "plt.bar(corr.index, corr['mosquito_number'],color=colors)\n",
    "\n",
    "plt.xlabel(\"Independent feature\")\n",
    "plt.ylabel(\"Corelation -coeff\")\n",
    "\n",
    "plt.title(\"The Effect of Various Variables on Mosquito Numbers\")\n",
    "plt.ylim(-1,1)\n",
    "plt.grid()\n",
    "plt.show()"
   ]
  },
  {
   "cell_type": "markdown",
   "metadata": {},
   "source": [
    "Based on the above graph , `year`, `wnv_present`, `lat`, `culex_pipiens`,`culex_restuans` has a positive correlation and  `week`, `trap_efficiency`, `trap_type`, `lon`,`month`,`culex_territans` has a negative correlation."
   ]
  },
  {
   "cell_type": "markdown",
   "metadata": {
    "heading_collapsed": true
   },
   "source": [
    "#### Exploring the  statistically significance of the correlation coefficient between the `mosquito_number` and all the other columns"
   ]
  },
  {
   "cell_type": "markdown",
   "metadata": {
    "hidden": true
   },
   "source": [
    " $H_0$: $ p =0 $<br>\n",
    "correlation coefficient IS NOT significantly different from zero i.e `mosquito_number` is independent from all the other columns<br><br>\n",
    " $H_1$: $\\text{$ p \\neq 0 $}$ <br>\n",
    "correlation coefficient IS significantly different from zero i.e `mosquito_number` is not independent from all the other columns<br><br>"
   ]
  },
  {
   "cell_type": "code",
   "execution_count": 51,
   "metadata": {
    "ExecuteTime": {
     "end_time": "2022-06-20T00:18:57.753360Z",
     "start_time": "2022-06-20T00:18:57.733678Z"
    },
    "hidden": true
   },
   "outputs": [
    {
     "data": {
      "text/html": [
       "<div>\n",
       "<style scoped>\n",
       "    .dataframe tbody tr th:only-of-type {\n",
       "        vertical-align: middle;\n",
       "    }\n",
       "\n",
       "    .dataframe tbody tr th {\n",
       "        vertical-align: top;\n",
       "    }\n",
       "\n",
       "    .dataframe thead th {\n",
       "        text-align: right;\n",
       "    }\n",
       "</style>\n",
       "<table border=\"1\" class=\"dataframe\">\n",
       "  <thead>\n",
       "    <tr style=\"text-align: right;\">\n",
       "      <th></th>\n",
       "      <th>coefficient</th>\n",
       "      <th>p_value</th>\n",
       "      <th>H0</th>\n",
       "    </tr>\n",
       "  </thead>\n",
       "  <tbody>\n",
       "    <tr>\n",
       "      <th>year</th>\n",
       "      <td>0.12</td>\n",
       "      <td>0.00</td>\n",
       "      <td>Rejected</td>\n",
       "    </tr>\n",
       "    <tr>\n",
       "      <th>week</th>\n",
       "      <td>-0.05</td>\n",
       "      <td>0.00</td>\n",
       "      <td>Rejected</td>\n",
       "    </tr>\n",
       "    <tr>\n",
       "      <th>trap_efficiency</th>\n",
       "      <td>-0.34</td>\n",
       "      <td>0.00</td>\n",
       "      <td>Rejected</td>\n",
       "    </tr>\n",
       "    <tr>\n",
       "      <th>trap_type</th>\n",
       "      <td>-0.15</td>\n",
       "      <td>0.00</td>\n",
       "      <td>Rejected</td>\n",
       "    </tr>\n",
       "    <tr>\n",
       "      <th>wnv_present</th>\n",
       "      <td>0.39</td>\n",
       "      <td>0.00</td>\n",
       "      <td>Rejected</td>\n",
       "    </tr>\n",
       "    <tr>\n",
       "      <th>lat</th>\n",
       "      <td>0.08</td>\n",
       "      <td>0.00</td>\n",
       "      <td>Rejected</td>\n",
       "    </tr>\n",
       "    <tr>\n",
       "      <th>lon</th>\n",
       "      <td>-0.12</td>\n",
       "      <td>0.00</td>\n",
       "      <td>Rejected</td>\n",
       "    </tr>\n",
       "    <tr>\n",
       "      <th>month</th>\n",
       "      <td>-0.04</td>\n",
       "      <td>0.00</td>\n",
       "      <td>Rejected</td>\n",
       "    </tr>\n",
       "    <tr>\n",
       "      <th>culex_pipiens</th>\n",
       "      <td>0.02</td>\n",
       "      <td>0.01</td>\n",
       "      <td>Rejected</td>\n",
       "    </tr>\n",
       "    <tr>\n",
       "      <th>culex_restuans</th>\n",
       "      <td>0.07</td>\n",
       "      <td>0.00</td>\n",
       "      <td>Rejected</td>\n",
       "    </tr>\n",
       "    <tr>\n",
       "      <th>culex_territans</th>\n",
       "      <td>-0.15</td>\n",
       "      <td>0.00</td>\n",
       "      <td>Rejected</td>\n",
       "    </tr>\n",
       "  </tbody>\n",
       "</table>\n",
       "</div>"
      ],
      "text/plain": [
       "                 coefficient  p_value        H0\n",
       "year                    0.12     0.00  Rejected\n",
       "week                   -0.05     0.00  Rejected\n",
       "trap_efficiency        -0.34     0.00  Rejected\n",
       "trap_type              -0.15     0.00  Rejected\n",
       "wnv_present             0.39     0.00  Rejected\n",
       "lat                     0.08     0.00  Rejected\n",
       "lon                    -0.12     0.00  Rejected\n",
       "month                  -0.04     0.00  Rejected\n",
       "culex_pipiens           0.02     0.01  Rejected\n",
       "culex_restuans          0.07     0.00  Rejected\n",
       "culex_territans        -0.15     0.00  Rejected"
      ]
     },
     "execution_count": 51,
     "metadata": {},
     "output_type": "execute_result"
    }
   ],
   "source": [
    "coefficient = []\n",
    "test =[]\n",
    "pvalue =[]\n",
    "index =[]\n",
    "for col in mosquito_df_treated.columns:\n",
    "    if (col != \"mosquito_number\"):\n",
    "        index.append(col)\n",
    "        r_correlation, p_value = stats.pearsonr(mosquito_df_treated[col], mosquito_df_treated[\"mosquito_number\"])\n",
    "        pvalue.append(round(p_value,2))\n",
    "        if (p_value < 0.05):\n",
    "            coefficient.append(round(r_correlation, 2))\n",
    "            test.append(\"Rejected\")\n",
    "        elif (p_value < 0.05): \n",
    "            coefficient.append(round(r_correlation, 2))\n",
    "            test.append(\"Fail to Reject\")\n",
    "\n",
    "results = pd.DataFrame({\"coefficient\":coefficient,\"p_value\":pvalue,\"H0\":test},index=index)\n",
    "results\n",
    "            "
   ]
  },
  {
   "cell_type": "markdown",
   "metadata": {
    "ExecuteTime": {
     "end_time": "2022-06-19T14:14:46.196028Z",
     "start_time": "2022-06-19T14:14:46.193375Z"
    },
    "hidden": true
   },
   "source": [
    "Based on the above table,correlation coefficient of all the columns with respect to `mosquito_number` are statistically significant as p-value is less than 0.05 and it rejects the null hypothesis.Therefore it can be inferred that `mosquito_number` has a linear relationship between the all the other columns."
   ]
  },
  {
   "cell_type": "markdown",
   "metadata": {},
   "source": [
    "## Advanced Statistical Analysis"
   ]
  },
  {
   "cell_type": "markdown",
   "metadata": {},
   "source": [
    "###  Linear regression"
   ]
  },
  {
   "cell_type": "markdown",
   "metadata": {
    "ExecuteTime": {
     "end_time": "2022-06-19T14:54:42.980781Z",
     "start_time": "2022-06-19T14:54:42.970532Z"
    }
   },
   "source": [
    "#### Variable selection for model"
   ]
  },
  {
   "cell_type": "code",
   "execution_count": 52,
   "metadata": {
    "ExecuteTime": {
     "end_time": "2022-06-20T00:18:57.761068Z",
     "start_time": "2022-06-20T00:18:57.755387Z"
    }
   },
   "outputs": [
    {
     "name": "stdout",
     "output_type": "stream",
     "text": [
      "X variable with 17837 rows and 10 columns\n",
      "Y variable with 17837 rows\n"
     ]
    }
   ],
   "source": [
    "X =  mosquito_df_treated.drop([\"mosquito_number\",\"wnv_present\"],axis=1)\n",
    "Y =  mosquito_df_treated[\"mosquito_number\"]\n",
    "\n",
    "print(f\"X variable with {X.shape[0]} rows and {X.shape[1]} columns\")\n",
    "print(f\"Y variable with {Y.shape[0]} rows\" )"
   ]
  },
  {
   "cell_type": "markdown",
   "metadata": {},
   "source": [
    "##### Check for Multicollinearity"
   ]
  },
  {
   "cell_type": "code",
   "execution_count": 53,
   "metadata": {
    "ExecuteTime": {
     "end_time": "2022-06-20T00:19:05.978749Z",
     "start_time": "2022-06-20T00:18:57.763557Z"
    }
   },
   "outputs": [
    {
     "data": {
      "text/plain": [
       "<Figure size 1440x1440 with 0 Axes>"
      ]
     },
     "metadata": {},
     "output_type": "display_data"
    },
    {
     "data": {
      "image/png": "[encoded data removed]",
      "text/plain": [
       "<Figure size 1800x1800 with 65 Axes>"
      ]
     },
     "metadata": {
      "needs_background": "light"
     },
     "output_type": "display_data"
    }
   ],
   "source": [
    "plt.figure(figsize=(20,20))\n",
    "sns.pairplot(X, corner=True)\n",
    "plt.show()\n"
   ]
  },
  {
   "cell_type": "code",
   "execution_count": 54,
   "metadata": {
    "ExecuteTime": {
     "end_time": "2022-06-20T00:19:06.468495Z",
     "start_time": "2022-06-20T00:19:05.980267Z"
    }
   },
   "outputs": [
    {
     "data": {
      "image/png": "[encoded data removed]",
      "text/plain": [
       "<Figure size 1440x720 with 2 Axes>"
      ]
     },
     "metadata": {
      "needs_background": "light"
     },
     "output_type": "display_data"
    }
   ],
   "source": [
    "# checking the correlation anomg independent data set \n",
    "x_corr = X.corr()\n",
    "mask = np.triu(x_corr)\n",
    "plt.figure(figsize=(20,10))\n",
    "sns.heatmap(x_corr.round(2), annot=True, vmax=1, vmin=-1, cmap=\"coolwarm\", mask=mask)\n",
    "plt.show()"
   ]
  },
  {
   "cell_type": "markdown",
   "metadata": {},
   "source": [
    "With the help of above plot and the correlation matrix ,following inference are drawn:\n",
    "- `month` and `week` columns has strongly correlated , therefore ,the `month` column is retained  and the `week` column is dropped.\n",
    "- The Dummy variable for the species `culex_restuans` and `culex_pipiens` has strong negative correlation. So the `species` column can converted into binary columns i.e   `culex_restuans` and `culex_pipiens` as 1 and others as 0\n",
    "- There is a strong correlation found between the `lat` and `lon` column and being a categorical variable , similar approach can adopted like the `Trap`  and `address` column."
   ]
  },
  {
   "cell_type": "markdown",
   "metadata": {
    "ExecuteTime": {
     "end_time": "2022-06-19T16:33:03.158748Z",
     "start_time": "2022-06-19T16:33:03.142429Z"
    }
   },
   "source": [
    "**Feature modification-1.0 based on above inference**\n",
    "\n",
    "1. Dropping the `month` column"
   ]
  },
  {
   "cell_type": "code",
   "execution_count": 55,
   "metadata": {
    "ExecuteTime": {
     "end_time": "2022-06-20T00:19:06.481106Z",
     "start_time": "2022-06-20T00:19:06.470315Z"
    }
   },
   "outputs": [
    {
     "data": {
      "text/html": [
       "<div>\n",
       "<style scoped>\n",
       "    .dataframe tbody tr th:only-of-type {\n",
       "        vertical-align: middle;\n",
       "    }\n",
       "\n",
       "    .dataframe tbody tr th {\n",
       "        vertical-align: top;\n",
       "    }\n",
       "\n",
       "    .dataframe thead th {\n",
       "        text-align: right;\n",
       "    }\n",
       "</style>\n",
       "<table border=\"1\" class=\"dataframe\">\n",
       "  <thead>\n",
       "    <tr style=\"text-align: right;\">\n",
       "      <th></th>\n",
       "      <th>year</th>\n",
       "      <th>trap_efficiency</th>\n",
       "      <th>trap_type</th>\n",
       "      <th>lat</th>\n",
       "      <th>lon</th>\n",
       "      <th>month</th>\n",
       "      <th>culex_pipiens</th>\n",
       "      <th>culex_restuans</th>\n",
       "      <th>culex_territans</th>\n",
       "    </tr>\n",
       "  </thead>\n",
       "  <tbody>\n",
       "    <tr>\n",
       "      <th>0</th>\n",
       "      <td>2019</td>\n",
       "      <td>3</td>\n",
       "      <td>1</td>\n",
       "      <td>41.977738</td>\n",
       "      <td>-87.880969</td>\n",
       "      <td>9</td>\n",
       "      <td>0</td>\n",
       "      <td>1</td>\n",
       "      <td>0</td>\n",
       "    </tr>\n",
       "    <tr>\n",
       "      <th>1</th>\n",
       "      <td>2019</td>\n",
       "      <td>3</td>\n",
       "      <td>1</td>\n",
       "      <td>41.798211</td>\n",
       "      <td>-87.736925</td>\n",
       "      <td>9</td>\n",
       "      <td>0</td>\n",
       "      <td>1</td>\n",
       "      <td>0</td>\n",
       "    </tr>\n",
       "    <tr>\n",
       "      <th>2</th>\n",
       "      <td>2019</td>\n",
       "      <td>3</td>\n",
       "      <td>1</td>\n",
       "      <td>41.987245</td>\n",
       "      <td>-87.689417</td>\n",
       "      <td>9</td>\n",
       "      <td>0</td>\n",
       "      <td>1</td>\n",
       "      <td>0</td>\n",
       "    </tr>\n",
       "    <tr>\n",
       "      <th>3</th>\n",
       "      <td>2019</td>\n",
       "      <td>3</td>\n",
       "      <td>1</td>\n",
       "      <td>41.953664</td>\n",
       "      <td>-87.724987</td>\n",
       "      <td>9</td>\n",
       "      <td>0</td>\n",
       "      <td>1</td>\n",
       "      <td>0</td>\n",
       "    </tr>\n",
       "    <tr>\n",
       "      <th>4</th>\n",
       "      <td>2019</td>\n",
       "      <td>4</td>\n",
       "      <td>1</td>\n",
       "      <td>41.657069</td>\n",
       "      <td>-87.546049</td>\n",
       "      <td>9</td>\n",
       "      <td>0</td>\n",
       "      <td>1</td>\n",
       "      <td>0</td>\n",
       "    </tr>\n",
       "  </tbody>\n",
       "</table>\n",
       "</div>"
      ],
      "text/plain": [
       "   year  trap_efficiency  trap_type        lat        lon  month  \\\n",
       "0  2019                3          1  41.977738 -87.880969      9   \n",
       "1  2019                3          1  41.798211 -87.736925      9   \n",
       "2  2019                3          1  41.987245 -87.689417      9   \n",
       "3  2019                3          1  41.953664 -87.724987      9   \n",
       "4  2019                4          1  41.657069 -87.546049      9   \n",
       "\n",
       "   culex_pipiens  culex_restuans  culex_territans  \n",
       "0              0               1                0  \n",
       "1              0               1                0  \n",
       "2              0               1                0  \n",
       "3              0               1                0  \n",
       "4              0               1                0  "
      ]
     },
     "execution_count": 55,
     "metadata": {},
     "output_type": "execute_result"
    }
   ],
   "source": [
    "X.drop([\"week\"],axis =1,inplace=True)\n",
    "X.head(5)"
   ]
  },
  {
   "cell_type": "markdown",
   "metadata": {},
   "source": [
    "2. Making a new `species` column and mapped it into binary column where `culex_restuans` and `culex_pipiens` are grouped as 1 and `culex_territians` and `culex_salinarius`as 0 "
   ]
  },
  {
   "cell_type": "code",
   "execution_count": 56,
   "metadata": {
    "ExecuteTime": {
     "end_time": "2022-06-20T00:19:06.494351Z",
     "start_time": "2022-06-20T00:19:06.482891Z"
    }
   },
   "outputs": [
    {
     "data": {
      "text/html": [
       "<div>\n",
       "<style scoped>\n",
       "    .dataframe tbody tr th:only-of-type {\n",
       "        vertical-align: middle;\n",
       "    }\n",
       "\n",
       "    .dataframe tbody tr th {\n",
       "        vertical-align: top;\n",
       "    }\n",
       "\n",
       "    .dataframe thead th {\n",
       "        text-align: right;\n",
       "    }\n",
       "</style>\n",
       "<table border=\"1\" class=\"dataframe\">\n",
       "  <thead>\n",
       "    <tr style=\"text-align: right;\">\n",
       "      <th></th>\n",
       "      <th>year</th>\n",
       "      <th>trap_efficiency</th>\n",
       "      <th>trap_type</th>\n",
       "      <th>lat</th>\n",
       "      <th>lon</th>\n",
       "      <th>month</th>\n",
       "      <th>species</th>\n",
       "    </tr>\n",
       "  </thead>\n",
       "  <tbody>\n",
       "    <tr>\n",
       "      <th>0</th>\n",
       "      <td>2019</td>\n",
       "      <td>3</td>\n",
       "      <td>1</td>\n",
       "      <td>41.977738</td>\n",
       "      <td>-87.880969</td>\n",
       "      <td>9</td>\n",
       "      <td>1</td>\n",
       "    </tr>\n",
       "    <tr>\n",
       "      <th>1</th>\n",
       "      <td>2019</td>\n",
       "      <td>3</td>\n",
       "      <td>1</td>\n",
       "      <td>41.798211</td>\n",
       "      <td>-87.736925</td>\n",
       "      <td>9</td>\n",
       "      <td>1</td>\n",
       "    </tr>\n",
       "    <tr>\n",
       "      <th>2</th>\n",
       "      <td>2019</td>\n",
       "      <td>3</td>\n",
       "      <td>1</td>\n",
       "      <td>41.987245</td>\n",
       "      <td>-87.689417</td>\n",
       "      <td>9</td>\n",
       "      <td>1</td>\n",
       "    </tr>\n",
       "    <tr>\n",
       "      <th>3</th>\n",
       "      <td>2019</td>\n",
       "      <td>3</td>\n",
       "      <td>1</td>\n",
       "      <td>41.953664</td>\n",
       "      <td>-87.724987</td>\n",
       "      <td>9</td>\n",
       "      <td>1</td>\n",
       "    </tr>\n",
       "    <tr>\n",
       "      <th>4</th>\n",
       "      <td>2019</td>\n",
       "      <td>4</td>\n",
       "      <td>1</td>\n",
       "      <td>41.657069</td>\n",
       "      <td>-87.546049</td>\n",
       "      <td>9</td>\n",
       "      <td>1</td>\n",
       "    </tr>\n",
       "  </tbody>\n",
       "</table>\n",
       "</div>"
      ],
      "text/plain": [
       "   year  trap_efficiency  trap_type        lat        lon  month  species\n",
       "0  2019                3          1  41.977738 -87.880969      9        1\n",
       "1  2019                3          1  41.798211 -87.736925      9        1\n",
       "2  2019                3          1  41.987245 -87.689417      9        1\n",
       "3  2019                3          1  41.953664 -87.724987      9        1\n",
       "4  2019                4          1  41.657069 -87.546049      9        1"
      ]
     },
     "execution_count": 56,
     "metadata": {},
     "output_type": "execute_result"
    }
   ],
   "source": [
    "X[\"species\"] = mosquito_df[\"species\"].map({\"CULEX RESTUANS\":1,\n",
    "                                           \"CULEX PIPIENS\":1,\n",
    "                                           \"CULEX TERRITANS\":0,\n",
    "                                           \"CULEX SALINARIUS\":0})\n",
    "\n",
    "X.drop([\"culex_territans\",\"culex_restuans\",\"culex_pipiens\"],axis=1,inplace=True)\n",
    "X.head()"
   ]
  },
  {
   "cell_type": "markdown",
   "metadata": {},
   "source": [
    "3. Grouping the `lat` and `lon` column  based on the number of mosquito trapped in the particular locations. "
   ]
  },
  {
   "cell_type": "code",
   "execution_count": 57,
   "metadata": {
    "ExecuteTime": {
     "end_time": "2022-06-20T00:19:06.534124Z",
     "start_time": "2022-06-20T00:19:06.495916Z"
    }
   },
   "outputs": [],
   "source": [
    "# Joining the lan and lon  and converted into object type\n",
    "location_df  = mosquito_df.copy()\n",
    "location_df[\"location\"] = (mosquito_df[\"lat\"].astype(\"str\"))+\"*\"+(mosquito_df[\"lon\"].astype(\"str\"))"
   ]
  },
  {
   "cell_type": "code",
   "execution_count": 58,
   "metadata": {
    "ExecuteTime": {
     "end_time": "2022-06-20T00:19:06.545398Z",
     "start_time": "2022-06-20T00:19:06.536152Z"
    }
   },
   "outputs": [
    {
     "data": {
      "text/plain": [
       "location\n",
       "41.82540799402078*-87.72395535899109      2.0\n",
       "41.9161407477427*-87.80108953862715      21.0\n",
       "41.87287697986768*-87.76473520432339     11.0\n",
       "41.916141758994975*-87.80108810601074     9.0\n",
       "41.84572210812298*-87.7158886197578       4.0\n",
       "Name: mosquito_number, dtype: float64"
      ]
     },
     "execution_count": 58,
     "metadata": {},
     "output_type": "execute_result"
    }
   ],
   "source": [
    "location = location_df.groupby([\"location\"])[\"mosquito_number\"].mean().sort_values(ascending=False)\n",
    "location.sample(5)"
   ]
  },
  {
   "cell_type": "code",
   "execution_count": 59,
   "metadata": {
    "ExecuteTime": {
     "end_time": "2022-06-20T00:19:09.858401Z",
     "start_time": "2022-06-20T00:19:06.547056Z"
    }
   },
   "outputs": [
    {
     "data": {
      "image/png": "[encoded data removed]",
      "text/plain": [
       "<Figure size 1440x360 with 1 Axes>"
      ]
     },
     "metadata": {
      "needs_background": "light"
     },
     "output_type": "display_data"
    }
   ],
   "source": [
    "# ploting the distribution of average mosquitoes with repsect to location\n",
    "plt.figure(figsize=(20,5))\n",
    "plt.bar(location.index,location.values)\n",
    "plt.xlabel(\"location\")\n",
    "plt.xticks([])\n",
    "plt.ylabel(\"Average Mosquitoes Trapped \")\n",
    "plt.title(\"Average Number of mosquitoes Trapped - Location \")\n",
    "plt.grid(axis=\"y\")\n",
    "plt.show()"
   ]
  },
  {
   "cell_type": "markdown",
   "metadata": {},
   "source": [
    "Based on the above distribution , the locations can be grouped with respect to the average number of mosquito trapped ,into following categories:\n",
    "\n",
    "- 1 : 40 and above \n",
    "- 2 : 40 - 30\n",
    "- 3 : 30 - 20\n",
    "- 4 : 20 - 10\n",
    "- 5 : 10 - below"
   ]
  },
  {
   "cell_type": "code",
   "execution_count": 60,
   "metadata": {
    "ExecuteTime": {
     "end_time": "2022-06-20T00:19:09.876349Z",
     "start_time": "2022-06-20T00:19:09.860536Z"
    }
   },
   "outputs": [
    {
     "data": {
      "text/html": [
       "<div>\n",
       "<style scoped>\n",
       "    .dataframe tbody tr th:only-of-type {\n",
       "        vertical-align: middle;\n",
       "    }\n",
       "\n",
       "    .dataframe tbody tr th {\n",
       "        vertical-align: top;\n",
       "    }\n",
       "\n",
       "    .dataframe thead th {\n",
       "        text-align: right;\n",
       "    }\n",
       "</style>\n",
       "<table border=\"1\" class=\"dataframe\">\n",
       "  <thead>\n",
       "    <tr style=\"text-align: right;\">\n",
       "      <th></th>\n",
       "      <th>mosquito_number</th>\n",
       "      <th>location_rank</th>\n",
       "    </tr>\n",
       "    <tr>\n",
       "      <th>location</th>\n",
       "      <th></th>\n",
       "      <th></th>\n",
       "    </tr>\n",
       "  </thead>\n",
       "  <tbody>\n",
       "    <tr>\n",
       "      <th>41.7105447386614*-87.5845579133274</th>\n",
       "      <td>50.0</td>\n",
       "      <td>1</td>\n",
       "    </tr>\n",
       "    <tr>\n",
       "      <th>41.695500343511064*-87.60907264060883</th>\n",
       "      <td>50.0</td>\n",
       "      <td>1</td>\n",
       "    </tr>\n",
       "    <tr>\n",
       "      <th>41.98859546326069*-87.85446932586969</th>\n",
       "      <td>50.0</td>\n",
       "      <td>1</td>\n",
       "    </tr>\n",
       "    <tr>\n",
       "      <th>41.98859595086499*-87.85446626612966</th>\n",
       "      <td>50.0</td>\n",
       "      <td>1</td>\n",
       "    </tr>\n",
       "    <tr>\n",
       "      <th>41.94596751795368*-87.83293978801943</th>\n",
       "      <td>50.0</td>\n",
       "      <td>1</td>\n",
       "    </tr>\n",
       "  </tbody>\n",
       "</table>\n",
       "</div>"
      ],
      "text/plain": [
       "                                       mosquito_number location_rank\n",
       "location                                                            \n",
       "41.7105447386614*-87.5845579133274                50.0             1\n",
       "41.695500343511064*-87.60907264060883             50.0             1\n",
       "41.98859546326069*-87.85446932586969              50.0             1\n",
       "41.98859595086499*-87.85446626612966              50.0             1\n",
       "41.94596751795368*-87.83293978801943              50.0             1"
      ]
     },
     "execution_count": 60,
     "metadata": {},
     "output_type": "execute_result"
    }
   ],
   "source": [
    "location = location.to_frame()\n",
    "# Mapping into groups\n",
    "bins = [0,10,20,30,40,50]\n",
    "labels =[5,4,3,2,1]\n",
    "location[\"location_rank\"] =pd.cut(location[\"mosquito_number\"],bins= bins,labels=labels)\n",
    "location.head()"
   ]
  },
  {
   "cell_type": "markdown",
   "metadata": {},
   "source": [
    "Mapping the location rank into the feature dataframe <b>X<b>"
   ]
  },
  {
   "cell_type": "code",
   "execution_count": 61,
   "metadata": {
    "ExecuteTime": {
     "end_time": "2022-06-20T00:19:09.943920Z",
     "start_time": "2022-06-20T00:19:09.878790Z"
    }
   },
   "outputs": [
    {
     "data": {
      "text/html": [
       "<div>\n",
       "<style scoped>\n",
       "    .dataframe tbody tr th:only-of-type {\n",
       "        vertical-align: middle;\n",
       "    }\n",
       "\n",
       "    .dataframe tbody tr th {\n",
       "        vertical-align: top;\n",
       "    }\n",
       "\n",
       "    .dataframe thead th {\n",
       "        text-align: right;\n",
       "    }\n",
       "</style>\n",
       "<table border=\"1\" class=\"dataframe\">\n",
       "  <thead>\n",
       "    <tr style=\"text-align: right;\">\n",
       "      <th></th>\n",
       "      <th>year</th>\n",
       "      <th>trap_efficiency</th>\n",
       "      <th>trap_type</th>\n",
       "      <th>month</th>\n",
       "      <th>species</th>\n",
       "      <th>location_rank</th>\n",
       "    </tr>\n",
       "  </thead>\n",
       "  <tbody>\n",
       "    <tr>\n",
       "      <th>0</th>\n",
       "      <td>2019</td>\n",
       "      <td>3</td>\n",
       "      <td>1</td>\n",
       "      <td>9</td>\n",
       "      <td>1</td>\n",
       "      <td>4</td>\n",
       "    </tr>\n",
       "    <tr>\n",
       "      <th>1</th>\n",
       "      <td>2019</td>\n",
       "      <td>3</td>\n",
       "      <td>1</td>\n",
       "      <td>9</td>\n",
       "      <td>1</td>\n",
       "      <td>4</td>\n",
       "    </tr>\n",
       "    <tr>\n",
       "      <th>2</th>\n",
       "      <td>2019</td>\n",
       "      <td>3</td>\n",
       "      <td>1</td>\n",
       "      <td>9</td>\n",
       "      <td>1</td>\n",
       "      <td>4</td>\n",
       "    </tr>\n",
       "    <tr>\n",
       "      <th>3</th>\n",
       "      <td>2019</td>\n",
       "      <td>3</td>\n",
       "      <td>1</td>\n",
       "      <td>9</td>\n",
       "      <td>1</td>\n",
       "      <td>4</td>\n",
       "    </tr>\n",
       "    <tr>\n",
       "      <th>4</th>\n",
       "      <td>2019</td>\n",
       "      <td>4</td>\n",
       "      <td>1</td>\n",
       "      <td>9</td>\n",
       "      <td>1</td>\n",
       "      <td>5</td>\n",
       "    </tr>\n",
       "  </tbody>\n",
       "</table>\n",
       "</div>"
      ],
      "text/plain": [
       "   year  trap_efficiency  trap_type  month  species  location_rank\n",
       "0  2019                3          1      9        1              4\n",
       "1  2019                3          1      9        1              4\n",
       "2  2019                3          1      9        1              4\n",
       "3  2019                3          1      9        1              4\n",
       "4  2019                4          1      9        1              5"
      ]
     },
     "execution_count": 61,
     "metadata": {},
     "output_type": "execute_result"
    }
   ],
   "source": [
    "X[\"location\"] = (X[\"lat\"].astype(\"str\"))+\"*\"+(X[\"lon\"].astype(\"str\"))\n",
    "X[\"location_rank\"]= X[\"location\"].map(location.to_dict()[\"location_rank\"])\n",
    "X.drop([\"location\",\"lat\",\"lon\"],axis=1,inplace=True)\n",
    "X.head()"
   ]
  },
  {
   "cell_type": "code",
   "execution_count": 62,
   "metadata": {
    "ExecuteTime": {
     "end_time": "2022-06-20T00:19:10.182931Z",
     "start_time": "2022-06-20T00:19:09.945590Z"
    }
   },
   "outputs": [
    {
     "data": {
      "image/png": "[encoded data removed]",
      "text/plain": [
       "<Figure size 1440x360 with 2 Axes>"
      ]
     },
     "metadata": {
      "needs_background": "light"
     },
     "output_type": "display_data"
    }
   ],
   "source": [
    "# checking the correlation anomg independent data set \n",
    "x_corr = X.corr()\n",
    "mask = np.triu(x_corr)\n",
    "plt.figure(figsize=(20,5))\n",
    "sns.heatmap(x_corr.round(2), annot=True, vmax=1, vmin=-1, cmap=\"coolwarm\", mask=mask)\n",
    "plt.show()"
   ]
  },
  {
   "cell_type": "markdown",
   "metadata": {},
   "source": [
    "####  Model 1.1"
   ]
  },
  {
   "cell_type": "code",
   "execution_count": 63,
   "metadata": {
    "ExecuteTime": {
     "end_time": "2022-06-20T00:19:10.416823Z",
     "start_time": "2022-06-20T00:19:10.185053Z"
    }
   },
   "outputs": [
    {
     "data": {
      "text/html": [
       "<table class=\"simpletable\">\n",
       "<caption>OLS Regression Results</caption>\n",
       "<tr>\n",
       "  <th>Dep. Variable:</th>     <td>mosquito_number</td> <th>  R-squared:         </th> <td>   0.358</td> \n",
       "</tr>\n",
       "<tr>\n",
       "  <th>Model:</th>                   <td>OLS</td>       <th>  Adj. R-squared:    </th> <td>   0.358</td> \n",
       "</tr>\n",
       "<tr>\n",
       "  <th>Method:</th>             <td>Least Squares</td>  <th>  F-statistic:       </th> <td>   1660.</td> \n",
       "</tr>\n",
       "<tr>\n",
       "  <th>Date:</th>             <td>Sun, 19 Jun 2022</td> <th>  Prob (F-statistic):</th>  <td>  0.00</td>  \n",
       "</tr>\n",
       "<tr>\n",
       "  <th>Time:</th>                 <td>20:19:10</td>     <th>  Log-Likelihood:    </th> <td> -67352.</td> \n",
       "</tr>\n",
       "<tr>\n",
       "  <th>No. Observations:</th>      <td> 17837</td>      <th>  AIC:               </th> <td>1.347e+05</td>\n",
       "</tr>\n",
       "<tr>\n",
       "  <th>Df Residuals:</th>          <td> 17830</td>      <th>  BIC:               </th> <td>1.348e+05</td>\n",
       "</tr>\n",
       "<tr>\n",
       "  <th>Df Model:</th>              <td>     6</td>      <th>                     </th>     <td> </td>    \n",
       "</tr>\n",
       "<tr>\n",
       "  <th>Covariance Type:</th>      <td>nonrobust</td>    <th>                     </th>     <td> </td>    \n",
       "</tr>\n",
       "</table>\n",
       "<table class=\"simpletable\">\n",
       "<tr>\n",
       "         <td></td>            <th>coef</th>     <th>std err</th>      <th>t</th>      <th>P>|t|</th>  <th>[0.025</th>    <th>0.975]</th>  \n",
       "</tr>\n",
       "<tr>\n",
       "  <th>const</th>           <td> -478.1667</td> <td>   43.791</td> <td>  -10.919</td> <td> 0.000</td> <td> -564.000</td> <td> -392.333</td>\n",
       "</tr>\n",
       "<tr>\n",
       "  <th>year</th>            <td>    0.2646</td> <td>    0.022</td> <td>   12.181</td> <td> 0.000</td> <td>    0.222</td> <td>    0.307</td>\n",
       "</tr>\n",
       "<tr>\n",
       "  <th>trap_efficiency</th> <td>   -0.2230</td> <td>    0.160</td> <td>   -1.391</td> <td> 0.164</td> <td>   -0.537</td> <td>    0.091</td>\n",
       "</tr>\n",
       "<tr>\n",
       "  <th>trap_type</th>       <td>   -4.1804</td> <td>    0.412</td> <td>  -10.143</td> <td> 0.000</td> <td>   -4.988</td> <td>   -3.373</td>\n",
       "</tr>\n",
       "<tr>\n",
       "  <th>month</th>           <td>   -0.8508</td> <td>    0.079</td> <td>  -10.730</td> <td> 0.000</td> <td>   -1.006</td> <td>   -0.695</td>\n",
       "</tr>\n",
       "<tr>\n",
       "  <th>species</th>         <td>    7.2714</td> <td>    0.324</td> <td>   22.433</td> <td> 0.000</td> <td>    6.636</td> <td>    7.907</td>\n",
       "</tr>\n",
       "<tr>\n",
       "  <th>location_rank</th>   <td>   -8.8462</td> <td>    0.120</td> <td>  -73.635</td> <td> 0.000</td> <td>   -9.082</td> <td>   -8.611</td>\n",
       "</tr>\n",
       "</table>\n",
       "<table class=\"simpletable\">\n",
       "<tr>\n",
       "  <th>Omnibus:</th>       <td>5467.944</td> <th>  Durbin-Watson:     </th> <td>   1.632</td> \n",
       "</tr>\n",
       "<tr>\n",
       "  <th>Prob(Omnibus):</th>  <td> 0.000</td>  <th>  Jarque-Bera (JB):  </th> <td>15819.857</td>\n",
       "</tr>\n",
       "<tr>\n",
       "  <th>Skew:</th>           <td> 1.620</td>  <th>  Prob(JB):          </th> <td>    0.00</td> \n",
       "</tr>\n",
       "<tr>\n",
       "  <th>Kurtosis:</th>       <td> 6.284</td>  <th>  Cond. No.          </th> <td>1.11e+06</td> \n",
       "</tr>\n",
       "</table><br/><br/>Notes:<br/>[1] Standard Errors assume that the covariance matrix of the errors is correctly specified.<br/>[2] The condition number is large, 1.11e+06. This might indicate that there are<br/>strong multicollinearity or other numerical problems."
      ],
      "text/plain": [
       "<class 'statsmodels.iolib.summary.Summary'>\n",
       "\"\"\"\n",
       "                            OLS Regression Results                            \n",
       "==============================================================================\n",
       "Dep. Variable:        mosquito_number   R-squared:                       0.358\n",
       "Model:                            OLS   Adj. R-squared:                  0.358\n",
       "Method:                 Least Squares   F-statistic:                     1660.\n",
       "Date:                Sun, 19 Jun 2022   Prob (F-statistic):               0.00\n",
       "Time:                        20:19:10   Log-Likelihood:                -67352.\n",
       "No. Observations:               17837   AIC:                         1.347e+05\n",
       "Df Residuals:                   17830   BIC:                         1.348e+05\n",
       "Df Model:                           6                                         \n",
       "Covariance Type:            nonrobust                                         \n",
       "===================================================================================\n",
       "                      coef    std err          t      P>|t|      [0.025      0.975]\n",
       "-----------------------------------------------------------------------------------\n",
       "const            -478.1667     43.791    -10.919      0.000    -564.000    -392.333\n",
       "year                0.2646      0.022     12.181      0.000       0.222       0.307\n",
       "trap_efficiency    -0.2230      0.160     -1.391      0.164      -0.537       0.091\n",
       "trap_type          -4.1804      0.412    -10.143      0.000      -4.988      -3.373\n",
       "month              -0.8508      0.079    -10.730      0.000      -1.006      -0.695\n",
       "species             7.2714      0.324     22.433      0.000       6.636       7.907\n",
       "location_rank      -8.8462      0.120    -73.635      0.000      -9.082      -8.611\n",
       "==============================================================================\n",
       "Omnibus:                     5467.944   Durbin-Watson:                   1.632\n",
       "Prob(Omnibus):                  0.000   Jarque-Bera (JB):            15819.857\n",
       "Skew:                           1.620   Prob(JB):                         0.00\n",
       "Kurtosis:                       6.284   Cond. No.                     1.11e+06\n",
       "==============================================================================\n",
       "\n",
       "Notes:\n",
       "[1] Standard Errors assume that the covariance matrix of the errors is correctly specified.\n",
       "[2] The condition number is large, 1.11e+06. This might indicate that there are\n",
       "strong multicollinearity or other numerical problems.\n",
       "\"\"\""
      ]
     },
     "execution_count": 63,
     "metadata": {},
     "output_type": "execute_result"
    }
   ],
   "source": [
    "X_withconstant = sm.add_constant(X)\n",
    "model_lr_first = sm.OLS(Y,X_withconstant.astype(float)).fit()\n",
    "model_lr_first.summary()"
   ]
  },
  {
   "cell_type": "markdown",
   "metadata": {},
   "source": [
    "##### Model Diagnostics\n",
    "\n",
    "1.**Residuals**<br>\n",
    "\n",
    "a. <b>Distribtuion plot\n",
    "    "
   ]
  },
  {
   "cell_type": "code",
   "execution_count": 64,
   "metadata": {
    "ExecuteTime": {
     "end_time": "2022-06-20T00:19:10.595975Z",
     "start_time": "2022-06-20T00:19:10.418717Z"
    }
   },
   "outputs": [
    {
     "data": {
      "image/png": "[encoded data removed]",
      "text/plain": [
       "<Figure size 432x288 with 1 Axes>"
      ]
     },
     "metadata": {
      "needs_background": "light"
     },
     "output_type": "display_data"
    }
   ],
   "source": [
    "# Plotting the residuals of the model 1.1\n",
    "plt.figure()\n",
    "\n",
    "plt.hist(model_lr_first.resid, bins = 35)\n",
    "plt.title('Distribution of residual values')\n",
    "\n",
    "plt.show()"
   ]
  },
  {
   "cell_type": "markdown",
   "metadata": {},
   "source": [
    "The distribution of residual values is close to a normal distribution.However for statistical significance, the Shaprio-Wilk test in conducted next.<br>\n",
    "\n",
    "   b. <b> Shaprio-Wilk test</b>\n",
    "    \n",
    "    $H_0$:redual data are normally distributed.<br> \n",
    "    $H_1$:resudal  are not normally distributed<br>"
   ]
  },
  {
   "cell_type": "code",
   "execution_count": 65,
   "metadata": {
    "ExecuteTime": {
     "end_time": "2022-06-20T00:19:10.604888Z",
     "start_time": "2022-06-20T00:19:10.597900Z"
    }
   },
   "outputs": [
    {
     "name": "stdout",
     "output_type": "stream",
     "text": [
      "Shapiro-Wilk Test:  ShapiroResult(statistic=0.858217716217041, pvalue=0.0)\n"
     ]
    },
    {
     "name": "stderr",
     "output_type": "stream",
     "text": [
      "/Users/apple/opt/anaconda3/lib/python3.8/site-packages/scipy/stats/morestats.py:1681: UserWarning: p-value may not be accurate for N > 5000.\n",
      "  warnings.warn(\"p-value may not be accurate for N > 5000.\")\n"
     ]
    }
   ],
   "source": [
    "# calculating the shapiro test statisic and its p-value\n",
    "print(\"Shapiro-Wilk Test: \", stats.shapiro(model_lr_first.resid))"
   ]
  },
  {
   "cell_type": "markdown",
   "metadata": {},
   "source": [
    "The p-value is 0.0 and is less than 0.05, Therefore we can reject the null hypothesis that the data are normally distributed.\n",
    "\n",
    "\n",
    "   c. <b>Q-Q plot"
   ]
  },
  {
   "cell_type": "code",
   "execution_count": 66,
   "metadata": {
    "ExecuteTime": {
     "end_time": "2022-06-20T00:19:10.789591Z",
     "start_time": "2022-06-20T00:19:10.606998Z"
    },
    "scrolled": true
   },
   "outputs": [
    {
     "data": {
      "image/png": "[encoded data removed]",
      "text/plain": [
       "<Figure size 432x288 with 1 Axes>"
      ]
     },
     "metadata": {
      "needs_background": "light"
     },
     "output_type": "display_data"
    }
   ],
   "source": [
    "# Normal Q-Q plot\n",
    "plt.figure()\n",
    "stats.probplot(model_lr_first.resid, dist=\"norm\", plot = plt);\n",
    "plt.show()"
   ]
  },
  {
   "cell_type": "markdown",
   "metadata": {},
   "source": [
    "2.**Homoscedasticity**<br>"
   ]
  },
  {
   "cell_type": "code",
   "execution_count": 67,
   "metadata": {
    "ExecuteTime": {
     "end_time": "2022-06-20T00:19:10.986808Z",
     "start_time": "2022-06-20T00:19:10.791432Z"
    }
   },
   "outputs": [
    {
     "data": {
      "image/png": "[encoded data removed]",
      "text/plain": [
       "<Figure size 432x288 with 1 Axes>"
      ]
     },
     "metadata": {
      "needs_background": "light"
     },
     "output_type": "display_data"
    }
   ],
   "source": [
    "# Plot the residuals and the predicted values\n",
    "plt.figure()\n",
    "plt.scatter(model_lr_first.fittedvalues, model_lr_first.resid)\n",
    "plt.xlabel('Fitted values')\n",
    "plt.ylabel('Residuals')\n",
    "plt.show()"
   ]
  },
  {
   "cell_type": "markdown",
   "metadata": {},
   "source": [
    "The residuals clearly do not look like random noise and exhibit a strong pattern. Therefore it violate the assumptions of linear regression that variance of error terms are similar across the values of the independent variables."
   ]
  },
  {
   "cell_type": "markdown",
   "metadata": {
    "ExecuteTime": {
     "end_time": "2022-06-20T00:15:06.315882Z",
     "start_time": "2022-06-20T00:15:06.285812Z"
    }
   },
   "source": [
    "Firstly, we can say that the equation of the model is\n",
    "𝑦=−13.963+0.098𝑥1+1.148𝑥2+1.858𝑥3+0.048𝑥4\n",
    "y\n",
    "=\n",
    "−\n",
    "13.963\n",
    "+\n",
    "0.098\n",
    "x\n",
    "1\n",
    "+\n",
    "1.148\n",
    "x\n",
    "2\n",
    "+\n",
    "1.858\n",
    "x\n",
    "3\n",
    "+\n",
    "0.048\n",
    "x\n",
    "4\n",
    " \n",
    "Based on the p-values associated with every variable, we can see that Urban_pop and Liquor_consumption_per_capita don't seem significant in predicting the cirrhosis death rate (p-values are > 0.05).\n",
    "In contrast,Wine_consumption_per_capita seems to be very significant (p-value is 0) and Late_births is right on the border with a p-value of 0.056.\n",
    "The interpretations for each variable are as follows: Assuming all other variables stay constant (very important!),\n",
    "With one unit increase in urban population size, there is a 0.098 increase in the cirrhosis death rate\n",
    "With one unit increase in late births, there is a 1.148 increase in the cirrhosis death rate\n",
    "With one unit increase in the consumption of wine per capita, there is a 1.858 increase in the cirrhosis death rate\n",
    "With one unit increase in the consumption of hard liquor per capita, there is a 0.048 increase in the cirrhosis death rate\n",
    "The interpretation of the intercept here is not possible. This is because the value is negative, which is not a possible rate to have."
   ]
  },
  {
   "cell_type": "markdown",
   "metadata": {},
   "source": [
    "#### Model 1.2"
   ]
  },
  {
   "cell_type": "markdown",
   "metadata": {},
   "source": [
    "As per outcome from the  model 1.1 , it is clear that the certain features need to be dropped for the model to be more robust.Based on this conclusion , the `location_rank` and `year` columns are dropped in this model because of the following reason \n",
    "- correlation coefficient of the `location_rank` with `trap efficiency` is above 0.5\n",
    "- the weekly trend for the mosquitoes number is close to similar across all the years as show in the graph below except for the year 2007 ,2014 and 2016 where the summer experience the extreme counts."
   ]
  },
  {
   "cell_type": "code",
   "execution_count": 68,
   "metadata": {
    "ExecuteTime": {
     "end_time": "2022-06-20T00:19:11.375297Z",
     "start_time": "2022-06-20T00:19:11.004222Z"
    }
   },
   "outputs": [
    {
     "data": {
      "image/png": "[encoded data removed]",
      "text/plain": [
       "<Figure size 1440x360 with 2 Axes>"
      ]
     },
     "metadata": {
      "needs_background": "light"
     },
     "output_type": "display_data"
    }
   ],
   "source": [
    "year_week_df = mosquito_df[[\"mosquito_number\",\"week\",\"year\"]]\n",
    "year_week_df=year_week_df.groupby([\"year\",\"week\"]).agg({\"mosquito_number\":[\"sum\"]}).unstack()\n",
    "year_week_df.columns = range(22,42)\n",
    "\n",
    "plt.figure(figsize=(20,5))\n",
    "sns.heatmap(year_week_df,cmap=\"crest\")\n",
    "plt.xlabel(\"Week\")\n",
    "plt.title(\"Week - Year  relationship with respect to mosquito trapped \")\n",
    "plt.show()"
   ]
  },
  {
   "cell_type": "markdown",
   "metadata": {},
   "source": [
    "**Feature modification-2 based on above inference**\n",
    "\n",
    "1. Dropping the `year` and `location_rank`column"
   ]
  },
  {
   "cell_type": "code",
   "execution_count": 69,
   "metadata": {
    "ExecuteTime": {
     "end_time": "2022-06-20T00:19:11.391900Z",
     "start_time": "2022-06-20T00:19:11.384866Z"
    }
   },
   "outputs": [
    {
     "data": {
      "text/html": [
       "<div>\n",
       "<style scoped>\n",
       "    .dataframe tbody tr th:only-of-type {\n",
       "        vertical-align: middle;\n",
       "    }\n",
       "\n",
       "    .dataframe tbody tr th {\n",
       "        vertical-align: top;\n",
       "    }\n",
       "\n",
       "    .dataframe thead th {\n",
       "        text-align: right;\n",
       "    }\n",
       "</style>\n",
       "<table border=\"1\" class=\"dataframe\">\n",
       "  <thead>\n",
       "    <tr style=\"text-align: right;\">\n",
       "      <th></th>\n",
       "      <th>trap_efficiency</th>\n",
       "      <th>trap_type</th>\n",
       "      <th>month</th>\n",
       "      <th>species</th>\n",
       "      <th>location_rank</th>\n",
       "    </tr>\n",
       "  </thead>\n",
       "  <tbody>\n",
       "    <tr>\n",
       "      <th>0</th>\n",
       "      <td>3</td>\n",
       "      <td>1</td>\n",
       "      <td>9</td>\n",
       "      <td>1</td>\n",
       "      <td>4</td>\n",
       "    </tr>\n",
       "    <tr>\n",
       "      <th>1</th>\n",
       "      <td>3</td>\n",
       "      <td>1</td>\n",
       "      <td>9</td>\n",
       "      <td>1</td>\n",
       "      <td>4</td>\n",
       "    </tr>\n",
       "    <tr>\n",
       "      <th>2</th>\n",
       "      <td>3</td>\n",
       "      <td>1</td>\n",
       "      <td>9</td>\n",
       "      <td>1</td>\n",
       "      <td>4</td>\n",
       "    </tr>\n",
       "    <tr>\n",
       "      <th>3</th>\n",
       "      <td>3</td>\n",
       "      <td>1</td>\n",
       "      <td>9</td>\n",
       "      <td>1</td>\n",
       "      <td>4</td>\n",
       "    </tr>\n",
       "    <tr>\n",
       "      <th>4</th>\n",
       "      <td>4</td>\n",
       "      <td>1</td>\n",
       "      <td>9</td>\n",
       "      <td>1</td>\n",
       "      <td>5</td>\n",
       "    </tr>\n",
       "  </tbody>\n",
       "</table>\n",
       "</div>"
      ],
      "text/plain": [
       "   trap_efficiency  trap_type  month  species  location_rank\n",
       "0                3          1      9        1              4\n",
       "1                3          1      9        1              4\n",
       "2                3          1      9        1              4\n",
       "3                3          1      9        1              4\n",
       "4                4          1      9        1              5"
      ]
     },
     "execution_count": 69,
     "metadata": {},
     "output_type": "execute_result"
    }
   ],
   "source": [
    "X_new = X.drop([\"year\"],axis=1)\n",
    "X_new.head()"
   ]
  },
  {
   "cell_type": "markdown",
   "metadata": {},
   "source": [
    "**Creating the model  with the new data set**"
   ]
  },
  {
   "cell_type": "code",
   "execution_count": 70,
   "metadata": {
    "ExecuteTime": {
     "end_time": "2022-06-20T00:19:11.421370Z",
     "start_time": "2022-06-20T00:19:11.393802Z"
    }
   },
   "outputs": [
    {
     "data": {
      "text/html": [
       "<table class=\"simpletable\">\n",
       "<caption>OLS Regression Results</caption>\n",
       "<tr>\n",
       "  <th>Dep. Variable:</th>     <td>mosquito_number</td> <th>  R-squared:         </th> <td>   0.353</td> \n",
       "</tr>\n",
       "<tr>\n",
       "  <th>Model:</th>                   <td>OLS</td>       <th>  Adj. R-squared:    </th> <td>   0.353</td> \n",
       "</tr>\n",
       "<tr>\n",
       "  <th>Method:</th>             <td>Least Squares</td>  <th>  F-statistic:       </th> <td>   1946.</td> \n",
       "</tr>\n",
       "<tr>\n",
       "  <th>Date:</th>             <td>Sun, 19 Jun 2022</td> <th>  Prob (F-statistic):</th>  <td>  0.00</td>  \n",
       "</tr>\n",
       "<tr>\n",
       "  <th>Time:</th>                 <td>20:19:11</td>     <th>  Log-Likelihood:    </th> <td> -67425.</td> \n",
       "</tr>\n",
       "<tr>\n",
       "  <th>No. Observations:</th>      <td> 17837</td>      <th>  AIC:               </th> <td>1.349e+05</td>\n",
       "</tr>\n",
       "<tr>\n",
       "  <th>Df Residuals:</th>          <td> 17831</td>      <th>  BIC:               </th> <td>1.349e+05</td>\n",
       "</tr>\n",
       "<tr>\n",
       "  <th>Df Model:</th>              <td>     5</td>      <th>                     </th>     <td> </td>    \n",
       "</tr>\n",
       "<tr>\n",
       "  <th>Covariance Type:</th>      <td>nonrobust</td>    <th>                     </th>     <td> </td>    \n",
       "</tr>\n",
       "</table>\n",
       "<table class=\"simpletable\">\n",
       "<tr>\n",
       "         <td></td>            <th>coef</th>     <th>std err</th>      <th>t</th>      <th>P>|t|</th>  <th>[0.025</th>    <th>0.975]</th>  \n",
       "</tr>\n",
       "<tr>\n",
       "  <th>const</th>           <td>   55.1220</td> <td>    0.934</td> <td>   58.997</td> <td> 0.000</td> <td>   53.291</td> <td>   56.953</td>\n",
       "</tr>\n",
       "<tr>\n",
       "  <th>trap_efficiency</th> <td>   -0.3776</td> <td>    0.160</td> <td>   -2.353</td> <td> 0.019</td> <td>   -0.692</td> <td>   -0.063</td>\n",
       "</tr>\n",
       "<tr>\n",
       "  <th>trap_type</th>       <td>   -3.3307</td> <td>    0.408</td> <td>   -8.166</td> <td> 0.000</td> <td>   -4.130</td> <td>   -2.531</td>\n",
       "</tr>\n",
       "<tr>\n",
       "  <th>month</th>           <td>   -0.9408</td> <td>    0.079</td> <td>  -11.867</td> <td> 0.000</td> <td>   -1.096</td> <td>   -0.785</td>\n",
       "</tr>\n",
       "<tr>\n",
       "  <th>species</th>         <td>    7.3379</td> <td>    0.325</td> <td>   22.548</td> <td> 0.000</td> <td>    6.700</td> <td>    7.976</td>\n",
       "</tr>\n",
       "<tr>\n",
       "  <th>location_rank</th>   <td>   -8.9184</td> <td>    0.120</td> <td>  -74.021</td> <td> 0.000</td> <td>   -9.155</td> <td>   -8.682</td>\n",
       "</tr>\n",
       "</table>\n",
       "<table class=\"simpletable\">\n",
       "<tr>\n",
       "  <th>Omnibus:</th>       <td>5403.361</td> <th>  Durbin-Watson:     </th> <td>   1.615</td> \n",
       "</tr>\n",
       "<tr>\n",
       "  <th>Prob(Omnibus):</th>  <td> 0.000</td>  <th>  Jarque-Bera (JB):  </th> <td>15412.027</td>\n",
       "</tr>\n",
       "<tr>\n",
       "  <th>Skew:</th>           <td> 1.607</td>  <th>  Prob(JB):          </th> <td>    0.00</td> \n",
       "</tr>\n",
       "<tr>\n",
       "  <th>Kurtosis:</th>       <td> 6.227</td>  <th>  Cond. No.          </th> <td>    117.</td> \n",
       "</tr>\n",
       "</table><br/><br/>Notes:<br/>[1] Standard Errors assume that the covariance matrix of the errors is correctly specified."
      ],
      "text/plain": [
       "<class 'statsmodels.iolib.summary.Summary'>\n",
       "\"\"\"\n",
       "                            OLS Regression Results                            \n",
       "==============================================================================\n",
       "Dep. Variable:        mosquito_number   R-squared:                       0.353\n",
       "Model:                            OLS   Adj. R-squared:                  0.353\n",
       "Method:                 Least Squares   F-statistic:                     1946.\n",
       "Date:                Sun, 19 Jun 2022   Prob (F-statistic):               0.00\n",
       "Time:                        20:19:11   Log-Likelihood:                -67425.\n",
       "No. Observations:               17837   AIC:                         1.349e+05\n",
       "Df Residuals:                   17831   BIC:                         1.349e+05\n",
       "Df Model:                           5                                         \n",
       "Covariance Type:            nonrobust                                         \n",
       "===================================================================================\n",
       "                      coef    std err          t      P>|t|      [0.025      0.975]\n",
       "-----------------------------------------------------------------------------------\n",
       "const              55.1220      0.934     58.997      0.000      53.291      56.953\n",
       "trap_efficiency    -0.3776      0.160     -2.353      0.019      -0.692      -0.063\n",
       "trap_type          -3.3307      0.408     -8.166      0.000      -4.130      -2.531\n",
       "month              -0.9408      0.079    -11.867      0.000      -1.096      -0.785\n",
       "species             7.3379      0.325     22.548      0.000       6.700       7.976\n",
       "location_rank      -8.9184      0.120    -74.021      0.000      -9.155      -8.682\n",
       "==============================================================================\n",
       "Omnibus:                     5403.361   Durbin-Watson:                   1.615\n",
       "Prob(Omnibus):                  0.000   Jarque-Bera (JB):            15412.027\n",
       "Skew:                           1.607   Prob(JB):                         0.00\n",
       "Kurtosis:                       6.227   Cond. No.                         117.\n",
       "==============================================================================\n",
       "\n",
       "Notes:\n",
       "[1] Standard Errors assume that the covariance matrix of the errors is correctly specified.\n",
       "\"\"\""
      ]
     },
     "execution_count": 70,
     "metadata": {},
     "output_type": "execute_result"
    }
   ],
   "source": [
    "X_new_withconstant = sm.add_constant(X_new)\n",
    "model_lr_second = sm.OLS(Y,X_new_withconstant.astype(float)).fit()\n",
    "model_lr_second.summary()"
   ]
  },
  {
   "cell_type": "markdown",
   "metadata": {},
   "source": [
    "##### Model Diagnostics\n",
    "\n",
    "1.**Residuals**<br>\n",
    "\n",
    "a. <b>Distribtuion plot\n",
    "    "
   ]
  },
  {
   "cell_type": "code",
   "execution_count": 71,
   "metadata": {
    "ExecuteTime": {
     "end_time": "2022-06-20T00:19:12.031386Z",
     "start_time": "2022-06-20T00:19:11.873020Z"
    }
   },
   "outputs": [
    {
     "data": {
      "image/png": "[encoded data removed]",
      "text/plain": [
       "<Figure size 432x288 with 1 Axes>"
      ]
     },
     "metadata": {
      "needs_background": "light"
     },
     "output_type": "display_data"
    }
   ],
   "source": [
    "# Plotting the residuals of the model 1.1\n",
    "plt.figure()\n",
    "\n",
    "plt.hist(model_lr_second.resid, bins = 35)\n",
    "plt.title('Distribution of residual values')\n",
    "\n",
    "plt.show()"
   ]
  },
  {
   "cell_type": "markdown",
   "metadata": {},
   "source": [
    "The distribution of residual values is close to a normal distribution.However for statistical significance, the Shaprio-Wilk test in conducted next.<br>\n",
    "\n",
    "   b. <b> Shaprio-Wilk test</b>\n",
    "    \n",
    "    $H_0$:redual data are normally distributed.\n",
    "    $H_1$:resudal  are not normally distributed"
   ]
  },
  {
   "cell_type": "code",
   "execution_count": 72,
   "metadata": {
    "ExecuteTime": {
     "end_time": "2022-06-20T00:19:12.038416Z",
     "start_time": "2022-06-20T00:19:12.033365Z"
    }
   },
   "outputs": [
    {
     "name": "stdout",
     "output_type": "stream",
     "text": [
      "Shapiro-Wilk Test:  ShapiroResult(statistic=0.858217716217041, pvalue=0.0)\n"
     ]
    },
    {
     "name": "stderr",
     "output_type": "stream",
     "text": [
      "/Users/apple/opt/anaconda3/lib/python3.8/site-packages/scipy/stats/morestats.py:1681: UserWarning: p-value may not be accurate for N > 5000.\n",
      "  warnings.warn(\"p-value may not be accurate for N > 5000.\")\n"
     ]
    }
   ],
   "source": [
    "# calculating the shapiro test statisic and its p-value\n",
    "print(\"Shapiro-Wilk Test: \", stats.shapiro(model_lr_first.resid))"
   ]
  },
  {
   "cell_type": "markdown",
   "metadata": {},
   "source": [
    "The p-value is 0.0 and is less than 0.05, Therefore we can reject the null hypothesis that the data are normally distributed.\n",
    "\n",
    "\n",
    "   c. <b>Q-Q plot"
   ]
  },
  {
   "cell_type": "code",
   "execution_count": 73,
   "metadata": {
    "ExecuteTime": {
     "end_time": "2022-06-20T00:19:12.189573Z",
     "start_time": "2022-06-20T00:19:12.040407Z"
    },
    "scrolled": true
   },
   "outputs": [
    {
     "data": {
      "image/png": "[encoded data removed]",
      "text/plain": [
       "<Figure size 432x288 with 1 Axes>"
      ]
     },
     "metadata": {
      "needs_background": "light"
     },
     "output_type": "display_data"
    }
   ],
   "source": [
    "# Normal Q-Q plot\n",
    "plt.figure()\n",
    "stats.probplot(model_lr_second.resid, dist=\"norm\", plot = plt);\n",
    "plt.show()"
   ]
  },
  {
   "cell_type": "markdown",
   "metadata": {},
   "source": [
    "2.**Homoscedasticity**<br>"
   ]
  },
  {
   "cell_type": "code",
   "execution_count": 74,
   "metadata": {
    "ExecuteTime": {
     "end_time": "2022-06-20T00:19:12.328035Z",
     "start_time": "2022-06-20T00:19:12.191441Z"
    }
   },
   "outputs": [
    {
     "data": {
      "image/png": "[encoded data removed]",
      "text/plain": [
       "<Figure size 432x288 with 1 Axes>"
      ]
     },
     "metadata": {
      "needs_background": "light"
     },
     "output_type": "display_data"
    }
   ],
   "source": [
    "# Plot the residuals and the predicted values\n",
    "plt.figure()\n",
    "plt.scatter(model_lr_second.fittedvalues, model_lr_second.resid)\n",
    "plt.xlabel('Fitted values')\n",
    "plt.ylabel('Residuals')\n",
    "plt.show()"
   ]
  },
  {
   "cell_type": "markdown",
   "metadata": {},
   "source": [
    "##### Model Diagnostics\n",
    "\n",
    "1.**Residuals**<br>\n",
    "\n",
    "a. <b>Distribtuion plot\n",
    "    "
   ]
  },
  {
   "cell_type": "code",
   "execution_count": 75,
   "metadata": {
    "ExecuteTime": {
     "end_time": "2022-06-20T00:19:12.031386Z",
     "start_time": "2022-06-20T00:19:11.873020Z"
    }
   },
   "outputs": [
    {
     "data": {
      "image/png": "[encoded data removed]",
      "text/plain": [
       "<Figure size 432x288 with 1 Axes>"
      ]
     },
     "metadata": {
      "needs_background": "light"
     },
     "output_type": "display_data"
    }
   ],
   "source": [
    "# Plotting the residuals of the model 1.1\n",
    "plt.figure()\n",
    "\n",
    "plt.hist(model_lr_first.resid, bins = 35)\n",
    "plt.title('Distribution of residual values')\n",
    "\n",
    "plt.show()"
   ]
  },
  {
   "cell_type": "markdown",
   "metadata": {},
   "source": [
    "The distribution of residual values is close to a normal distribution.However for statistical significance, the Shaprio-Wilk test in conducted next.<br>\n",
    "\n",
    "   b. <b> Shaprio-Wilk test</b>\n",
    "    \n",
    "    $H_0$:redual data are normally distributed.<br> \n",
    "    $H_1$:resudal  are not normally distributed<br>"
   ]
  },
  {
   "cell_type": "code",
   "execution_count": 76,
   "metadata": {
    "ExecuteTime": {
     "end_time": "2022-06-20T00:19:12.038416Z",
     "start_time": "2022-06-20T00:19:12.033365Z"
    }
   },
   "outputs": [
    {
     "name": "stdout",
     "output_type": "stream",
     "text": [
      "Shapiro-Wilk Test:  ShapiroResult(statistic=0.858217716217041, pvalue=0.0)\n"
     ]
    },
    {
     "name": "stderr",
     "output_type": "stream",
     "text": [
      "/Users/apple/opt/anaconda3/lib/python3.8/site-packages/scipy/stats/morestats.py:1681: UserWarning: p-value may not be accurate for N > 5000.\n",
      "  warnings.warn(\"p-value may not be accurate for N > 5000.\")\n"
     ]
    }
   ],
   "source": [
    "# calculating the shapiro test statisic and its p-value\n",
    "print(\"Shapiro-Wilk Test: \", stats.shapiro(model_lr_first.resid))"
   ]
  },
  {
   "cell_type": "markdown",
   "metadata": {},
   "source": [
    "The p-value is 0.0 and is less than 0.05, Therefore we can reject the null hypothesis that the data are normally distributed.\n",
    "\n",
    "\n",
    "   c. <b>Q-Q plot"
   ]
  },
  {
   "cell_type": "code",
   "execution_count": 77,
   "metadata": {
    "ExecuteTime": {
     "end_time": "2022-06-20T00:19:12.189573Z",
     "start_time": "2022-06-20T00:19:12.040407Z"
    },
    "scrolled": true
   },
   "outputs": [
    {
     "data": {
      "image/png": "[encoded data removed]",
      "text/plain": [
       "<Figure size 432x288 with 1 Axes>"
      ]
     },
     "metadata": {
      "needs_background": "light"
     },
     "output_type": "display_data"
    }
   ],
   "source": [
    "# Normal Q-Q plot\n",
    "plt.figure()\n",
    "stats.probplot(model_lr_first.resid, dist=\"norm\", plot = plt);\n",
    "plt.show()"
   ]
  },
  {
   "cell_type": "markdown",
   "metadata": {},
   "source": [
    "2.**Homoscedasticity**<br>"
   ]
  },
  {
   "cell_type": "code",
   "execution_count": 78,
   "metadata": {
    "ExecuteTime": {
     "end_time": "2022-06-20T00:19:12.328035Z",
     "start_time": "2022-06-20T00:19:12.191441Z"
    }
   },
   "outputs": [
    {
     "data": {
      "image/png": "[encoded data removed]",
      "text/plain": [
       "<Figure size 432x288 with 1 Axes>"
      ]
     },
     "metadata": {
      "needs_background": "light"
     },
     "output_type": "display_data"
    }
   ],
   "source": [
    "# Plot the residuals and the predicted values\n",
    "plt.figure()\n",
    "plt.scatter(model_lr_first.fittedvalues, model_lr_first.resid)\n",
    "plt.xlabel('Fitted values')\n",
    "plt.ylabel('Residuals')\n",
    "plt.show()"
   ]
  }
 ],
 "metadata": {
  "kernelspec": {
   "display_name": "Python 3",
   "language": "python",
   "name": "python3"
  },
  "language_info": {
   "codemirror_mode": {
    "name": "ipython",
    "version": 3
   },
   "file_extension": ".py",
   "mimetype": "text/x-python",
   "name": "python",
   "nbconvert_exporter": "python",
   "pygments_lexer": "ipython3",
   "version": "3.8.5"
  },
  "toc": {
   "base_numbering": 1,
   "nav_menu": {},
   "number_sections": true,
   "sideBar": true,
   "skip_h1_title": false,
   "title_cell": "Table of Contents",
   "title_sidebar": "Contents",
   "toc_cell": false,
   "toc_position": {},
   "toc_section_display": true,
   "toc_window_display": false
  },
  "varInspector": {
   "cols": {
    "lenName": 16,
    "lenType": 16,
    "lenVar": 40
   },
   "kernels_config": {
    "python": {
     "delete_cmd_postfix": "",
     "delete_cmd_prefix": "del ",
     "library": "var_list.py",
     "varRefreshCmd": "print(var_dic_list())"
    },
    "r": {
     "delete_cmd_postfix": ") ",
     "delete_cmd_prefix": "rm(",
     "library": "var_list.r",
     "varRefreshCmd": "cat(var_dic_list()) "
    }
   },
   "types_to_exclude": [
    "module",
    "function",
    "builtin_function_or_method",
    "instance",
    "_Feature"
   ],
   "window_display": false
  }
 },
 "nbformat": 4,
 "nbformat_minor": 4
}
